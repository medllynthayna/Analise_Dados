{
  "nbformat": 4,
  "nbformat_minor": 0,
  "metadata": {
    "kernelspec": {
      "display_name": "Python 3",
      "language": "python",
      "name": "python3"
    },
    "language_info": {
      "codemirror_mode": {
        "name": "ipython",
        "version": 3
      },
      "file_extension": ".py",
      "mimetype": "text/x-python",
      "name": "python",
      "nbconvert_exporter": "python",
      "pygments_lexer": "ipython3",
      "version": "3.7.4"
    },
    "colab": {
      "name": "exercício_titanic_numpy.ipynb",
      "provenance": [],
      "toc_visible": true,
      "include_colab_link": true
    }
  },
  "cells": [
    {
      "cell_type": "markdown",
      "metadata": {
        "id": "view-in-github",
        "colab_type": "text"
      },
      "source": [
        "<a href=\"https://colab.research.google.com/github/medllynthayna/Analise_Dados/blob/master/exerc%C3%ADcio_titanic_numpy.ipynb\" target=\"_parent\"><img src=\"https://colab.research.google.com/assets/colab-badge.svg\" alt=\"Open In Colab\"/></a>"
      ]
    },
    {
      "cell_type": "markdown",
      "metadata": {
        "id": "yLlaPIXOB1ki",
        "colab_type": "text"
      },
      "source": [
        "![titanic](img/titanic_historical.jpg \"Pintura do Titanic\")\n",
        "\n",
        "# EXERCÍCIOS: Análise de Dados do Titanic"
      ]
    },
    {
      "cell_type": "code",
      "metadata": {
        "id": "EzR2WJeGCDC2",
        "colab_type": "code",
        "colab": {
          "base_uri": "https://localhost:8080/",
          "height": 124
        },
        "outputId": "dd43571d-5d63-45d6-c159-b4b4ef320919"
      },
      "source": [
        "from google.colab import drive\n",
        "drive.mount('/content/drive')"
      ],
      "execution_count": null,
      "outputs": [
        {
          "output_type": "stream",
          "text": [
            "Go to this URL in a browser: https://accounts.google.com/o/oauth2/auth?client_id=947318989803-6bn6qk8qdgf4n4g3pfee6491hc0brc4i.apps.googleusercontent.com&redirect_uri=urn%3aietf%3awg%3aoauth%3a2.0%3aoob&response_type=code&scope=email%20https%3a%2f%2fwww.googleapis.com%2fauth%2fdocs.test%20https%3a%2f%2fwww.googleapis.com%2fauth%2fdrive%20https%3a%2f%2fwww.googleapis.com%2fauth%2fdrive.photos.readonly%20https%3a%2f%2fwww.googleapis.com%2fauth%2fpeopleapi.readonly\n",
            "\n",
            "Enter your authorization code:\n",
            "··········\n",
            "Mounted at /content/drive\n"
          ],
          "name": "stdout"
        }
      ]
    },
    {
      "cell_type": "markdown",
      "metadata": {
        "id": "GCfaDKcLB1kk",
        "colab_type": "text"
      },
      "source": [
        "O RMS Titanic foi um navio de passageiros britânico operado pela empresa *White Star Line* que afundou no Oceano Atlântico Norte nas primeiras horas da manhã de 15 de abril de 1912, depois de atingir um iceberg durante sua viagem inaugural de Southampton a Nova York. Dos 2.224 passageiros e tripulantes a bordo, mais de 1.500 morreram, tornando o naufrágio um dos desastres marítimos comerciais mais mortais da história moderna em tempos de paz.\n",
        "\n",
        "Neste estudo iremos explorar um conjunto de dados baseado na lista de passageiros do Titanic editada por Michael A. Findlay, publicada originalmente em Eaton & Haas (1994) Titanic: Triumph and Tragedy, Patrick Stephens Ltd, e expandida com a ajuda da comunidade da Internet. Os arquivos HTML originais foram obtidos por Philip Hind (1999) e o *dataset* descreve o status de sobrevivência de passageiros individuais no Titanic. Ele não contém informações para a tripulação, mas contém idades atuais e estimadas para quase 80% dos passageiros."
      ]
    },
    {
      "cell_type": "markdown",
      "metadata": {
        "id": "pYRIBACmB1kl",
        "colab_type": "text"
      },
      "source": [
        "## Dicionário de Dados\n",
        "\n",
        "Nesta seção será apresentado todo o processo de preparação, organização e limpeza de dados feito no *dataset* que possui os seguintes dados:\n",
        "\n",
        "| Nº | Coluna          | Descrição                                                                 |\n",
        "|:--:|:----------------|:--------------------------------------------------------------------------|\n",
        "|  1 | id_passageiro   | Identficador único do passageiro.                                         |\n",
        "|  2 | classe          | Classe social.                                                            |\n",
        "|  3 | sobreviveu      | Sobrevivente? Sim (1), Não (0).                                           |\n",
        "|  4 | nome            | Nome do passageiro.                                                       |\n",
        "|  5 | sexo            | Masculino (male), Feminino (female).                                      |\n",
        "|  6 | idade           | Idade do passageiro.                                                      |\n",
        "|  7 | irmaos_conjuges | Número de irmãos e cônjuges a bordo.                                      |\n",
        "|  8 | pais_filhos     | Número de pais e filhos a bordo.                                          |\n",
        "|  9 | bilhete         | Número do bilhete                                                         |\n",
        "| 10 | tarifa          | Preço da tarifa do passageiro.                                            |\n",
        "| 11 | cabine          | Cabine.                                                                   |\n",
        "| 12 | embarque        | Nome do porto de embarque: C = Cherbourg; Q = Queenstown; S = Southampton |\n",
        "| 13 | bote            | Bote salva vidas.                                                         |\n",
        "| 14 | corpo           | Número de identificação do corpo.                                         |\n",
        "| 15 | destino         | Local de desembarque do passageiro.                                       |\n",
        "\n",
        "### OBSERVAÇÕES\n",
        "\n",
        "- `classe` é uma aproximação do status socioeconômico na época, onde: 1 = Classe Alta1; 2 = Classe Média e 3 = Classe Baixa;\n",
        "- `idade` está representada em anos, porém, se a idade for menor que Um (1) ou caso tenha sido estimada, ela estará com casas decimais xx.5;\n",
        "- `tarifa` está em Libras esterlinas (British Pounds - £) anteriores a 1970;\n",
        "- `irmaos_conjuges` e `pais_filhos`: as variáveis de relação familiar de algumas relações foram ignoradas; a seguir estão as definições usadas:\n",
        "    - **Irmão**: Irmão, irmã, meio-irmão ou meia-irmã do passageiro a bordo do Titanic;\n",
        "    - **Cônjuge**: Marido ou esposa do passageiro a bordo do Titanic (amantes e noivos ignorados);\n",
        "    - **Pai**: Mãe ou pai do passageiro a bordo do Titanic;\n",
        "    - **Criança**: Filho, Filha, Enteado ou Enteada do Passageiro a bordo do Titanic;\n",
        "    - Outros parentes excluídos deste estudo incluem primos, sobrinhos / sobrinhas, tias / tios e parentes;\n",
        "    - Algumas crianças viajavam apenas com uma babá, portanto foi atribuído 0 para elas em pais_filhos; \n",
        "    - Alguns viajaram com amigos ou vizinhos muito próximos em uma vila, no entanto, as definições não apóiam essas relações.\n"
      ]
    },
    {
      "cell_type": "markdown",
      "metadata": {
        "id": "F6s8YHkgB1km",
        "colab_type": "text"
      },
      "source": [
        "## Exercícios\n",
        "Faça as questões abaixo usando somente a biblioteca [Numpy](https://numpy.org/)."
      ]
    },
    {
      "cell_type": "markdown",
      "metadata": {
        "id": "fMCz-CDnB1kn",
        "colab_type": "text"
      },
      "source": [
        "1. Importe o pacote numpy com o nome np."
      ]
    },
    {
      "cell_type": "code",
      "metadata": {
        "id": "nDE5c-ddB1ko",
        "colab_type": "code",
        "colab": {}
      },
      "source": [
        "import numpy as np\n"
      ],
      "execution_count": 7,
      "outputs": []
    },
    {
      "cell_type": "markdown",
      "metadata": {
        "id": "n5eBVhfKB1kt",
        "colab_type": "text"
      },
      "source": [
        "2. Carregue o conjunto de dados disponível na pasta [data/titanic3.csv](data/titanic3.csv), ignorando as colunas: `cabine`, `bote`, `corpo` e `destino`. **Importante:** o arquivo `.csv` usa tabulação (`\\t`) como delimitador de campos."
      ]
    },
    {
      "cell_type": "code",
      "metadata": {
        "id": "lqulY1T_B1kv",
        "colab_type": "code",
        "colab": {
          "base_uri": "https://localhost:8080/",
          "height": 156
        },
        "outputId": "f2c1b98c-568e-4fff-a1de-12d3deb44e73"
      },
      "source": [
        "dados = np.genfromtxt('/content/titanic3.csv',\n",
        "                      delimiter='\\t',\n",
        "                      encoding='utf-8',\n",
        "                      dtype=object,\n",
        "                      skip_header=True,\n",
        "                      usecols=[0, 1, 2, 4, 5, 6, 7, 8, 9, 11])\n",
        "dados "
      ],
      "execution_count": 9,
      "outputs": [
        {
          "output_type": "execute_result",
          "data": {
            "text/plain": [
              "array([[b'1', b'1', b'1', ..., b'24160', b'211.3375', b'S'],\n",
              "       [b'2', b'1', b'1', ..., b'113781', b'151.5500', b'S'],\n",
              "       [b'3', b'1', b'0', ..., b'113781', b'151.5500', b'S'],\n",
              "       ...,\n",
              "       [b'1307', b'3', b'0', ..., b'2656', b'7225.0000', b'C'],\n",
              "       [b'1308', b'3', b'0', ..., b'2670', b'7225.0000', b'C'],\n",
              "       [b'1309', b'3', b'0', ..., b'315082', b'7875.0000', b'S']],\n",
              "      dtype=object)"
            ]
          },
          "metadata": {
            "tags": []
          },
          "execution_count": 9
        }
      ]
    },
    {
      "cell_type": "markdown",
      "metadata": {
        "id": "fMUH8bN5B1k0",
        "colab_type": "text"
      },
      "source": [
        "3. Quantas linhas foram lidas do arquivo?"
      ]
    },
    {
      "cell_type": "code",
      "metadata": {
        "id": "pZr12CduB1k1",
        "colab_type": "code",
        "colab": {
          "base_uri": "https://localhost:8080/",
          "height": 34
        },
        "outputId": "fa1ff536-5974-44f7-aad9-ded6c95ad875"
      },
      "source": [
        "import numpy as np\n",
        "\n",
        "dados = np.array(dados)\n",
        "len(dados)"
      ],
      "execution_count": 48,
      "outputs": [
        {
          "output_type": "execute_result",
          "data": {
            "text/plain": [
              "1309"
            ]
          },
          "metadata": {
            "tags": []
          },
          "execution_count": 48
        }
      ]
    },
    {
      "cell_type": "markdown",
      "metadata": {
        "id": "QusT5YcqB1k6",
        "colab_type": "text"
      },
      "source": [
        "4. Quantas dimensões sua variável dados possui?"
      ]
    },
    {
      "cell_type": "code",
      "metadata": {
        "id": "KsbDUYpoB1k7",
        "colab_type": "code",
        "colab": {
          "base_uri": "https://localhost:8080/",
          "height": 34
        },
        "outputId": "ff50763f-380b-4616-b33d-23ace874d82f"
      },
      "source": [
        "np.ndim(dados)"
      ],
      "execution_count": 49,
      "outputs": [
        {
          "output_type": "execute_result",
          "data": {
            "text/plain": [
              "2"
            ]
          },
          "metadata": {
            "tags": []
          },
          "execution_count": 49
        }
      ]
    },
    {
      "cell_type": "markdown",
      "metadata": {
        "id": "NXPveQfyB1k_",
        "colab_type": "text"
      },
      "source": [
        "5. Obtenha os índices das posições onde existam dados ausentes."
      ]
    },
    {
      "cell_type": "code",
      "metadata": {
        "id": "nSfl59vjB1lA",
        "colab_type": "code",
        "colab": {
          "base_uri": "https://localhost:8080/",
          "height": 34
        },
        "outputId": "66edae0a-6318-4665-8aae-da209238f80d"
      },
      "source": [
        "ausentes = np.where(dados == '')\n",
        "print(ausentes)\n"
      ],
      "execution_count": 23,
      "outputs": [
        {
          "output_type": "stream",
          "text": [
            "(array([], dtype=int64), array([], dtype=int64))\n"
          ],
          "name": "stdout"
        }
      ]
    },
    {
      "cell_type": "markdown",
      "metadata": {
        "id": "9EEzziPUB1lD",
        "colab_type": "text"
      },
      "source": [
        "6. Remova todas as linhas que possuem dados ausentes."
      ]
    },
    {
      "cell_type": "code",
      "metadata": {
        "id": "XlRX2BF7B1lD",
        "colab_type": "code",
        "colab": {
          "base_uri": "https://localhost:8080/",
          "height": 156
        },
        "outputId": "8b332e8d-a35a-40dd-9ecd-f30d29ea340b"
      },
      "source": [
        "np.delete(dados,ausentes,axis=0)"
      ],
      "execution_count": 22,
      "outputs": [
        {
          "output_type": "execute_result",
          "data": {
            "text/plain": [
              "array([[b'1', b'1', b'1', ..., b'24160', b'211.3375', b'S'],\n",
              "       [b'2', b'1', b'1', ..., b'113781', b'151.5500', b'S'],\n",
              "       [b'3', b'1', b'0', ..., b'113781', b'151.5500', b'S'],\n",
              "       ...,\n",
              "       [b'1307', b'3', b'0', ..., b'2656', b'7225.0000', b'C'],\n",
              "       [b'1308', b'3', b'0', ..., b'2670', b'7225.0000', b'C'],\n",
              "       [b'1309', b'3', b'0', ..., b'315082', b'7875.0000', b'S']],\n",
              "      dtype=object)"
            ]
          },
          "metadata": {
            "tags": []
          },
          "execution_count": 22
        }
      ]
    },
    {
      "cell_type": "markdown",
      "metadata": {
        "id": "dYypPBizB1lG",
        "colab_type": "text"
      },
      "source": [
        "7. Mostre todos os dados das 5 primeiras linhas do dataset."
      ]
    },
    {
      "cell_type": "code",
      "metadata": {
        "id": "DYDbqHBXB1lG",
        "colab_type": "code",
        "colab": {
          "base_uri": "https://localhost:8080/",
          "height": 190
        },
        "outputId": "0dc4388b-c43c-423d-c5ce-3eaccf7f2119"
      },
      "source": [
        "dados[:5]"
      ],
      "execution_count": 50,
      "outputs": [
        {
          "output_type": "execute_result",
          "data": {
            "text/plain": [
              "array([[b'1', b'1', b'1', b'female', b'29', b'0', b'0', b'24160',\n",
              "        b'211.3375', b'S'],\n",
              "       [b'2', b'1', b'1', b'male', b'1', b'1', b'2', b'113781',\n",
              "        b'151.5500', b'S'],\n",
              "       [b'3', b'1', b'0', b'female', b'2', b'1', b'2', b'113781',\n",
              "        b'151.5500', b'S'],\n",
              "       [b'4', b'1', b'0', b'male', b'30', b'1', b'2', b'113781',\n",
              "        b'151.5500', b'S'],\n",
              "       [b'5', b'1', b'0', b'female', b'25', b'1', b'2', b'113781',\n",
              "        b'151.5500', b'S']], dtype=object)"
            ]
          },
          "metadata": {
            "tags": []
          },
          "execution_count": 50
        }
      ]
    },
    {
      "cell_type": "markdown",
      "metadata": {
        "id": "1e77BQLgB1lJ",
        "colab_type": "text"
      },
      "source": [
        "8. Crie as variáveis: `idade`, `irmaos_conjuges`, `pais_filhos` e `tarifa`; com todos os dados dessas colunas, e, tipos de dados conforme a tabela abaixo:\n",
        "\n",
        "| Nº | Coluna          | Tipo de Dados |\n",
        "|:--:|-----------------|---------------|\n",
        "|  6 | idade           | int           |\n",
        "|  7 | irmaos_conjuges | int           |\n",
        "|  8 | pais_filhos     | int           |\n",
        "| 10 | tarifa          | float         |"
      ]
    },
    {
      "cell_type": "code",
      "metadata": {
        "id": "V7mtg-SCB1lJ",
        "colab_type": "code",
        "colab": {
          "base_uri": "https://localhost:8080/",
          "height": 54
        },
        "outputId": "55edc038-981b-478f-db02-e99b510ec49a"
      },
      "source": [
        "idade = dados[:,5]\n",
        "irmaos_conjuges = dados[:,6]\n",
        "pais_filhos = dados[:,7]\n",
        "tarifa = dados[:,9]\n",
        "print(idade, irmaos_conjuges,pais_filhos,tarifa)\n"
      ],
      "execution_count": 25,
      "outputs": [
        {
          "output_type": "stream",
          "text": [
            "[b'0' b'1' b'1' ... b'0' b'0' b'0'] [b'0' b'2' b'2' ... b'0' b'0' b'0'] [b'24160' b'113781' b'113781' ... b'2656' b'2670' b'315082'] [b'S' b'S' b'S' ... b'C' b'C' b'S']\n"
          ],
          "name": "stdout"
        }
      ]
    },
    {
      "cell_type": "markdown",
      "metadata": {
        "id": "PVj2tSXsB1lQ",
        "colab_type": "text"
      },
      "source": [
        "9. Selecione as primeiras 5 linhas dos dados."
      ]
    },
    {
      "cell_type": "code",
      "metadata": {
        "id": "cYxCvfm1B1lQ",
        "colab_type": "code",
        "colab": {
          "base_uri": "https://localhost:8080/",
          "height": 156
        },
        "outputId": "ddba70eb-7468-4064-d1a6-fad26fd734fe"
      },
      "source": [
        "dados[:5]\n",
        "dados"
      ],
      "execution_count": 19,
      "outputs": [
        {
          "output_type": "execute_result",
          "data": {
            "text/plain": [
              "array([[b'1', b'1', b'1', ..., b'24160', b'211.3375', b'S'],\n",
              "       [b'2', b'1', b'1', ..., b'113781', b'151.5500', b'S'],\n",
              "       [b'3', b'1', b'0', ..., b'113781', b'151.5500', b'S'],\n",
              "       ...,\n",
              "       [b'1307', b'3', b'0', ..., b'2656', b'7225.0000', b'C'],\n",
              "       [b'1308', b'3', b'0', ..., b'2670', b'7225.0000', b'C'],\n",
              "       [b'1309', b'3', b'0', ..., b'315082', b'7875.0000', b'S']],\n",
              "      dtype=object)"
            ]
          },
          "metadata": {
            "tags": []
          },
          "execution_count": 19
        }
      ]
    },
    {
      "cell_type": "markdown",
      "metadata": {
        "id": "7ap-_5nFB1lV",
        "colab_type": "text"
      },
      "source": [
        "10. Considerando o vetor `idades`, selecione todas as idades das crianças a bordo menores de 12 anos inclusive."
      ]
    },
    {
      "cell_type": "code",
      "metadata": {
        "id": "aiHC3oFMB1lV",
        "colab_type": "code",
        "colab": {
          "base_uri": "https://localhost:8080/",
          "height": 34
        },
        "outputId": "144ae6aa-08df-456b-f4ee-eaf88906e594"
      },
      "source": [
        "idade_maior = 12\n",
        "idades = np.array(dados[:,6], dtype = int)\n",
        "condicao = idades == idade_maior\n",
        "dados[condicao,:]"
      ],
      "execution_count": 14,
      "outputs": [
        {
          "output_type": "execute_result",
          "data": {
            "text/plain": [
              "array([], shape=(0, 10), dtype=object)"
            ]
          },
          "metadata": {
            "tags": []
          },
          "execution_count": 14
        }
      ]
    },
    {
      "cell_type": "markdown",
      "metadata": {
        "id": "yoGJMD92B1lZ",
        "colab_type": "text"
      },
      "source": [
        "11. Qual é a média das idades?"
      ]
    },
    {
      "cell_type": "code",
      "metadata": {
        "id": "_VNB_7-BB1lZ",
        "colab_type": "code",
        "colab": {
          "base_uri": "https://localhost:8080/",
          "height": 34
        },
        "outputId": "0c0bdaed-09f3-4d1f-f732-6a3b2822b8f7"
      },
      "source": [
        "idades.mean()"
      ],
      "execution_count": 15,
      "outputs": [
        {
          "output_type": "execute_result",
          "data": {
            "text/plain": [
              "0.3850267379679144"
            ]
          },
          "metadata": {
            "tags": []
          },
          "execution_count": 15
        }
      ]
    },
    {
      "cell_type": "markdown",
      "metadata": {
        "id": "rBy2lIUhB1lc",
        "colab_type": "text"
      },
      "source": [
        "12. Quais é a maior e menor idade?"
      ]
    },
    {
      "cell_type": "code",
      "metadata": {
        "id": "UEsEfZ2XB1lc",
        "colab_type": "code",
        "colab": {
          "base_uri": "https://localhost:8080/",
          "height": 52
        },
        "outputId": "6eec38c3-21f5-4b73-ae28-cd61ab326c07"
      },
      "source": [
        "idade_maxima = idades.max()\n",
        "print(idade_maxima)\n",
        "idade_minima = idades.min()\n",
        "print(idade_minima)\n",
        "\n",
        "\n",
        "\n"
      ],
      "execution_count": 34,
      "outputs": [
        {
          "output_type": "stream",
          "text": [
            "9\n",
            "0\n"
          ],
          "name": "stdout"
        }
      ]
    },
    {
      "cell_type": "markdown",
      "metadata": {
        "id": "U48eQB5OB1lf",
        "colab_type": "text"
      },
      "source": [
        "13. Crie um vetor chamado `sobreviventes` com todos os dados das pessoas que sobreviveram ao naufrágio."
      ]
    },
    {
      "cell_type": "code",
      "metadata": {
        "id": "T4VNGG97B1lf",
        "colab_type": "code",
        "colab": {
          "base_uri": "https://localhost:8080/",
          "height": 138
        },
        "outputId": "8d2c49c6-49e7-4c5f-8788-8dbe61b65436"
      },
      "source": [
        "sobreviventes = 1\n",
        "condicao = dados[:,2].astype(int) == sobreviventes\n",
        "sobreviventes = dados[condicao,:]\n",
        "print(sobreviventes)"
      ],
      "execution_count": 16,
      "outputs": [
        {
          "output_type": "stream",
          "text": [
            "[[b'1' b'1' b'1' ... b'24160' b'211.3375' b'S']\n",
            " [b'2' b'1' b'1' ... b'113781' b'151.5500' b'S']\n",
            " [b'6' b'1' b'1' ... b'19952' b'26.5500' b'S']\n",
            " ...\n",
            " [b'1287' b'3' b'1' ... b'2688' b'7.2292' b'C']\n",
            " [b'1291' b'3' b'1' ... b'363272' b'7.0000' b'S']\n",
            " [b'1301' b'3' b'1' ... b'2659' b'14.4542' b'C']]\n"
          ],
          "name": "stdout"
        }
      ]
    },
    {
      "cell_type": "markdown",
      "metadata": {
        "id": "Cnuzdg3SB1lh",
        "colab_type": "text"
      },
      "source": [
        "14. Segundo este conjunto de dados, quantas pessoas sobreviveram ao naufrágio?"
      ]
    },
    {
      "cell_type": "code",
      "metadata": {
        "id": "odWhRvyBB1li",
        "colab_type": "code",
        "colab": {
          "base_uri": "https://localhost:8080/",
          "height": 34
        },
        "outputId": "3425491e-e35d-40e7-ee55-c894adcbb92c"
      },
      "source": [
        "len(sobreviventes)"
      ],
      "execution_count": 26,
      "outputs": [
        {
          "output_type": "execute_result",
          "data": {
            "text/plain": [
              "500"
            ]
          },
          "metadata": {
            "tags": []
          },
          "execution_count": 26
        }
      ]
    },
    {
      "cell_type": "markdown",
      "metadata": {
        "id": "ZgZwQFRJB1lk",
        "colab_type": "text"
      },
      "source": [
        "15.  Considerando a coluna `idade` dos sobreviventes calcule:\n",
        "    - Média\n",
        "    - Mediana\n",
        "    - Máximo\n",
        "    - Mínimo"
      ]
    },
    {
      "cell_type": "code",
      "metadata": {
        "id": "nyhUOI_dB1ll",
        "colab_type": "code",
        "colab": {}
      },
      "source": [
        "\n",
        "idade_sobreviventes = sobreviventes[:,5]\n",
        "idade_sobreviventes\n",
        "np.mean(idade_sobreviventes)\n",
        "idade_sobreviventes.max()\n",
        "idade_sobreviventes.min()\n",
        "np.median(idade_sobreviventes)"
      ],
      "execution_count": 32,
      "outputs": []
    },
    {
      "cell_type": "markdown",
      "metadata": {
        "id": "qR3rPN0zB1lm",
        "colab_type": "text"
      },
      "source": [
        "16. Crie um vetor chamado `vitimas_naufragio` com todos os dados das pessoas que não sobreviveram ao naufrágio."
      ]
    },
    {
      "cell_type": "code",
      "metadata": {
        "id": "tbdFeTj-B1ln",
        "colab_type": "code",
        "colab": {}
      },
      "source": [
        ""
      ],
      "execution_count": null,
      "outputs": []
    },
    {
      "cell_type": "markdown",
      "metadata": {
        "id": "628NP8VQB1lp",
        "colab_type": "text"
      },
      "source": [
        "17. Considerando a coluna `vitimas_naufragio` dos sobreviventes calcule:\n",
        "    - Média\n",
        "    - Mediana\n",
        "    - Máximo\n",
        "    - Mínimo"
      ]
    },
    {
      "cell_type": "code",
      "metadata": {
        "id": "Gna1vXAfB1lp",
        "colab_type": "code",
        "colab": {}
      },
      "source": [
        ""
      ],
      "execution_count": null,
      "outputs": []
    },
    {
      "cell_type": "markdown",
      "metadata": {
        "id": "3vGAIcvZB1lr",
        "colab_type": "text"
      },
      "source": [
        "18. Qual era o preço médio das tarifas?"
      ]
    },
    {
      "cell_type": "code",
      "metadata": {
        "id": "v_ClFGZyB1lr",
        "colab_type": "code",
        "colab": {}
      },
      "source": [
        ""
      ],
      "execution_count": 57,
      "outputs": []
    },
    {
      "cell_type": "markdown",
      "metadata": {
        "id": "rtGB9rxsB1lt",
        "colab_type": "text"
      },
      "source": [
        "19. Crie os vetores `classe_alta`, `classe_media` e `classe_baixa`, com os respectivos dados da coluna `classe` no qual:\n",
        "    - 1 = Classe Alta\n",
        "    - 2 = Classe Média\n",
        "    - 3 = Classe Baixa"
      ]
    },
    {
      "cell_type": "code",
      "metadata": {
        "id": "KQLuHeGTB1lt",
        "colab_type": "code",
        "colab": {}
      },
      "source": [
        ""
      ],
      "execution_count": null,
      "outputs": []
    },
    {
      "cell_type": "markdown",
      "metadata": {
        "id": "jjTrwj0YB1lv",
        "colab_type": "text"
      },
      "source": [
        "20. Qual é o número total de passageiros por classe social?"
      ]
    },
    {
      "cell_type": "code",
      "metadata": {
        "id": "fe5YL8l9B1lv",
        "colab_type": "code",
        "colab": {}
      },
      "source": [
        ""
      ],
      "execution_count": null,
      "outputs": []
    },
    {
      "cell_type": "markdown",
      "metadata": {
        "id": "pER9mbLcB1lx",
        "colab_type": "text"
      },
      "source": [
        "# REFERÊNCIAS\n",
        "\n",
        "- [Titanic: Machine Learning from Disaster](https://www.kaggle.com/c/titanic/data)\n",
        "- [Encyclopedia Titanica](https://www.encyclopedia-titanica.org/)\n",
        "- [Basic Feature Engineering with the Titanic Data](https://triangleinequality.wordpress.com/2013/09/08/basic-feature-engineering-with-the-titanic-data/)\n",
        "- Hind, Philip.  \"Encyclopedia Titanica.\"  Online.  Internet. n.p.  02 Aug 1999."
      ]
    }
  ]
}