{
  "nbformat": 4,
  "nbformat_minor": 0,
  "metadata": {
    "kernelspec": {
      "display_name": "Python 3",
      "language": "python",
      "name": "python3"
    },
    "language_info": {
      "codemirror_mode": {
        "name": "ipython",
        "version": 3
      },
      "file_extension": ".py",
      "mimetype": "text/x-python",
      "name": "python",
      "nbconvert_exporter": "python",
      "pygments_lexer": "ipython3",
      "version": "3.7.4"
    },
    "colab": {
      "name": "1_numpy.ipynb",
      "provenance": [],
      "collapsed_sections": [
        "lwcBmJ0M6TlG",
        "liDmxHGx6TlI",
        "DtjOBVnk6TlL",
        "J4NlzcBr6TlO",
        "0rDAL8d26Tmt"
      ],
      "include_colab_link": true
    }
  },
  "cells": [
    {
      "cell_type": "markdown",
      "metadata": {
        "id": "view-in-github",
        "colab_type": "text"
      },
      "source": [
        "<a href=\"https://colab.research.google.com/github/medllynthayna/Analise_Dados/blob/master/Numpy.ipynb\" target=\"_parent\"><img src=\"https://colab.research.google.com/assets/colab-badge.svg\" alt=\"Open In Colab\"/></a>"
      ]
    },
    {
      "cell_type": "markdown",
      "metadata": {
        "id": "nhoVYp7r6Tkj",
        "colab_type": "text"
      },
      "source": [
        "# NumPy - Manipulando Dados Numéricos"
      ]
    },
    {
      "cell_type": "markdown",
      "metadata": {
        "id": "vY2okD376Tkl",
        "colab_type": "text"
      },
      "source": [
        "## O que é o NumPy?\n",
        "\n",
        "O *NumPy* é uma biblioteca para a Linguagem de Programação Python, que da suporte à linguagem para trabalhar com grandes matrizes e vetores multidimensionais, juntamente com uma ampla coleção de funções matemáticas de alto nível.\n",
        "\n",
        "Especificamente, essa bibioteca fornece ao Python, objetos *arrays* multidimensionais e vários objetos derivados (p. ex.: masked arrays e matrices), com um conjunto de funções para operações rápidas em vetores e a Computação Numérica, por exemplo: \n",
        "\n",
        "* Funções Matemáticas e Lógicas;\n",
        "* Manipulação de Formas;\n",
        "* Ordenação;\n",
        "* Seleção;\n",
        "* Leitura de Dados (E/S);\n",
        "* Transformada Discreta de Fourier;\n",
        "* Álgebra Linear Básica;\n",
        "* Operações Estatísticas Básicas;\n",
        "* Simulação Aleatória.\n",
        "\n",
        "No núcleo da biblioteca NumPy temos o objeto *narray* que encapsula vetores n-dimensionais com tipos de dados homgêneos e muitas operações executadas no código compilado a fim de desempenho. \n",
        "\n",
        "### NumPy X Sequências Padrão do Python\n",
        "\n",
        "Existem várias diferenças importantes entre os vetores do NumPy e as sequências padrão do Python, são elas: \n",
        "\n",
        "* **Vetores Estáticos:** os vetores do NumPy têm tamanho fixo em sua criação, diferente das listas do Python que podem crescer dinamicamente em tempo de execução. Logo, quando alteramos o tamanho de um objeto *narray*, será criado um novo vetor e excluído o original;\n",
        "\n",
        "* **Tipo de Dados Homogêneo dos Itens:**  todos os elementos dos vetores em NumPy, devem ser obrigatoriamente do mesmo tipo de dados, logo, eles irão ter o mesmo tamanho em memória;\n",
        "\n",
        "* **Operações Matemáticas Avançadas:** os vetores do NumPy otimizam operações matemáticas avançadas e qualquer tipo de outras operações para um grande número de dados. Na prática, essas operações são executadas mais eficientemente e com menos código do que se usarmos as sequências padrão do Python;"
      ]
    },
    {
      "cell_type": "code",
      "metadata": {
        "id": "vumJQHZJ6Tkm",
        "colab_type": "code",
        "colab": {}
      },
      "source": [
        "# NumPy na Prática\n",
        "import numpy as np             # Importa a biblioteca NumPy para seu projeto\n",
        "\n",
        "vetor = np.array([0, 1, 2, 3]) # instancia um vetor (array) em NumPy\n",
        "vetor                          # Imprime seu conteúdo"
      ],
      "execution_count": 0,
      "outputs": []
    },
    {
      "cell_type": "markdown",
      "metadata": {
        "id": "QLdZ8tJV6Tkq",
        "colab_type": "text"
      },
      "source": [
        "## Tipos de Dados"
      ]
    },
    {
      "cell_type": "markdown",
      "metadata": {
        "id": "VEkIhelx6Tkr",
        "colab_type": "text"
      },
      "source": [
        "| Tipo de Dado | Descrição                                            |\n",
        "|:-------------|:-----------------------------------------------------|\n",
        "| np.int64     | Números inteiros de 64bits                           |\n",
        "| np.float32   | Números de ponto flutuante de precisão dupla (Reais) |\n",
        "| np.complex   | Números Complexos                                    |\n",
        "| np.bool      | Tipo lógico (Booleano)                               |\n",
        "| np.object    | Tipo object do Python                                |\n",
        "| np.string_   | Cadeia de Caracteres Fixa (String)                   |\n",
        "| np.unicode_  | Cadeia de Caracteres Unicode Fixa (String)           |"
      ]
    },
    {
      "cell_type": "markdown",
      "metadata": {
        "id": "lbgll83E6Tks",
        "colab_type": "text"
      },
      "source": [
        "## Criação de Vetores"
      ]
    },
    {
      "cell_type": "markdown",
      "metadata": {
        "id": "6NHrN3JZ6Tkt",
        "colab_type": "text"
      },
      "source": [
        "### Construção Manual de Vetores"
      ]
    },
    {
      "cell_type": "code",
      "metadata": {
        "id": "j70-OP1P6Tku",
        "colab_type": "code",
        "colab": {}
      },
      "source": [
        "# CONSTRUÇÃO MANUAL DE VETORES\n",
        "# Unidimencional (1D)\n",
        "\n",
        "vetor_numpy = np.array([0, 1, 2, 3, 4])\n",
        "\n",
        "print(vetor_numpy)        # Imprime o vetor\n",
        "print(vetor_numpy.ndim)   # Retorna o número de dimensões do vetor\n",
        "print(vetor_numpy.shape)  # Retorna a forma do vetor ou atribui uma tupla para as dimnesões do vetor\n",
        "print(len(vetor_numpy))   # Retorna o número de elementos do vetor\n",
        "\n",
        "# Multi-dimencional (n-D)\n",
        "\n",
        "# Matriz Bidimensional 2 (linhas) X 3 (colunas)\n",
        "matriz_numpy = np.array([[0, 1, 2], [3, 4, 5]]) \n",
        "\n",
        "print(matriz_numpy)\n",
        "print(matriz_numpy.ndim)\n",
        "print(matriz_numpy.shape)\n",
        "print(len(matriz_numpy))         # Retorna o tamanho da primeira dimensão do vetor (linhas)"
      ],
      "execution_count": 0,
      "outputs": []
    },
    {
      "cell_type": "markdown",
      "metadata": {
        "id": "uQBKWiPe6Tkz",
        "colab_type": "text"
      },
      "source": [
        "### Funções para Criação de Vetores"
      ]
    },
    {
      "cell_type": "code",
      "metadata": {
        "id": "WlG1Ua9B6Tk0",
        "colab_type": "code",
        "colab": {}
      },
      "source": [
        "# Vetores Igualmente Espaçado\n",
        "print(\"Vetores Igualmente Espaçado\")\n",
        "vetor = np.arange(10) # 0 .. n - 1\n",
        "print(vetor)\n",
        "\n",
        "vetor_impar = np.arange(1, 9, 2) # Início, Fim e Incremento\n",
        "print(vetor_impar)\n",
        "\n",
        "# Vetores por números de pontos\n",
        "print(\"\\nVetores por Números de Pontos\")\n",
        "numero_pontos = np.linspace(0, 1, 6) # Início, Fim, Número de Pontos\n",
        "print(numero_pontos)\n",
        "\n",
        "# Matrizes Populares\n",
        "print(\"\\nMATRIZES POPULARES\")\n",
        "print(\"\\nMatriz de Uns\")\n",
        "matriz_de_uns = np.ones((3, 3)) # Tupla (3, 3)\n",
        "print(matriz_de_uns)\n",
        "\n",
        "print(\"\\nMatriz de Zeros\")\n",
        "matriz_de_zeros = np.zeros((2, 2))\n",
        "print(matriz_de_zeros)\n",
        "\n",
        "print(\"\\nMatriz Zerada com Diagonal de Uns\")\n",
        "matriz_zeros_diagonal_uns = np.eye(4)\n",
        "print(matriz_zeros_diagonal_uns)\n",
        "\n",
        "print(\"\\nMatriz Zerada com Diagonal de Permutações\")\n",
        "matriz_diagonal_permutacao = np.diag(np.array([1, 2, 3, 4]))\n",
        "print(matriz_diagonal_permutacao)\n",
        "\n",
        "print(\"\\nVETORES ALEATÓRIOS\")\n",
        "print(\"\\nVetor Aleatório Uniforme\")\n",
        "vetor_uniforme_aleatorio = np.random.rand(4)\n",
        "print(vetor_uniforme_aleatorio)\n",
        "\n",
        "print(\"\\nVetor Aleatório Gaussiano\")\n",
        "vetor_aleatorio_gaussiano = np.random.randn(4)\n",
        "print(vetor_aleatorio_gaussiano)\n",
        "\n",
        "np.random.seed(1234) # Definindo a semente aleatória"
      ],
      "execution_count": 0,
      "outputs": []
    },
    {
      "cell_type": "markdown",
      "metadata": {
        "id": "_xtEWRLp6Tk5",
        "colab_type": "text"
      },
      "source": [
        "### Operações Matemáticas com Vetores"
      ]
    },
    {
      "cell_type": "code",
      "metadata": {
        "id": "SZhu3fUU6Tk6",
        "colab_type": "code",
        "colab": {}
      },
      "source": [
        "import numpy as np\n",
        "\n",
        "vetor_a = np.array([1, 2, 3])\n",
        "vetor_b = np.array([4, 5, 6])\n",
        "\n",
        "\n",
        "# Adição\n",
        "vetor_a + vetor_b              # Usando operador aritmético\n",
        "np.add(vetor_a, vetor_b)       # Usando função definida do NumPy\n",
        "\n",
        "# Subtração\n",
        "vetor_a - vetor_b              # Usando operador aritmético\n",
        "np.subtract(vetor_a, vetor_b)  # Usando função definida do NumPy\n",
        "\n",
        "# Multiplicação\n",
        "vetor_a * vetor_b              # Usando operador aritmético\n",
        "np.multiply(vetor_a, vetor_b)  # Usando função definida do NumPy\n",
        "\n",
        "# Divisão\n",
        "vetor_a / vetor_b              # Usando operador aritmético\n",
        "np.divide(vetor_a, vetor_b)    # Usando função definida do NumPy\n",
        "\n",
        "# Raiz Quadrada\n",
        "np.sqrt(vetor_a)\n",
        "\n",
        "# Função Exponencia\n",
        "np.exp(vetor_a)                \n",
        "\n",
        "# Seno\n",
        "np.sin(vetor_a)\n",
        "\n",
        "# Coseno\n",
        "np.cos(vetor_a)\n",
        "\n",
        "# Logaritmo Natural\n",
        "np.log(vetor_a)"
      ],
      "execution_count": 0,
      "outputs": []
    },
    {
      "cell_type": "markdown",
      "metadata": {
        "id": "4ht4C5Qz6Tk-",
        "colab_type": "text"
      },
      "source": [
        "### Comparação"
      ]
    },
    {
      "cell_type": "code",
      "metadata": {
        "id": "pxl3oSXj6Tk-",
        "colab_type": "code",
        "colab": {}
      },
      "source": [
        "import numpy as np\n",
        "\n",
        "vetor_a = np.array([1, 2, 3])\n",
        "vetor_b = np.array([4, 5, 6])\n",
        "\n",
        "# Compara cada um dos elementos dos vetores\n",
        "# Retorna um vetor booleano com os resultados da comparação\n",
        "vetor_a == vetor_b\n",
        "vetor_a != vetor_b\n",
        "\n",
        "vetor_a > vetor_b\n",
        "vetor_a >= vetor_b\n",
        "\n",
        "vetor_a < vetor_b\n",
        "vetor_a <= vetor_b"
      ],
      "execution_count": 0,
      "outputs": []
    },
    {
      "cell_type": "markdown",
      "metadata": {
        "id": "dzZqbNIv6TlD",
        "colab_type": "text"
      },
      "source": [
        "### Funções Agregadas"
      ]
    },
    {
      "cell_type": "code",
      "metadata": {
        "id": "7dZv3M3-6TlD",
        "colab_type": "code",
        "colab": {}
      },
      "source": [
        "import numpy as np\n",
        "\n",
        "vetor = np.array([1, 2, 3, 4, 5])\n",
        "\n",
        "vetor.sum()         # Soma todos os elementos do vetor\n",
        "vetor.cumsum()      # Soma acumulada de todos os elementos do vetor\n",
        "\n",
        "vetor.min()         # Retorna o menor elemento do vetor numérico\n",
        "vetor.max()         # Retorna o maior elemento do vetor numérico\n",
        "\n",
        "vetor.mean()        # Média\n",
        "np.median(vetor)    # Mediana\n",
        "np.corrcoef(vetor)  # Coeficiente de Correlação\n",
        "np.std(vetor)       # Desvio Padrão"
      ],
      "execution_count": 0,
      "outputs": []
    },
    {
      "cell_type": "markdown",
      "metadata": {
        "id": "lwcBmJ0M6TlG",
        "colab_type": "text"
      },
      "source": [
        "### Copiando Vetores"
      ]
    },
    {
      "cell_type": "code",
      "metadata": {
        "id": "bOg3p_BV6TlG",
        "colab_type": "code",
        "colab": {}
      },
      "source": [
        "import numpy as np\n",
        "\n",
        "vetor = np.array([1, 2, 3, 4, 5])\n",
        "\n",
        "copia_vetor = np.copy(vetor)\n",
        "print(copia_vetor)\n",
        "\n",
        "copia = vetor.copy()  \n",
        "print(copia)\n",
        "\n",
        "visao = vetor.view()  # Cria uma visão (view) do vetor [representação virutal em memória]\n",
        "print(visao)"
      ],
      "execution_count": 0,
      "outputs": []
    },
    {
      "cell_type": "markdown",
      "metadata": {
        "id": "liDmxHGx6TlI",
        "colab_type": "text"
      },
      "source": [
        "### Ordenando Vetores"
      ]
    },
    {
      "cell_type": "code",
      "metadata": {
        "id": "ekq0P38U6TlJ",
        "colab_type": "code",
        "colab": {}
      },
      "source": [
        "import numpy as np\n",
        "\n",
        "vetor = np.array([9, 8, 7, 6, 5, 4, 3, 2, 1])\n",
        "vetor.sort()\n",
        "vetor"
      ],
      "execution_count": 0,
      "outputs": []
    },
    {
      "cell_type": "markdown",
      "metadata": {
        "id": "DtjOBVnk6TlL",
        "colab_type": "text"
      },
      "source": [
        "### Subconjunto, Fatiamento e Indexação"
      ]
    },
    {
      "cell_type": "code",
      "metadata": {
        "id": "UzJB1a046TlL",
        "colab_type": "code",
        "colab": {}
      },
      "source": [
        "import numpy as np\n",
        "\n",
        "vetor = np.array([1, 2, 3, 4, 5])\n",
        "matriz = np.array([(1, 2, 3), (4, 5, 6), (7, 8, 9)])\n",
        "\n",
        "\n",
        "print(vetor[2])        # vetor[i] = Pega o elemento do vetor na posição (i)\n",
        "print(matriz[1, 2])    # vetor[linha, coluna] = Pega um elemento em uma matriz\n",
        "\n",
        "\n",
        "print(vetor[0:3])      # vetor[inicio:quantidade] = Retorna 3 elementos contados à partir da posição de início ([0] \n",
        "print(matriz[1:2])     # Seleciona todos elementos da primeira linha até a terceira coluna\n",
        "print(matriz[0:3, 1])  # matriz[inicio:quantidade, coluna] Seleciona 3 elementos da segunda coluna [1], à partir da primeira linha [0]\n",
        "\n",
        "print(matriz[:1])      # Seleciona todos os itens da primeira linha\n",
        "print(matriz[:2])      # Seleciona todos os itens da primeira linha e segunda linha\n",
        "\n",
        "print(vetor[ : :-1])   # Seleciona todos os elementos de trás pra frente (invertido)\n",
        "\n",
        "# Indexação Lógica\n",
        "print(vetor[vetor <= 3]) # Seleciona todos os elementos dos índices menores iguais a 3\n",
        "print(vetor[1 + 3])      # Calcula dinamicamente a posição do vetor\n",
        "\n",
        "\n",
        "print(matriz[[1, 0, 1, 0]]) # Retorna uma matriz com as linhas 1 e 0 repetidas"
      ],
      "execution_count": 0,
      "outputs": []
    },
    {
      "cell_type": "markdown",
      "metadata": {
        "id": "J4NlzcBr6TlO",
        "colab_type": "text"
      },
      "source": [
        "## Entrada/Saída (I/O)"
      ]
    },
    {
      "cell_type": "code",
      "metadata": {
        "id": "hZkrXSwO6TlP",
        "colab_type": "code",
        "colab": {}
      },
      "source": [
        "import numpy as np\n",
        "from io import StringIO\n",
        "\n",
        "data = u\"1, 2, 3\\n4, 5, 6\"\n",
        "vetor = np.genfromtxt(StringIO(data), delimiter=\",\") # Converte dados para vetor\n",
        "np.savetxt(\"nome_arquivo.txt\", vetor, delimiter=\" \") # Salva o vetor como arquivo"
      ],
      "execution_count": 0,
      "outputs": []
    },
    {
      "cell_type": "markdown",
      "metadata": {
        "id": "cTQ66-vl6TlT",
        "colab_type": "text"
      },
      "source": [
        "```python\n",
        "# Exemplo - Carregamento de Arquivos\n",
        "np.genfromtxt(\"nome_arquivo.csv\", delimiter=',')\n",
        "np.loadtxt(\"nome_arquivo.txt\")\n",
        "```"
      ]
    },
    {
      "cell_type": "markdown",
      "metadata": {
        "id": "Wz_nCZ266TlU",
        "colab_type": "text"
      },
      "source": [
        "# Exercícios"
      ]
    },
    {
      "cell_type": "markdown",
      "metadata": {
        "id": "A_y4SslP6TlU",
        "colab_type": "text"
      },
      "source": [
        "1. Importe o pacote numpy com o nome np."
      ]
    },
    {
      "cell_type": "code",
      "metadata": {
        "id": "EOX-vr7r6TlV",
        "colab_type": "code",
        "colab": {}
      },
      "source": [
        "import numpy as np   "
      ],
      "execution_count": 0,
      "outputs": []
    },
    {
      "cell_type": "markdown",
      "metadata": {
        "id": "ghHIbjQY6TlZ",
        "colab_type": "text"
      },
      "source": [
        "2. Crie o seguinte vetor unidimensional (1D):\n",
        "\n",
        "| 0 | 1 | 2 | 3 | 4 | 5 | 6 | 7 | 8 | 9 |\n",
        "|:-:|:-:|:-:|:-:|:-:|:-:|:-:|:-:|:-:|:-:|"
      ]
    },
    {
      "cell_type": "code",
      "metadata": {
        "id": "7qOkrGPp6Tla",
        "colab_type": "code",
        "colab": {}
      },
      "source": [
        "vetor_numpy = np.array([0,1,2,3,4,5,6,7,8,9])"
      ],
      "execution_count": 0,
      "outputs": []
    },
    {
      "cell_type": "markdown",
      "metadata": {
        "id": "s4u9QXyi6Tle",
        "colab_type": "text"
      },
      "source": [
        "3. Qual é o comprimento `len` do vetor?"
      ]
    },
    {
      "cell_type": "code",
      "metadata": {
        "id": "3yd5358q6Tlf",
        "colab_type": "code",
        "outputId": "e8fdb421-1ca6-45d5-94df-91b3783f92ab",
        "colab": {
          "base_uri": "https://localhost:8080/",
          "height": 33
        }
      },
      "source": [
        "vetor_numpy = np.array([0,1,2,3,4,5,6,7,8,9])\n",
        "print(len(vetor_numpy))"
      ],
      "execution_count": 0,
      "outputs": [
        {
          "output_type": "stream",
          "text": [
            "10\n"
          ],
          "name": "stdout"
        }
      ]
    },
    {
      "cell_type": "markdown",
      "metadata": {
        "id": "Ny46zeeJ6Tlk",
        "colab_type": "text"
      },
      "source": [
        "4. Quantas dimensões `ndim` o vetor possui?"
      ]
    },
    {
      "cell_type": "code",
      "metadata": {
        "id": "olXghy4W6Tll",
        "colab_type": "code",
        "outputId": "8ddf036e-201c-4657-c312-3b849813d5eb",
        "colab": {
          "base_uri": "https://localhost:8080/",
          "height": 33
        }
      },
      "source": [
        "vetor_numpy = np.array([0,1,2,3,4,5,6,7,8,9])\n",
        "print(vetor_numpy.ndim)"
      ],
      "execution_count": 0,
      "outputs": [
        {
          "output_type": "stream",
          "text": [
            "1\n"
          ],
          "name": "stdout"
        }
      ]
    },
    {
      "cell_type": "markdown",
      "metadata": {
        "id": "Znh7xbwO6Tlp",
        "colab_type": "text"
      },
      "source": [
        "5. O que a função `shape` retorna?"
      ]
    },
    {
      "cell_type": "code",
      "metadata": {
        "id": "RrJaP7t-6Tlp",
        "colab_type": "code",
        "outputId": "f4957a3f-5699-4dac-f668-2b0230ccbdbb",
        "colab": {
          "base_uri": "https://localhost:8080/",
          "height": 33
        }
      },
      "source": [
        "vetor_numpy = np.array([0,1,2,3,4,5,6,7,8,9])\n",
        "print(vetor_numpy.shape)"
      ],
      "execution_count": 0,
      "outputs": [
        {
          "output_type": "stream",
          "text": [
            "(10,)\n"
          ],
          "name": "stdout"
        }
      ]
    },
    {
      "cell_type": "markdown",
      "metadata": {
        "id": "diEzodzw6Tls",
        "colab_type": "text"
      },
      "source": [
        "**Resposta**:"
      ]
    },
    {
      "cell_type": "markdown",
      "metadata": {
        "id": "o2IumFNi6Tlt",
        "colab_type": "text"
      },
      "source": [
        "6. Crie a variável *pares* e extraia todos os números pares do vetor para ela:"
      ]
    },
    {
      "cell_type": "code",
      "metadata": {
        "id": "teRFMQgI6Tlu",
        "colab_type": "code",
        "outputId": "aeda9bd6-aabe-46f7-fbfb-fc92fb365655",
        "colab": {
          "base_uri": "https://localhost:8080/",
          "height": 33
        }
      },
      "source": [
        "import numpy as np\n",
        "pares = np.arange(2, 10, 2) \n",
        "print(pares)"
      ],
      "execution_count": 0,
      "outputs": [
        {
          "output_type": "stream",
          "text": [
            "[2 4 6 8]\n"
          ],
          "name": "stdout"
        }
      ]
    },
    {
      "cell_type": "markdown",
      "metadata": {
        "id": "0znAPa4m6Tlx",
        "colab_type": "text"
      },
      "source": [
        "7. Substitua todos os elementos ímpares do vetor por -1, em seguida, ordene os resultados:"
      ]
    },
    {
      "cell_type": "code",
      "metadata": {
        "id": "XLnj-7LM6Tly",
        "colab_type": "code",
        "outputId": "34e81c6f-908c-4544-f96c-21d4cd8c7a93",
        "colab": {
          "base_uri": "https://localhost:8080/",
          "height": 50
        }
      },
      "source": [
        "import numpy as np\n",
        "\n",
        "vetor = np.arange(10) \n",
        "print(vetor)\n",
        "\n",
        "vetor[1] = -1\n",
        "vetor[3] = -1\n",
        "vetor[5] = -1\n",
        "vetor[7] = -1\n",
        "vetor[9] = -1\n",
        "vetor.sort()\n",
        "print(vetor)\n",
        "\n",
        "\n",
        "\n",
        "\n",
        "\n",
        "\n",
        "\n"
      ],
      "execution_count": 0,
      "outputs": [
        {
          "output_type": "stream",
          "text": [
            "[0 1 2 3 4 5 6 7 8 9]\n",
            "[-1 -1 -1 -1 -1  0  2  4  6  8]\n"
          ],
          "name": "stdout"
        }
      ]
    },
    {
      "cell_type": "markdown",
      "metadata": {
        "id": "d5JWMK396Tl2",
        "colab_type": "text"
      },
      "source": [
        "8. Converta o vetor unidimensional (1D) abaixo para uma matriz (2D) com 4 linhas. **Dica:** `reshape`."
      ]
    },
    {
      "cell_type": "code",
      "metadata": {
        "id": "fYR_XV896Tl3",
        "colab_type": "code",
        "outputId": "69b38b03-6222-4a9a-b23c-e77c44e9475d",
        "colab": {
          "base_uri": "https://localhost:8080/",
          "height": 82
        }
      },
      "source": [
        "\n",
        "import numpy as np\n",
        "\n",
        "vetor = np.array([1, 2, 3, 4, 5, 6, 7, 8])\n",
        "\n",
        "new_matriz = vetor.reshape(4, 2)\n",
        "\n",
        "print(new_matriz)\n"
      ],
      "execution_count": 0,
      "outputs": [
        {
          "output_type": "stream",
          "text": [
            "[[1 2]\n",
            " [3 4]\n",
            " [5 6]\n",
            " [7 8]]\n"
          ],
          "name": "stdout"
        }
      ]
    },
    {
      "cell_type": "markdown",
      "metadata": {
        "id": "DZk3Hthc6Tl6",
        "colab_type": "text"
      },
      "source": [
        "9. Obtenha os itens em comum, ou seja, a intersecção dos vetores `a` e `b` abaixo:\n",
        "**Saída**: [2, 4, 6]"
      ]
    },
    {
      "cell_type": "code",
      "metadata": {
        "id": "Y8Bc2UJs6Tl7",
        "colab_type": "code",
        "outputId": "f9a82985-6aeb-43cd-a297-8d2acd497c8c",
        "colab": {
          "base_uri": "https://localhost:8080/",
          "height": 33
        }
      },
      "source": [
        "import numpy as np\n",
        "\n",
        "vetor_a = [1,2,3,4,6]\n",
        "vetor_b = [0,2,4,6]\n",
        "list(set(vetor_a) & set(vetor_b))\n",
        "\n"
      ],
      "execution_count": 0,
      "outputs": [
        {
          "output_type": "execute_result",
          "data": {
            "text/plain": [
              "[2, 4, 6]"
            ]
          },
          "metadata": {
            "tags": []
          },
          "execution_count": 14
        }
      ]
    },
    {
      "cell_type": "markdown",
      "metadata": {
        "id": "LBf5MCN56Tl_",
        "colab_type": "text"
      },
      "source": [
        "10. Retorne os valores únicos do vetor `a` que não estão no vetor `b` (diferença).\n",
        "**Saída**: [1, 3]"
      ]
    },
    {
      "cell_type": "code",
      "metadata": {
        "id": "cLN3Hsjk6TmC",
        "colab_type": "code",
        "outputId": "0b5f7039-2fd3-4660-bd25-13a752cc97cc",
        "colab": {
          "base_uri": "https://localhost:8080/",
          "height": 33
        }
      },
      "source": [
        "import numpy as np\n",
        "\n",
        "vetor_a = [1,2,3,4,6]\n",
        "vetor_b = [0,2,4,6]\n",
        "list(set(vetor_a) - set(vetor_b))"
      ],
      "execution_count": 0,
      "outputs": [
        {
          "output_type": "execute_result",
          "data": {
            "text/plain": [
              "[1, 3]"
            ]
          },
          "metadata": {
            "tags": []
          },
          "execution_count": 15
        }
      ]
    },
    {
      "cell_type": "markdown",
      "metadata": {
        "id": "wuM6OwPN6TmH",
        "colab_type": "text"
      },
      "source": [
        "11. Retorne um vetor com as posições (índices) onde os elementos do vetor `a` sãos iguais aos elementos do vetor `b`. **Dica**: `where`.\n",
        "**Saída**: [2, 3, 5]"
      ]
    },
    {
      "cell_type": "code",
      "metadata": {
        "id": "-bELtEph6TmH",
        "colab_type": "code",
        "colab": {}
      },
      "source": [
        ""
      ],
      "execution_count": 0,
      "outputs": []
    },
    {
      "cell_type": "markdown",
      "metadata": {
        "id": "EY5G3szx6TmL",
        "colab_type": "text"
      },
      "source": [
        "12. Obtenha todos os itens entre 5 e 15 do vetor `a = [0, 1, 2, 3, . . ., 20]`."
      ]
    },
    {
      "cell_type": "code",
      "metadata": {
        "id": "af1oz0Or6TmM",
        "colab_type": "code",
        "outputId": "f4d96f88-1439-4827-f566-2883ec85ba47",
        "colab": {
          "base_uri": "https://localhost:8080/",
          "height": 33
        }
      },
      "source": [
        "import numpy as np\n",
        "\n",
        "a = np.array([1, 2, 3, 4, 5,6,7,8,9,10,11,12,13,14,15,16,17,18,19,20])\n",
        "print(a[4:15]) "
      ],
      "execution_count": 0,
      "outputs": [
        {
          "output_type": "stream",
          "text": [
            "[ 5  6  7  8  9 10 11 12 13 14 15]\n"
          ],
          "name": "stdout"
        }
      ]
    },
    {
      "cell_type": "markdown",
      "metadata": {
        "id": "93LPszuO6TmP",
        "colab_type": "text"
      },
      "source": [
        "13. Crie e imprima um vetor com 5 números aleatórios, sem seguida, obtenha os valores máximo e mínimo dele e mostre na tela."
      ]
    },
    {
      "cell_type": "code",
      "metadata": {
        "id": "tr4wiyYZ6TmQ",
        "colab_type": "code",
        "outputId": "2dc17b33-7f8b-4333-d930-459c066c4d75",
        "colab": {
          "base_uri": "https://localhost:8080/",
          "height": 66
        }
      },
      "source": [
        "import numpy as np\n",
        " \n",
        "vetor_aleatorio = np.random.rand(5)\n",
        "print(vetor_aleatorio)\n",
        "print(vetor_aleatorio.min())\n",
        "print(vetor_aleatorio.max())"
      ],
      "execution_count": 0,
      "outputs": [
        {
          "output_type": "stream",
          "text": [
            "[0.55396319 0.54091966 0.14442639 0.54095178 0.56371754]\n",
            "0.14442638865797874\n",
            "0.5637175402605108\n"
          ],
          "name": "stdout"
        }
      ]
    },
    {
      "cell_type": "markdown",
      "metadata": {
        "id": "wGkgEG3L6TmU",
        "colab_type": "text"
      },
      "source": [
        "14. Crie a seguinte matriz:\n",
        "\n",
        "|   |   |   |\n",
        "|:-:|:-:|:-:|\n",
        "| 7 | 8 | 9 |\n",
        "| 4 | 5 | 6 |\n",
        "| 1 | 2 | 3 |"
      ]
    },
    {
      "cell_type": "code",
      "metadata": {
        "id": "rowp23so6TmV",
        "colab_type": "code",
        "outputId": "07be6203-e4e6-4a8e-c5b0-2e46980bb5ef",
        "colab": {
          "base_uri": "https://localhost:8080/",
          "height": 66
        }
      },
      "source": [
        "import numpy as np\n",
        "\n",
        "matriz_numpy = np.array([[7, 8, 9], [4, 5, 6], [1,2,3]]) \n",
        "print(matriz_numpy)"
      ],
      "execution_count": 0,
      "outputs": [
        {
          "output_type": "stream",
          "text": [
            "[[7 8 9]\n",
            " [4 5 6]\n",
            " [1 2 3]]\n"
          ],
          "name": "stdout"
        }
      ]
    },
    {
      "cell_type": "markdown",
      "metadata": {
        "id": "ABJxCyJk6Tma",
        "colab_type": "text"
      },
      "source": [
        "15. Troque de lugar a primeira coluna com a útllima coluna da matriz."
      ]
    },
    {
      "cell_type": "code",
      "metadata": {
        "id": "8No10NYo6Tma",
        "colab_type": "code",
        "outputId": "8426c6ad-4307-4503-d5c0-ab5b4808b7a1",
        "colab": {
          "base_uri": "https://localhost:8080/",
          "height": 50
        }
      },
      "source": [
        "import numpy as np\n",
        "matriz_numpy = np.array([[7, 8, 9], [4, 5, 6], [1,2,3]]) \n",
        "\n",
        "primeira_coluna=(matriz_numpy[0:3, 0])\n",
        "segunda_coluna=(matriz_numpy[0:3,2])\n",
        "\n",
        "print(primeira_coluna)\n",
        "print(segunda_coluna)\n"
      ],
      "execution_count": 0,
      "outputs": [
        {
          "output_type": "stream",
          "text": [
            "[7 4 1]\n",
            "[9 6 3]\n"
          ],
          "name": "stdout"
        }
      ]
    },
    {
      "cell_type": "markdown",
      "metadata": {
        "id": "2s0ZmEye6Tmc",
        "colab_type": "text"
      },
      "source": [
        "16. Troque de lugar a primeira linha com a útllima linha da matriz."
      ]
    },
    {
      "cell_type": "code",
      "metadata": {
        "id": "t1qtg5U-6Tmc",
        "colab_type": "code",
        "outputId": "9fa24f4b-964a-40e4-c8c9-f6f608c973d3",
        "colab": {
          "base_uri": "https://localhost:8080/",
          "height": 66
        }
      },
      "source": [
        "import numpy as np\n",
        "matriz_numpy = np.array([[7, 8, 9], [4, 5, 6], [1,2,3]]) \n",
        "\n",
        "print(matriz_numpy[ : :-1])"
      ],
      "execution_count": 0,
      "outputs": [
        {
          "output_type": "stream",
          "text": [
            "[[1 2 3]\n",
            " [4 5 6]\n",
            " [7 8 9]]\n"
          ],
          "name": "stdout"
        }
      ]
    },
    {
      "cell_type": "markdown",
      "metadata": {
        "id": "XrSwCax56Tmf",
        "colab_type": "text"
      },
      "source": [
        "17. Crie uma matriz  7 × 5 preenchida com números decimais aleatórios entre 1 e 5."
      ]
    },
    {
      "cell_type": "code",
      "metadata": {
        "id": "8VnA-Nrx6Tmf",
        "colab_type": "code",
        "outputId": "23e65f9d-e72e-432a-ce8d-6ea445fc403d",
        "colab": {
          "base_uri": "https://localhost:8080/",
          "height": 131
        }
      },
      "source": [
        "import numpy as np\n",
        "\n",
        "matriz = np.random.rand(7,5)\n",
        "print(matriz)"
      ],
      "execution_count": 0,
      "outputs": [
        {
          "output_type": "stream",
          "text": [
            "[[0.20101557 0.21639344 0.88481603 0.20347494 0.9338722 ]\n",
            " [0.35537777 0.90086382 0.74612288 0.07073494 0.05907357]\n",
            " [0.47508239 0.77453112 0.24707515 0.03045951 0.70932749]\n",
            " [0.50454645 0.63456705 0.55117677 0.41372432 0.20597516]\n",
            " [0.68198982 0.00724164 0.29473206 0.52505672 0.64832581]\n",
            " [0.57755198 0.78008119 0.55443857 0.32983116 0.40041285]\n",
            " [0.15173764 0.01073931 0.38435794 0.02008002 0.54554341]]\n"
          ],
          "name": "stdout"
        }
      ]
    },
    {
      "cell_type": "markdown",
      "metadata": {
        "id": "7-VyN9uI6Tmi",
        "colab_type": "text"
      },
      "source": [
        "18. Qual é o comprimento `len` da matriz?"
      ]
    },
    {
      "cell_type": "code",
      "metadata": {
        "id": "myOfT7te6Tmj",
        "colab_type": "code",
        "outputId": "dec7c5f8-9974-45b6-e634-4ba5c2a75752",
        "colab": {
          "base_uri": "https://localhost:8080/",
          "height": 33
        }
      },
      "source": [
        "import numpy as np\n",
        "matriz = np.random.rand(7,5)\n",
        "print(len(matriz))"
      ],
      "execution_count": 0,
      "outputs": [
        {
          "output_type": "stream",
          "text": [
            "7\n"
          ],
          "name": "stdout"
        }
      ]
    },
    {
      "cell_type": "markdown",
      "metadata": {
        "id": "5no88MOk6Tmm",
        "colab_type": "text"
      },
      "source": [
        "19. Quantas dimensões `ndim` a matriz possui?"
      ]
    },
    {
      "cell_type": "code",
      "metadata": {
        "id": "eITWeoMB6Tmm",
        "colab_type": "code",
        "outputId": "8353831b-deb1-4c0c-813c-886626e01a23",
        "colab": {
          "base_uri": "https://localhost:8080/",
          "height": 33
        }
      },
      "source": [
        "import numpy as np\n",
        "matriz = np.random.rand(7,5)\n",
        "print(matriz.ndim)"
      ],
      "execution_count": 0,
      "outputs": [
        {
          "output_type": "stream",
          "text": [
            "2\n"
          ],
          "name": "stdout"
        }
      ]
    },
    {
      "cell_type": "markdown",
      "metadata": {
        "id": "ywV7nNOE6Tmq",
        "colab_type": "text"
      },
      "source": [
        "20. O que a função `shape` retorna?"
      ]
    },
    {
      "cell_type": "code",
      "metadata": {
        "id": "V5uaVyCE6Tmr",
        "colab_type": "code",
        "outputId": "b85f7a54-d20d-4300-9ed0-c451482ce64a",
        "colab": {
          "base_uri": "https://localhost:8080/",
          "height": 33
        }
      },
      "source": [
        "import numpy as np\n",
        "matriz = np.random.rand(7,5)\n",
        "print(matriz.shape)"
      ],
      "execution_count": 0,
      "outputs": [
        {
          "output_type": "stream",
          "text": [
            "(7, 5)\n"
          ],
          "name": "stdout"
        }
      ]
    },
    {
      "cell_type": "markdown",
      "metadata": {
        "id": "l8uQB9PR6Tmt",
        "colab_type": "text"
      },
      "source": [
        "**Resposta**:"
      ]
    },
    {
      "cell_type": "markdown",
      "metadata": {
        "id": "Nc9MkB626Tmt",
        "colab_type": "text"
      },
      "source": [
        "# EXERCÍCIO: Análise de Dados dos Jogadores da FIFA ⚽"
      ]
    },
    {
      "cell_type": "markdown",
      "metadata": {
        "id": "0rDAL8d26Tmt",
        "colab_type": "text"
      },
      "source": [
        "Neste exercício, iremos usar a biblioteca NumPy para fazer uma análise de dados de jogares de futebol da FIFA disponíveis em [`data/fifa.csv`](data/fifa.csv). O conjunto de dados (dataset) foi adaptado da versão original disponibilizada nas plataformas: [Kaggle](https://www.kaggle.com/karangadiya/fifa19/data) e [GitHub](https://github.com/amanthedorkknight/fifa18-all-player-statistics).\n",
        "\n",
        "## Dicionário de Dados\n",
        "\n",
        "| Coluna        | Descrição                                        |\n",
        "|:--------------|:-------------------------------------------------|\n",
        "| id            | Identificador único do jogador                   |\n",
        "| nome          | Nome do jogador                                  |\n",
        "| foto          | URL da fotografia do jogador.                    |\n",
        "| nacionalidade | País do jogador.                                 |\n",
        "| avaliacao     | Avaliação geral do jogador.                      |\n",
        "| potencial     | Indicador da classificação potencial do jogador. |\n",
        "| time          | Nome do time do jogador.                         |\n",
        "| pe_preferido  | Direito (Destro), Esquerdo (Canhoto).            |\n",
        "| reputacao     | Reputação Internacional do jogador.              |\n",
        "| altura_cm     | Altura do jogador em centímetros (cm).           |\n",
        "| peso_kg       | Peso do jogador em kilos (kg).                   |\n",
        "| posicao       | Posição do jogador no time.                      |\n",
        "| numero_camisa | Número da camisa do jogador.                     |"
      ]
    },
    {
      "cell_type": "markdown",
      "metadata": {
        "id": "aF0TOw7Q6Tmu",
        "colab_type": "text"
      },
      "source": [
        "1. Importe o pacote numpy com o nome np."
      ]
    },
    {
      "cell_type": "code",
      "metadata": {
        "id": "h13vYZYI6Tmu",
        "colab_type": "code",
        "colab": {}
      },
      "source": [
        "import numpy as np\n"
      ],
      "execution_count": 0,
      "outputs": []
    },
    {
      "cell_type": "markdown",
      "metadata": {
        "id": "OU1VHunc6Tmy",
        "colab_type": "text"
      },
      "source": [
        "2. Carregue o conjunto de dados da Fifa disponível na pasta (`data/fifa.csv`), ignorando a coluna `foto`, para uma matriz em uma variavel chamada `dados`. **Dicas:**\n",
        "    - Pesquise pela função `genfromtxt`; \n",
        "    - Não esqueça de especificar a codificação (encoding) como UTF-8;\n",
        "    - Ignore o cabeçalho dos dados usando o parâmetro `skip_header=True`"
      ]
    },
    {
      "cell_type": "code",
      "metadata": {
        "id": "E6pikw416Tmz",
        "colab_type": "code",
        "outputId": "b9d92d73-f537-476c-f9f9-d984a0cb177f",
        "colab": {
          "base_uri": "https://localhost:8080/",
          "height": 190
        }
      },
      "source": [
        "dados = np.genfromtxt('/content/drive/My Drive/Colab Notebooks/fifa.csv',\n",
        "                      delimiter=',',\n",
        "                      encoding='utf-8',\n",
        "                      dtype=object,\n",
        "                      skip_header=True,\n",
        "                      usecols=[0, 1, 2, 4, 5, 6, 7, 8, 9, 10,11,12,13])\n",
        "dados"
      ],
      "execution_count": 0,
      "outputs": [
        {
          "output_type": "execute_result",
          "data": {
            "text/plain": [
              "array([[b'158023', b'L. Messi', b'31', ..., b'72.121', b'RF', b'10'],\n",
              "       [b'20801', b'Cristiano Ronaldo', b'33', ..., b'83.007', b'ST',\n",
              "        b'7'],\n",
              "       [b'190871', b'Neymar Jr', b'26', ..., b'68.039', b'LW', b'10'],\n",
              "       ...,\n",
              "       [b'241638', b'B. Worman', b'16', ..., b'67.132', b'ST', b'33'],\n",
              "       [b'246268', b'D. Walker-Rice', b'17', ..., b'69.853', b'RW',\n",
              "        b'34'],\n",
              "       [b'246269', b'G. Nugent', b'16', ..., b'79.832', b'CM', b'33']],\n",
              "      dtype=object)"
            ]
          },
          "metadata": {
            "tags": []
          },
          "execution_count": 128
        }
      ]
    },
    {
      "cell_type": "markdown",
      "metadata": {
        "id": "03glVuwM6Tm3",
        "colab_type": "text"
      },
      "source": [
        "3. Quantas linhas foram lidas do arquivo?"
      ]
    },
    {
      "cell_type": "code",
      "metadata": {
        "id": "11nl7p066Tm4",
        "colab_type": "code",
        "outputId": "0eea7627-7cb6-4c43-df1b-d68b83d23696",
        "colab": {
          "base_uri": "https://localhost:8080/",
          "height": 33
        }
      },
      "source": [
        "import numpy as np\n",
        "\n",
        "dados = np.array(dados)\n",
        "len(dados)"
      ],
      "execution_count": 0,
      "outputs": [
        {
          "output_type": "execute_result",
          "data": {
            "text/plain": [
              "18207"
            ]
          },
          "metadata": {
            "tags": []
          },
          "execution_count": 6
        }
      ]
    },
    {
      "cell_type": "markdown",
      "metadata": {
        "id": "7LFpxhwJ6Tm7",
        "colab_type": "text"
      },
      "source": [
        "4. Quantas dimensões sua variável `dados` possui?"
      ]
    },
    {
      "cell_type": "code",
      "metadata": {
        "id": "YjnbiMCC6Tm8",
        "colab_type": "code",
        "outputId": "c7cb0e1b-926b-4457-d12f-30896f09fbb2",
        "colab": {
          "base_uri": "https://localhost:8080/",
          "height": 33
        }
      },
      "source": [
        "import numpy as np\n",
        "\n",
        "np.ndim(dados)"
      ],
      "execution_count": 0,
      "outputs": [
        {
          "output_type": "execute_result",
          "data": {
            "text/plain": [
              "2"
            ]
          },
          "metadata": {
            "tags": []
          },
          "execution_count": 12
        }
      ]
    },
    {
      "cell_type": "markdown",
      "metadata": {
        "id": "gx5QUdYB6TnB",
        "colab_type": "text"
      },
      "source": [
        "5. O que a função shape retorna?"
      ]
    },
    {
      "cell_type": "code",
      "metadata": {
        "id": "MIn6Oed76TnB",
        "colab_type": "code",
        "outputId": "56b6a0a2-6ad1-47cb-a0da-e266f0e99c11",
        "colab": {
          "base_uri": "https://localhost:8080/",
          "height": 33
        }
      },
      "source": [
        "import numpy as np\n",
        "np.shape(dados)"
      ],
      "execution_count": 0,
      "outputs": [
        {
          "output_type": "execute_result",
          "data": {
            "text/plain": [
              "(18207, 14)"
            ]
          },
          "metadata": {
            "tags": []
          },
          "execution_count": 13
        }
      ]
    },
    {
      "cell_type": "markdown",
      "metadata": {
        "id": "94-FtfxA6TnD",
        "colab_type": "text"
      },
      "source": [
        "**Resposta**:"
      ]
    },
    {
      "cell_type": "markdown",
      "metadata": {
        "id": "frlg5WIU6TnE",
        "colab_type": "text"
      },
      "source": [
        "6. Mostre o dado que está na 3ª linha da 4ª coluna?"
      ]
    },
    {
      "cell_type": "code",
      "metadata": {
        "id": "VOeOmBE96TnE",
        "colab_type": "code",
        "outputId": "dd6618e3-7b1f-4bb2-a750-4abb1f1cb860",
        "colab": {
          "base_uri": "https://localhost:8080/",
          "height": 34
        }
      },
      "source": [
        "import numpy as np\n",
        "\n",
        "dados[2,3]"
      ],
      "execution_count": 0,
      "outputs": [
        {
          "output_type": "execute_result",
          "data": {
            "text/plain": [
              "b'Brasil'"
            ]
          },
          "metadata": {
            "tags": []
          },
          "execution_count": 157
        }
      ]
    },
    {
      "cell_type": "markdown",
      "metadata": {
        "id": "eYeNikcC6TnJ",
        "colab_type": "text"
      },
      "source": [
        "7. Exiba os dados da primeira linha do dataset."
      ]
    },
    {
      "cell_type": "code",
      "metadata": {
        "id": "Row_JID96TnJ",
        "colab_type": "code",
        "outputId": "a91e8574-f923-40e0-8e88-d4fc61bb7542",
        "colab": {
          "base_uri": "https://localhost:8080/",
          "height": 69
        }
      },
      "source": [
        "import numpy as np\n",
        "dados[0]"
      ],
      "execution_count": 0,
      "outputs": [
        {
          "output_type": "execute_result",
          "data": {
            "text/plain": [
              "array([b'158023', b'L. Messi', b'31', b'Argentina', b'94', b'94',\n",
              "       b'FC Barcelona', b'Esquerdo', b'5', b'170', b'72.121', b'RF'],\n",
              "      dtype=object)"
            ]
          },
          "metadata": {
            "tags": []
          },
          "execution_count": 127
        }
      ]
    },
    {
      "cell_type": "markdown",
      "metadata": {
        "id": "YOD0Rb-M6TnM",
        "colab_type": "text"
      },
      "source": [
        "8. Mostre as 5 primeiras linhas do conjunto de dados."
      ]
    },
    {
      "cell_type": "code",
      "metadata": {
        "id": "ynJgxicd6TnM",
        "colab_type": "code",
        "outputId": "7db892cf-b552-461b-ca67-945d856ad128",
        "colab": {
          "base_uri": "https://localhost:8080/",
          "height": 196
        }
      },
      "source": [
        "import numpy as np\n",
        "dados[:5]"
      ],
      "execution_count": 0,
      "outputs": [
        {
          "output_type": "execute_result",
          "data": {
            "text/plain": [
              "array([[b'158023', b'L. Messi', b'31', b'Argentina', b'94', b'94',\n",
              "        b'FC Barcelona', b'Esquerdo', b'5', b'170', b'72.121'],\n",
              "       [b'20801', b'Cristiano Ronaldo', b'33', b'Portugal', b'94', b'94',\n",
              "        b'Juventus', b'Direito', b'5', b'188', b'83.007'],\n",
              "       [b'190871', b'Neymar Jr', b'26', b'Brasil', b'92', b'93',\n",
              "        b'Paris Saint-Germain', b'Direito', b'5', b'175', b'68.039'],\n",
              "       [b'193080', b'De Gea', b'27', b'Espanha', b'91', b'93',\n",
              "        b'Manchester United', b'Direito', b'4', b'193', b'76.204'],\n",
              "       [b'192985', b'K. De Bruyne', b'27', b'B\\xe9lgica', b'91', b'92',\n",
              "        b'Manchester City', b'Direito', b'4', b'155', b'69.853']],\n",
              "      dtype=object)"
            ]
          },
          "metadata": {
            "tags": []
          },
          "execution_count": 39
        }
      ]
    },
    {
      "cell_type": "markdown",
      "metadata": {
        "id": "tRvi2Rgd6TnN",
        "colab_type": "text"
      },
      "source": [
        "9. Selecione todas as linhas da coluna `nome` (segunda coluna). **Dica:** use o operador `:`"
      ]
    },
    {
      "cell_type": "code",
      "metadata": {
        "id": "gHAIuhu56TnN",
        "colab_type": "code",
        "outputId": "34494d84-3c0b-4310-a661-107ce94ab188",
        "colab": {
          "base_uri": "https://localhost:8080/",
          "height": 131
        }
      },
      "source": [
        "import numpy as np\n",
        "\n",
        "dados = np.array(dados);\n",
        "nome = dados[:,[1]]\n",
        "print(nome)"
      ],
      "execution_count": 0,
      "outputs": [
        {
          "output_type": "stream",
          "text": [
            "[[b'L. Messi']\n",
            " [b'Cristiano Ronaldo']\n",
            " [b'Neymar Jr']\n",
            " ...\n",
            " [b'B. Worman']\n",
            " [b'D. Walker-Rice']\n",
            " [b'G. Nugent']]\n"
          ],
          "name": "stdout"
        }
      ]
    },
    {
      "cell_type": "markdown",
      "metadata": {
        "id": "DbMAYC0U6TnQ",
        "colab_type": "text"
      },
      "source": [
        "10. Inicialize um vetor de inteiros NumPy chamado: **idades**; com todas as linhas da coluna `idade` (3ª coluna)."
      ]
    },
    {
      "cell_type": "code",
      "metadata": {
        "id": "R3ebzlYw6TnQ",
        "colab_type": "code",
        "outputId": "32286c69-fd72-429d-83f7-315b1334cdfc",
        "colab": {
          "base_uri": "https://localhost:8080/",
          "height": 131
        }
      },
      "source": [
        "import numpy as np\n",
        "idades = np.array(dados[:,2], dtype = int)\n",
        "print(idade) \n",
        "\n"
      ],
      "execution_count": 0,
      "outputs": [
        {
          "output_type": "stream",
          "text": [
            "[[b'31']\n",
            " [b'33']\n",
            " [b'26']\n",
            " ...\n",
            " [b'16']\n",
            " [b'17']\n",
            " [b'16']]\n"
          ],
          "name": "stdout"
        }
      ]
    },
    {
      "cell_type": "markdown",
      "metadata": {
        "id": "uBw-X8_V6TnR",
        "colab_type": "text"
      },
      "source": [
        "11. Qual é a média de idades dos jogadores?"
      ]
    },
    {
      "cell_type": "code",
      "metadata": {
        "id": "hXRKst996TnS",
        "colab_type": "code",
        "outputId": "27fa7c96-c0c5-48f9-e00a-e0db2ffa8f1d",
        "colab": {
          "base_uri": "https://localhost:8080/",
          "height": 33
        }
      },
      "source": [
        "import numpy as np\n",
        "\n",
        "idades.mean()"
      ],
      "execution_count": 0,
      "outputs": [
        {
          "output_type": "execute_result",
          "data": {
            "text/plain": [
              "25.122205745043114"
            ]
          },
          "metadata": {
            "tags": []
          },
          "execution_count": 55
        }
      ]
    },
    {
      "cell_type": "markdown",
      "metadata": {
        "id": "FVe_bwb76TnU",
        "colab_type": "text"
      },
      "source": [
        "12. Qual é a maior idade do conjunto de dados?"
      ]
    },
    {
      "cell_type": "code",
      "metadata": {
        "id": "_BJI2q4v6TnU",
        "colab_type": "code",
        "outputId": "cbf135b4-e213-4f92-b7a6-ac04590fc308",
        "colab": {
          "base_uri": "https://localhost:8080/",
          "height": 33
        }
      },
      "source": [
        "import numpy as np\n",
        "idades.max()"
      ],
      "execution_count": 0,
      "outputs": [
        {
          "output_type": "execute_result",
          "data": {
            "text/plain": [
              "45"
            ]
          },
          "metadata": {
            "tags": []
          },
          "execution_count": 58
        }
      ]
    },
    {
      "cell_type": "markdown",
      "metadata": {
        "id": "zU3bJcMC6TnY",
        "colab_type": "text"
      },
      "source": [
        "13. Qual é a menor idade do conjunto de dados?"
      ]
    },
    {
      "cell_type": "code",
      "metadata": {
        "id": "7R-5OLuv6TnY",
        "colab_type": "code",
        "outputId": "ca6c2918-874e-4b76-a9ae-39f610c32887",
        "colab": {
          "base_uri": "https://localhost:8080/",
          "height": 33
        }
      },
      "source": [
        "import numpy as np\n",
        "idades.min()"
      ],
      "execution_count": 0,
      "outputs": [
        {
          "output_type": "execute_result",
          "data": {
            "text/plain": [
              "16"
            ]
          },
          "metadata": {
            "tags": []
          },
          "execution_count": 59
        }
      ]
    },
    {
      "cell_type": "markdown",
      "metadata": {
        "id": "DNuZJBSf6Tna",
        "colab_type": "text"
      },
      "source": [
        "14. Selecione todos os jogadores que possuem a maior idade deste conjunto de dados. Quantas linhas retornaram? "
      ]
    },
    {
      "cell_type": "code",
      "metadata": {
        "id": "XsmF8fA-6Tna",
        "colab_type": "code",
        "outputId": "f2910958-31bc-4bec-cbe5-ed75d0f1c703",
        "colab": {
          "base_uri": "https://localhost:8080/",
          "height": 66
        }
      },
      "source": [
        "import numpy as np\n",
        "\n",
        "idade_big = idades.max()\n",
        "condicao = dados[:,2].astype(int) == idade_big\n",
        "print(dados[condicao, :])\n",
        "len(dados[condicao, :])"
      ],
      "execution_count": 0,
      "outputs": [
        {
          "output_type": "stream",
          "text": [
            "[[b'140029' b'O. P\\xe9rez' b'45' b'' b'71' b'71' b'Pachuca' b'Direito'\n",
            "  b'2' b'173' b'74.843']]\n"
          ],
          "name": "stdout"
        },
        {
          "output_type": "execute_result",
          "data": {
            "text/plain": [
              "1"
            ]
          },
          "metadata": {
            "tags": []
          },
          "execution_count": 72
        }
      ]
    },
    {
      "cell_type": "markdown",
      "metadata": {
        "id": "rPXiIbPc6Tnc",
        "colab_type": "text"
      },
      "source": [
        "15. Selecione todos os jogadores que possuem a menor idade deste conjunto de dados. Quantas linhas retornaram? "
      ]
    },
    {
      "cell_type": "code",
      "metadata": {
        "id": "pYAaOiy_6Tnc",
        "colab_type": "code",
        "outputId": "f22eae6b-521f-4001-98e2-9a1ee6c0ca64",
        "colab": {
          "base_uri": "https://localhost:8080/",
          "height": 1000
        }
      },
      "source": [
        "import numpy as np\n",
        "\n",
        "menor_idade = idades.min()\n",
        "condicao = dados[:,2].astype(int) == menor_idade\n",
        "print(dados[condicao, :])\n",
        "len(dados[condicao, :])"
      ],
      "execution_count": 0,
      "outputs": [
        {
          "output_type": "stream",
          "text": [
            "[[b'241266' b'W. Geubbels' b'16' b'' b'64' b'86' b'AS Monaco' b'Direito'\n",
            "  b'1' b'185' b'72.121']\n",
            " [b'244403' b'A. Taoui' b'16' b'' b'64' b'75' b'Toulouse Football Club'\n",
            "  b'Esquerdo' b'1' b'152' b'68.946']\n",
            " [b'245616' b'Pelayo Morilla' b'16' b'' b'63' b'81'\n",
            "  b'Real Sporting de Gij\\xf3n' b'Esquerdo' b'1' b'183' b'69.853']\n",
            " [b'246465' b'Guerrero' b'16' b'' b'63' b'76' b'CF Rayo Majadahonda'\n",
            "  b'Esquerdo' b'1' b'155' b'74.843']\n",
            " [b'246594' b'H. Massengo' b'16' b'' b'62' b'75' b'AS Monaco' b'Direito'\n",
            "  b'1' b'152' b'66.224']\n",
            " [b'246419' b'Y. Verschaeren' b'16' b'' b'62' b'83' b'RSC Anderlecht'\n",
            "  b'Direito' b'1' b'173' b'63.049']\n",
            " [b'245015' b'Y. Roemer' b'16' b'' b'59' b'75' b'VVV-Venlo' b'Direito'\n",
            "  b'1' b'155' b'69.853']\n",
            " [b'243169' b'Y. Begraoui' b'16' b'' b'59' b'81' b'AJ Auxerre' b'Direito'\n",
            "  b'1' b'175' b'62.142']\n",
            " [b'241650' b'J. Lahne' b'16' b'' b'59' b'77' b'IF Brommapojkarna'\n",
            "  b'Direito' b'1' b'170' b'68.039']\n",
            " [b'241552' b'J. Italiano' b'16' b'' b'58' b'79' b'Perth Glory'\n",
            "  b'Direito' b'1' b'170' b'64.864']\n",
            " [b'244728' b'S. Steijn' b'16' b'' b'58' b'72' b'VVV-Venlo' b'Direito'\n",
            "  b'1' b'173' b'60.781']\n",
            " [b'242531' b'J. Kitolano' b'16' b'' b'57' b'75' b'Odds BK' b'Direito'\n",
            "  b'1' b'170' b'69.853']\n",
            " [b'240562' b'D. Adshead' b'16' b'' b'57' b'77' b'Rochdale' b'Direito'\n",
            "  b'1' b'185' b'64.864']\n",
            " [b'243646' b'B. Nygren' b'16' b'' b'56' b'73' b'IFK G\\xf6teborg'\n",
            "  b'Esquerdo' b'1' b'183' b'73.028']\n",
            " [b'243269' None b'16' b'' b'55' b'71' b'Kayserispor' b'Direito' b'1'\n",
            "  b'155' b'69.853']\n",
            " [b'245341' b'C. Bassett' b'16' b'' b'55' b'77' b'Colorado Rapids'\n",
            "  b'Direito' b'1' b'155' b'67.132']\n",
            " [b'243353' b'B. Mumba' b'16' b'' b'55' b'80' b'Sunderland' b'Direito'\n",
            "  b'1' b'168' b'57.153']\n",
            " [b'242074' b'R. G\\xf3mez' b'16' b'' b'55' b'76'\n",
            "  b'Belgrano de C\\xf3rdoba' b'Direito' b'1' b'170' b'64.864']\n",
            " [b'245171' b'H. Andersson' b'16' b'' b'55' b'70' b'\\xd6rebro SK'\n",
            "  b'Direito' b'1' b'191' b'68.039']\n",
            " [b'245485' b'P. Samiec-Talar' b'16' b'' b'55' b'73' None b'Direito' b'1'\n",
            "  b'155' b'69.853']\n",
            " [b'242240' b\"L. D'Arrigo\" b'16' b'' b'54' b'71' b'Adelaide United'\n",
            "  b'Direito' b'1' b'175' b'69.853']\n",
            " [b'245470' b'K. Broda' b'16' b'' b'53' b'74' None b'Direito' b'1' b'191'\n",
            "  b'84.822']\n",
            " [b'244752' b'J. Olstad' b'16' b'' b'52' b'69' b'Sarpsborg 08 FF'\n",
            "  b'Direito' b'1' b'173' b'68.039']\n",
            " [b'245537' b'E. Ceide' b'16' b'' b'52' b'75' b'Rosenborg BK' b'Direito'\n",
            "  b'1' b'175' b'69.853']\n",
            " [b'245539' b'B. Waine' b'16' b'' b'52' b'66' b'Wellington Phoenix'\n",
            "  b'Direito' b'1' b'175' b'74.843']\n",
            " [b'246315' b'L. Smyth' b'16' b'' b'52' b'73' b'Stevenage' b'Direito'\n",
            "  b'1' b'152' b'72.121']\n",
            " [b'244553' b'M. K\\xf6stenbauer' b'16' b'' b'52' b'74'\n",
            "  b'FC Admira Wacker M\\xf6dling' b'Direito' b'1' b'185' b'69.853']\n",
            " [b'245123' b'A. Mahlonoko' b'16' b'' b'52' b'71' b'Orlando Pirates'\n",
            "  b'Direito' b'1' b'173' b'58.967']\n",
            " [b'244925' b'F. Tauchhammer' b'16' b'' b'52' b'71' b'Wolfsberger AC'\n",
            "  b'Direito' b'1' b'183' b'63.957']\n",
            " [b'242165' b'R. Hauge' b'16' b'' b'52' b'67' b'FK Bod\\xf8/Glimt'\n",
            "  b'Direito' b'1' b'175' b'69.853']\n",
            " [b'246009' b'M. Tilio' b'16' b'' b'52' b'69' b'Sydney FC' b'Esquerdo'\n",
            "  b'1' b'170' b'67.132']\n",
            " [b'246601' b'J. Rowland' b'16' b'' b'51' b'66' b'Shrewsbury' b'Direito'\n",
            "  b'1' b'165' b'64.864']\n",
            " [b'243891' b'M. Larsen' b'16' b'' b'51' b'71' b'Esbjerg fB' b'Direito'\n",
            "  b'1' b'155' b'68.946']\n",
            " [b'239594' b'J. Imbrechts' b'16' b'' b'51' b'72'\n",
            "  b'Sporting de Charleroi' b'Direito' b'1' b'155' b'68.039']\n",
            " [b'243722' b\"B. O'Gorman\" b'16' b'' b'50' b'69' b'Bray Wanderers'\n",
            "  b'Direito' b'1' b'175' b'73.028']\n",
            " [b'246109' b'K. Lara' b'16' b'' b'50' b'74' b'Atl\\xe9tico Huila'\n",
            "  b'Direito' b'1' b'170' b'64.864']\n",
            " [b'243685' b'J. Cleary' b'16' b'' b'50' b'72' b'Bohemian FC' b'Direito'\n",
            "  b'1' b'152' b'72.121']\n",
            " [b'245808' b'G. Hollywood' b'16' b'' b'49' b'67' b'Bray Wanderers'\n",
            "  b'Direito' b'1' b'152' b'66.224']\n",
            " [b'243866' b'T. Gundelund' b'16' b'' b'48' b'66' b'Vejle Boldklub'\n",
            "  b'Direito' b'1' b'155' b'69.853']\n",
            " [b'243621' b'N. Ay\\xe9va' b'16' b'' b'48' b'72' b'\\xd6rebro SK'\n",
            "  b'Direito' b'1' b'152' b'69.853']\n",
            " [b'241638' b'B. Worman' b'16' b'' b'47' b'67' b'Cambridge United'\n",
            "  b'Direito' b'1' b'173' b'67.132']\n",
            " [b'246269' b'G. Nugent' b'16' b'' b'46' b'66' b'Tranmere Rovers'\n",
            "  b'Direito' b'1' b'152' b'79.832']]\n"
          ],
          "name": "stdout"
        },
        {
          "output_type": "execute_result",
          "data": {
            "text/plain": [
              "42"
            ]
          },
          "metadata": {
            "tags": []
          },
          "execution_count": 71
        }
      ]
    },
    {
      "cell_type": "markdown",
      "metadata": {
        "id": "0VGM_tZB6Tnf",
        "colab_type": "text"
      },
      "source": [
        "16. Selecione todos os jogadores brasileiros para uma variável chamada dados_brasil. Use `b'Brasil'` para fazer a comparação."
      ]
    },
    {
      "cell_type": "code",
      "metadata": {
        "id": "sp5xXIta6Tng",
        "colab_type": "code",
        "outputId": "a6b552ac-17db-4624-c716-f1c5ec729cf1",
        "colab": {
          "base_uri": "https://localhost:8080/",
          "height": 1000
        }
      },
      "source": [
        "import numpy as np\n",
        "condicao = dados[:, 3] == b'Brasil'\n",
        "brasil_dados = dados[condicao,:]\n",
        "\n",
        "print(brasil_dados)\n",
        "len(brasil_dados)"
      ],
      "execution_count": 0,
      "outputs": [
        {
          "output_type": "stream",
          "text": [
            "[[b'190871' b'Neymar Jr' b'26' b'Brasil' b'92' b'93'\n",
            "  b'Paris Saint-Germain' b'Direito' b'5' b'175' b'68.039']\n",
            " [b'200145' b'Casemiro' b'26' b'Brasil' b'88' b'90' b'Real Madrid'\n",
            "  b'Direito' b'3' b'185' b'83.915']\n",
            " [b'189242' b'Coutinho' b'26' b'Brasil' b'88' b'89' b'FC Barcelona'\n",
            "  b'Direito' b'3' b'173' b'68.039']\n",
            " [b'176676' b'Marcelo' b'30' b'Brasil' b'88' b'88' b'Real Madrid'\n",
            "  b'Esquerdo' b'4' b'175' b'79.832']\n",
            " [b'164240' b'Thiago Silva' b'33' b'Brasil' b'88' b'88'\n",
            "  b'Paris Saint-Germain' b'Direito' b'4' b'183' b'82.100']\n",
            " [b'210257' b'Ederson' b'24' b'Brasil' b'86' b'90' b'Manchester City'\n",
            "  b'Esquerdo' b'2' b'188' b'86.183']\n",
            " [b'201942' b'Roberto Firmino' b'26' b'Brasil' b'86' b'87' b'Liverpool'\n",
            "  b'Direito' b'3' b'155' b'76.204']\n",
            " [b'191043' b'Alex Sandro' b'27' b'Brasil' b'86' b'86' b'Juventus'\n",
            "  b'Esquerdo' b'3' b'155' b'79.832']\n",
            " [b'190483' b'Douglas Costa' b'27' b'Brasil' b'86' b'86' b'Juventus'\n",
            "  b'Esquerdo' b'3' b'173' b'69.853']\n",
            " [b'135507' b'Fernandinho' b'33' b'Brasil' b'86' b'86' b'Manchester City'\n",
            "  b'Direito' b'3' b'152' b'67.132']\n",
            " [b'212831' b'Alisson' b'25' b'Brasil' b'85' b'90' b'Liverpool'\n",
            "  b'Direito' b'3' b'191' b'91.172']\n",
            " [b'187961' b'Paulinho' b'29' b'Brasil' b'85' b'85'\n",
            "  b'Guangzhou Evergrande Taobao FC' b'Direito' b'3' b'183' b'71.214']\n",
            " [b'171919' b'Naldo' b'35' b'Brasil' b'85' b'85' b'FC Schalke 04'\n",
            "  b'Direito' b'3' b'198' b'91.172']\n",
            " [b'168609' b'Miranda' b'33' b'Brasil' b'85' b'85' b'Inter' b'Direito'\n",
            "  b'3' b'185' b'78.018']\n",
            " [b'164169' b'Filipe Lu\\xeds' b'32' b'Brasil' b'85' b'85'\n",
            "  b'Atl\\xe9tico Madrid' b'Esquerdo' b'3' b'183' b'73.936']\n",
            " [b'212462' b'Alex Telles' b'25' b'Brasil' b'84' b'87' b'FC Porto'\n",
            "  b'Esquerdo' b'3' b'155' b'71.214']\n",
            " [b'209499' b'Fabinho' b'24' b'Brasil' b'84' b'88' b'Liverpool'\n",
            "  b'Direito' b'3' b'188' b'78.018']\n",
            " [b'207865' b'Marquinhos' b'24' b'Brasil' b'84' b'89'\n",
            "  b'Paris Saint-Germain' b'Direito' b'3' b'183' b'74.843']\n",
            " [b'180403' b'Willian' b'29' b'Brasil' b'84' b'84' b'Chelsea' b'Direito'\n",
            "  b'3' b'175' b'78.018']\n",
            " [b'176769' b'Jonas' b'34' b'Brasil' b'84' b'84' b'SL Benfica' b'Direito'\n",
            "  b'3' b'155' b'73.936']\n",
            " [b'230666' b'Gabriel Jesus' b'21' b'Brasil' b'83' b'92'\n",
            "  b'Manchester City' b'Direito' b'2' b'175' b'73.028']\n",
            " [b'230481' b'Ronaldo Cabrais' b'26' b'Brasil' b'83' b'83' b'Gr\\xeamio'\n",
            "  b'Direito' b'1' b'152' b'74.843']\n",
            " [b'230375' b'Josu\\xe9 Chiamulera' b'26' b'Brasil' b'83' b'83'\n",
            "  b'Gr\\xeamio' b'Direito' b'1' b'185' b'79.832']\n",
            " [b'230294' b'Louri Beretta' b'26' b'Brasil' b'83' b'83'\n",
            "  b'Atl\\xe9tico Mineiro' b'Direito' b'1' b'188' b'83.007']\n",
            " [b'212523' b'Anderson Talisca' b'24' b'Brasil' b'83' b'90'\n",
            "  b'Guangzhou Evergrande Taobao FC' b'Esquerdo' b'2' b'191' b'79.832']\n",
            " [b'207863' b'Felipe' b'29' b'Brasil' b'83' b'83' b'FC Porto' b'Direito'\n",
            "  b'3' b'191' b'86.183']\n",
            " [b'201995' b'Felipe Anderson' b'25' b'Brasil' b'83' b'85'\n",
            "  b'West Ham United' b'Direito' b'3' b'175' b'69.853']\n",
            " [b'200949' b'Lucas Moura' b'25' b'Brasil' b'83' b'84'\n",
            "  b'Tottenham Hotspur' b'Direito' b'3' b'175' b'69.853']\n",
            " [b'199914' b'Allan' b'27' b'Brasil' b'83' b'83' b'Napoli' b'Direito'\n",
            "  b'2' b'175' b'73.936']\n",
            " [b'194404' b'Neto' b'28' b'Brasil' b'83' b'84' b'Valencia CF' b'Direito'\n",
            "  b'2' b'191' b'83.915']\n",
            " [b'188152' b'Oscar' b'26' b'Brasil' b'83' b'84' b'Shanghai SIPG FC'\n",
            "  b'Direito' b'3' b'152' b'66.224']\n",
            " [b'185221' b'Luiz Gustavo' b'30' b'Brasil' b'83' b'83'\n",
            "  b'Olympique de Marseille' b'Esquerdo' b'3' b'188' b'78.018']\n",
            " [b'184942' b'Giuliano' b'28' b'Brasil' b'83' b'83' b'Al Nassr'\n",
            "  b'Direito' b'2' b'173' b'68.039']\n",
            " [b'179944' b'David Luiz' b'31' b'Brasil' b'83' b'83' b'Chelsea'\n",
            "  b'Direito' b'4' b'188' b'86.183']\n",
            " [b'176266' b'Lucas Leiva' b'31' b'Brasil' b'83' b'83' b'Lazio'\n",
            "  b'Direito' b'3' b'152' b'78.018']\n",
            " [b'230658' b'Arthur' b'21' b'Brasil' b'82' b'90' b'FC Barcelona'\n",
            "  b'Direito' b'1' b'170' b'73.028']\n",
            " [b'230258' b'Rosberto Dourado' b'30' b'Brasil' b'82' b'82'\n",
            "  b'Atl\\xe9tico Mineiro' b'Direito' b'1' b'175' b'69.853']\n",
            " [b'230225' b'Juiano Mestres' b'34' b'Brasil' b'82' b'82' b'Cruzeiro'\n",
            "  b'Direito' b'1' b'155' b'82.100']\n",
            " [b'230168' b'Raphaelito Anjos' b'30' b'Brasil' b'82' b'82' b'Gr\\xeamio'\n",
            "  b'Direito' b'1' b'191' b'84.822']\n",
            " [b'222737' b'Malcom' b'21' b'Brasil' b'82' b'89' b'FC Barcelona'\n",
            "  b'Esquerdo' b'2' b'173' b'73.936']\n",
            " [b'209297' b'Fred' b'25' b'Brasil' b'82' b'84' b'Manchester United'\n",
            "  b'Esquerdo' b'1' b'170' b'63.957']\n",
            " [b'201400' b'Rafinha' b'25' b'Brasil' b'82' b'87' b'FC Barcelona'\n",
            "  b'Esquerdo' b'2' b'175' b'71.214']\n",
            " [b'201305' b'Gabriel Paulista' b'27' b'Brasil' b'82' b'83'\n",
            "  b'Valencia CF' b'Direito' b'2' b'188' b'78.925']\n",
            " [b'195093' b'Willian Jos\\xe9' b'26' b'Brasil' b'82' b'83'\n",
            "  b'Real Sociedad' b'Direito' b'2' b'188' b'92.986']\n",
            " [b'188803' b'Taison' b'30' b'Brasil' b'82' b'82' b'Shakhtar Donetsk'\n",
            "  b'Direito' b'2' b'173' b'63.957']\n",
            " [b'168530' b'Jardel' b'32' b'Brasil' b'82' b'82' b'SL Benfica'\n",
            "  b'Direito' b'2' b'193' b'87.090']\n",
            " [b'146530' b'Dani Alves' b'35' b'Brasil' b'82' b'82'\n",
            "  b'Paris Saint-Germain' b'Direito' b'4' b'173' b'68.039']\n",
            " [b'230271' b'Laure Santeiro' b'30' b'Brasil' b'81' b'81' b'Fluminense'\n",
            "  b'Esquerdo' b'1' b'170' b'63.049']\n",
            " [b'189362' b'Hulk' b'31' b'Brasil' b'81' b'81' b'Shanghai SIPG FC'\n",
            "  b'Esquerdo' b'4' b'155' b'84.822']\n",
            " [b'169195' b'Renato Augusto' b'30' b'Brasil' b'81' b'81'\n",
            "  b'Beijing Sinobo Guoan FC' b'Direito' b'2' b'185' b'86.183']\n",
            " [b'144622' b'Raffael' b'33' b'Brasil' b'81' b'81'\n",
            "  b'Borussia M\\xf6nchengladbach' b'Direito' b'2' b'175' b'68.946']\n",
            " [b'230347' b'Welington Dano' b'30' b'Brasil' b'80' b'80' b'Cruzeiro'\n",
            "  b'Esquerdo' b'1' b'152' b'68.946']\n",
            " [b'230234' b'Everton Andr\\xe3o' b'34' b'Brasil' b'80' b'80'\n",
            "  b'Fluminense' b'Direito' b'1' b'152' b'74.843']\n",
            " [b'221540' b'Ra\\xfal' b'28' b'Brasil' b'80' b'80' b'SC Braga'\n",
            "  b'Esquerdo' b'1' b'188' b'81.193']\n",
            " [b'205525' b'Bernard' b'25' b'Brasil' b'80' b'81' b'Everton' b'Direito'\n",
            "  b'2' b'165' b'59.874']\n",
            " [b'201119' b'Ismaily' b'28' b'Brasil' b'80' b'80' b'Shakhtar Donetsk'\n",
            "  b'Esquerdo' b'1' b'152' b'82.100']\n",
            " [b'191687' b'Maicon' b'29' b'Brasil' b'80' b'80' b'Galatasaray SK'\n",
            "  b'Direito' b'2' b'191' b'88.904']\n",
            " [b'180334' b'Marcelo' b'31' b'Brasil' b'80' b'80' b'Olympique Lyonnais'\n",
            "  b'Direito' b'2' b'191' b'84.822']\n",
            " [b'180175' b'Alexandre Pato' b'28' b'Brasil' b'80' b'80'\n",
            "  b'Tianjin Quanjian FC' b'Direito' b'3' b'155' b'81.193']\n",
            " [b'158625' b'Dante' b'34' b'Brasil' b'80' b'80' b'OGC Nice' b'Esquerdo'\n",
            "  b'3' b'188' b'84.822']\n",
            " [b'236632' b'David Neres' b'21' b'Brasil' b'79' b'86' b'Ajax'\n",
            "  b'Esquerdo' b'2' b'175' b'66.224']\n",
            " [b'233419' b'Raphinha' b'21' b'Brasil' b'79' b'86' b'Sporting CP'\n",
            "  b'Esquerdo' b'1' b'175' b'68.039']\n",
            " [b'231943' b'Richarlison' b'21' b'Brasil' b'79' b'86' b'Everton'\n",
            "  b'Direito' b'1' b'155' b'69.853']\n",
            " [b'230498' b'Luimo Boas Santos' b'30' b'Brasil' b'79' b'79' b'Santos'\n",
            "  b'Direito' b'1' b'175' b'73.028']\n",
            " [b'230312' b'Gabri Prest\\xe3o' b'26' b'Brasil' b'79' b'79'\n",
            "  b'Internacional' b'Direito' b'1' b'185' b'79.832']\n",
            " [b'230251' b'Melvin Parrela' b'30' b'Brasil' b'79' b'79'\n",
            "  b'Am\\xe9rica FC (Minas Gerais)' b'Direito' b'1' b'188' b'87.997']\n",
            " [b'230212' b'Ant\\xf4nio Chiamuloira' b'30' b'Brasil' b'79' b'79'\n",
            "  b'Internacional' b'Esquerdo' b'1' b'183' b'78.925']\n",
            " [b'230201' b'Maikel Catarino' b'34' b'Brasil' b'79' b'79'\n",
            "  b'Atl\\xe9tico Mineiro' b'Direito' b'1' b'152' b'74.843']\n",
            " [b'210411' b'Ot\\xe1vio' b'23' b'Brasil' b'79' b'85' b'FC Porto'\n",
            "  b'Direito' b'1' b'173' b'71.214']]\n"
          ],
          "name": "stdout"
        },
        {
          "output_type": "execute_result",
          "data": {
            "text/plain": [
              "69"
            ]
          },
          "metadata": {
            "tags": []
          },
          "execution_count": 70
        }
      ]
    },
    {
      "cell_type": "markdown",
      "metadata": {
        "id": "DVM8DEIo6Tnh",
        "colab_type": "text"
      },
      "source": [
        "17. Quantos são os jogadores brasileiros?"
      ]
    },
    {
      "cell_type": "code",
      "metadata": {
        "id": "91Ei9GGk6Tnh",
        "colab_type": "code",
        "outputId": "4cead109-94cd-40ca-be25-d467790fb9d4",
        "colab": {
          "base_uri": "https://localhost:8080/",
          "height": 33
        }
      },
      "source": [
        "import numpy as np\n",
        "len(brasil_dados)"
      ],
      "execution_count": 0,
      "outputs": [
        {
          "output_type": "execute_result",
          "data": {
            "text/plain": [
              "69"
            ]
          },
          "metadata": {
            "tags": []
          },
          "execution_count": 73
        }
      ]
    },
    {
      "cell_type": "markdown",
      "metadata": {
        "id": "kn6Kohk06Tnj",
        "colab_type": "text"
      },
      "source": [
        "18. Para as colunas `idade`, `altura` e `peso`, calcule:\n",
        "    - Média\n",
        "    - Mediana\n",
        "    - Máximo\n",
        "    - Mínimo"
      ]
    },
    {
      "cell_type": "code",
      "metadata": {
        "id": "nR81MD5B6Tnj",
        "colab_type": "code",
        "outputId": "7ace8d2a-de66-4e98-b783-c3f09110930b",
        "colab": {
          "base_uri": "https://localhost:8080/",
          "height": 225
        }
      },
      "source": [
        "import numpy as np\n",
        "\n",
        "#Idade  \n",
        "idade_vazio = dados[:,2] != b''\n",
        "idade = dados[idade_vazio,2].astype(int)\n",
        "print (\"Media idade:\" , + (idade.mean()))\n",
        "print (\"Mediana idades:\", + (np.median(idade)))\n",
        "print(\"Maximo idades:\", + (idade.max()))\n",
        "print(\"Minimo idades:\", + (idades.min()))\n",
        "\n",
        " #Altura \n",
        "altura_vazio = dados[:,9] !=b''\n",
        "altura = dados[altura_vazio,9].astype(int)\n",
        "print (\"Media altura:\" , + (altura.mean()))\n",
        "print (\"Mediana altura:\", + (np.median(altura)))\n",
        "print(\"Maximo altura:\", + (altura.max()))\n",
        "print(\"Minimo altura:\", + (altura.min()))\n",
        "\n",
        "#Peso \n",
        "peso_vazio = dados[:,10] != b''\n",
        "peso = dados[peso_vazio,10].astype(float)\n",
        "print (\"Media peso:\" , + (peso.mean()))\n",
        "print (\"Mediana peso:\", + (np.median(peso)))\n",
        "print(\"Maximo peso:\", + (peso.max()))\n",
        "print(\"Minimo peso:\", + (peso.min()))"
      ],
      "execution_count": 0,
      "outputs": [
        {
          "output_type": "stream",
          "text": [
            "Media idade: 25.122205745043114\n",
            "Mediana idades: 25.0\n",
            "Maximo idades: 45\n",
            "Minimo idades: 16\n",
            "Media altura: 174.7126493749656\n",
            "Mediana altura: 175.0\n",
            "Maximo altura: 206\n",
            "Minimo altura: 152\n",
            "Media peso: 75.28690153642822\n",
            "Mediana peso: 74.843\n",
            "Maximo peso: 110.223\n",
            "Minimo peso: 49.895\n"
          ],
          "name": "stdout"
        }
      ]
    },
    {
      "cell_type": "markdown",
      "metadata": {
        "id": "1yfuFioq6Tnl",
        "colab_type": "text"
      },
      "source": [
        "19. Calcule o desvio padrão da `reputação` dos jogadores brasileiros"
      ]
    },
    {
      "cell_type": "code",
      "metadata": {
        "id": "UPnyzFFN6Tnm",
        "colab_type": "code",
        "outputId": "118fb7bb-540b-4891-a119-ea169722dc67",
        "colab": {
          "base_uri": "https://localhost:8080/",
          "height": 34
        }
      },
      "source": [
        "import numpy as np\n",
        "reputacao_vazio = dados[:,8] != b''\n",
        "reputacao = dados[reputacao_vazio,8].astype(int)\n",
        "\n",
        "np.std(reputacao)"
      ],
      "execution_count": 0,
      "outputs": [
        {
          "output_type": "execute_result",
          "data": {
            "text/plain": [
              "0.394019906232981"
            ]
          },
          "metadata": {
            "tags": []
          },
          "execution_count": 124
        }
      ]
    },
    {
      "cell_type": "markdown",
      "metadata": {
        "id": "Snpd-NAj6Tno",
        "colab_type": "text"
      },
      "source": [
        "20. Qual jogador brasileiro tem menor pontencial?"
      ]
    },
    {
      "cell_type": "code",
      "metadata": {
        "id": "aX1mzfEC6Tno",
        "colab_type": "code",
        "outputId": "33b13b5d-0e3e-4c4f-c7fe-d716c6c4c18c",
        "colab": {
          "base_uri": "https://localhost:8080/",
          "height": 34
        }
      },
      "source": [
        "import numpy as np\n",
        "condicao = dados[:, 3] == b'Brasil'\n",
        "brasil_dados = dados[condicao,:]\n",
        "potencial = brasil_dados[:,5]\n",
        "\n",
        "\n",
        "potencial.min()\n",
        "\n",
        "\n"
      ],
      "execution_count": 0,
      "outputs": [
        {
          "output_type": "execute_result",
          "data": {
            "text/plain": [
              "b'79'"
            ]
          },
          "metadata": {
            "tags": []
          },
          "execution_count": 170
        }
      ]
    }
  ]
}