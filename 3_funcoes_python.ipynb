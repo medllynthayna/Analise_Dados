{
  "nbformat": 4,
  "nbformat_minor": 0,
  "metadata": {
    "kernelspec": {
      "display_name": "Python 3",
      "language": "python",
      "name": "python3"
    },
    "language_info": {
      "codemirror_mode": {
        "name": "ipython",
        "version": 3
      },
      "file_extension": ".py",
      "mimetype": "text/x-python",
      "name": "python",
      "nbconvert_exporter": "python",
      "pygments_lexer": "ipython3",
      "version": "3.7.4"
    },
    "colab": {
      "name": "3_funcoes_python.ipynb",
      "provenance": [],
      "collapsed_sections": [],
      "include_colab_link": true
    }
  },
  "cells": [
    {
      "cell_type": "markdown",
      "metadata": {
        "id": "view-in-github",
        "colab_type": "text"
      },
      "source": [
        "<a href=\"https://colab.research.google.com/github/medllynthayna/Analise_Dados/blob/master/3_funcoes_python.ipynb\" target=\"_parent\"><img src=\"https://colab.research.google.com/assets/colab-badge.svg\" alt=\"Open In Colab\"/></a>"
      ]
    },
    {
      "cell_type": "markdown",
      "metadata": {
        "id": "f-qoCHSClXpJ",
        "colab_type": "text"
      },
      "source": [
        "# Funções\n",
        "\n",
        "Métodos são blocos de códigos reutilizáveis que realizam tarefas específicas dentro de um programa. Em Python, definimos funções usando a palavra-chave *def*, seguida pelo nome da função, a lista formal de parâmetros entre parêntesis, e, finalizando a assinatura do método com dois pontos (:). É importante lembrar que todas as instruções após a assinatura do método e que formam o corpo da função, devem ser identadas para funcionamento correto do código.\n",
        "\n",
        "```python\n",
        "def soma(a, b):\n",
        "    \"\"\"Retorna a soma de dois números inteiros\"\"\"\n",
        "    return a + b;\n",
        "\n",
        "\n",
        "# Exemplo de uso da função\n",
        "resultado_soma = soma(12, 15) \n",
        "print(resultado_soma) # Saída: 27\n",
        "\n",
        "```\n",
        "\n",
        "Você deve ter notado o comentário logo após a assinatura do método; este tipo de comentário é o que chamamos de *docstring*, e serve para documentarmos as funções para posteriormente, gerarmos automaticamente com auxílio de ferramentas, uma documentação online ou impressa do seu programa. Por isso, comente sempre seu código e escreva-o de maneira mais clara possível para que outras pessoas consigam ler e compreender facilmente o que seu código faz.\n",
        "\n",
        "## Declaração de Argumentos\n",
        "\n",
        "Existem 3 formas diferentes, que podem ser combinadas entre si, para definirmos funções com número variável de argumentos, são elas:\n",
        "\n",
        "**1. Valores Padrão de Argumento**: declaramos um valor padrão para um ou mais argumentos no seguinte formato: *\"arg = value\"*; de tal forma que damos a opção de não especificar valores para tais argumentos e usarmos os valores padrão definidos.\n",
        "\n",
        "```python\n",
        "def exibir_mensagem(mensagem, cortar_apos = 4):\n",
        "    print(message[:cortar_apos]\n",
        "\n",
        "# Exemplo de uso da função\n",
        "exibir_mensagem(\"mensagem\")     # Saída: mens\n",
        "exibir_mensagem(\"mensagem\", 6)  # Saída: mensag\n",
        "```\n",
        "\n",
        "**2. Argumentos por Palavras-Chave**: semelhante a técnica anterior, argumentos por palavra-chave nós declaramos os argumentos no formato *\"arg = value\"*, lembrando que em uma chamada de função as variáveis passadas como parâmetro devem seguir a mesma ordem dos argumentos na assinatura do método.\n",
        "\n",
        "```python\n",
        "def desenha_retangulo(x, y, width = 800, height = 600):\n",
        "    # Instruções\n",
        "    \n",
        "# Exemplo de uso da função\n",
        "desenha_retangulo(0, 0)                               # Argumento por posição usando valores padrão do restante \n",
        "desenha_retangulo(0, 0, width = 1280)                 # Argumento com uma palavra-chave\n",
        "desenha_retangulo(0, 0, width = 1280, height = 1024)  # Argumento com duas palavras-chave\n",
        "desenha_retangulo()                                   # Erro: required argument missing\n",
        "desenha_retangulo(color = \"#CCCCCC\")                  # Erro: argumento por palavra-chave desconhecido\n",
        "desenha_retangulo(0, 0, x = 200, y = 300)             # Erro: valores duplicados par ao mesmo argumento\n",
        "\n",
        "```\n",
        "\n",
        "**3. Listas de Argumentos Arbitrários**: o Python permite você criar listas de argumentos com tamanho variável, de forma que toda vez que você chamar a função você possa especificar qualquer quantidade de argumentos que serão empacotados em uma variável do tipo tupla.\n",
        "\n",
        "```python\n",
        "# O último argumento é marcado com uma asterisco \n",
        "# para indicar que após os dois primeiros parâmetros\n",
        "# qualquer dado enviado para a função será empacotado em uma tupla.\n",
        "def nome_funcao(primeiro_arg, segundo_arg, *restante):\n",
        "    # Instruções\n",
        "    \n",
        "```\n",
        "\n",
        "## Passagem por Valor ou Por Referência?\n",
        "\n",
        "Em Python, objetos passados como argumentos para as funções são passados por *referência*, ou seja, não é feita uma cópia deles para o corpo da função. Desta forma, quando passamos uma lista enorme como argumento, não haverá a cópia  de todos os seus itens para um novo local em memória. Não se esqueça que até mesmo números inteiros são objetos para o Python. \n",
        "\n",
        "Ao passar objetos mutáveis (p. ex: listas e dicionários) como parâmetro, eles podem ser alterados pela função que os chamou e as alterações são visíveis para a função chamadora. Já os objetos imutáveis (p. ex: inteiros e strings), não podem ser alterados pela função chamada, logo, a função chamadora pode ter certeza de que a função chamada não irá alterar os valores das variáveis.\n"
      ]
    },
    {
      "cell_type": "markdown",
      "metadata": {
        "id": "e14ilH_olXpL",
        "colab_type": "text"
      },
      "source": [
        "## Exercícios"
      ]
    },
    {
      "cell_type": "markdown",
      "metadata": {
        "id": "h6CAwEYmlXpN",
        "colab_type": "text"
      },
      "source": [
        "1. Faça um programa contendo o método `verifica(numero)` que retorne 1 se o número digitado for positivo ou 0 se for negativo."
      ]
    },
    {
      "cell_type": "code",
      "metadata": {
        "id": "2G0okglYlXpO",
        "colab_type": "code",
        "outputId": "61cce66a-e25f-48af-b9c5-609a1cca46ab",
        "colab": {
          "base_uri": "https://localhost:8080/",
          "height": 34
        }
      },
      "source": [
        "numero = int(input(\"Digite um número: \"))\n",
        "def verifica(numero):\n",
        "  if (numero >=0):\n",
        "    print(\"1\")\n",
        "  else:\n",
        "    print (\"0\")\n",
        "  "
      ],
      "execution_count": 0,
      "outputs": [
        {
          "output_type": "stream",
          "text": [
            "Digite um número: 2\n"
          ],
          "name": "stdout"
        }
      ]
    },
    {
      "cell_type": "markdown",
      "metadata": {
        "id": "7rP-W3M8lXpS",
        "colab_type": "text"
      },
      "source": [
        "2. Faça um programa contendo o método `somar(inicio, fim)` que receba dois números inteiros positivos como parâmetro e retorne a soma dos N números inteiros existentes entre eles. Ou seja, os parâmetros são exclusives, ou seja, os valores de início e fim não aparecerão no resultado."
      ]
    },
    {
      "cell_type": "code",
      "metadata": {
        "id": "kedRLh6clXpT",
        "colab_type": "code",
        "outputId": "39995f80-7697-4656-9dba-5c1399cd154d",
        "colab": {
          "base_uri": "https://localhost:8080/",
          "height": 34
        }
      },
      "source": [
        "def somar(inicio, fim):\n",
        "  interval = (fim + 1)- (inicio - 1)\n",
        "  sum = 0\n",
        "  if (fim >= inicio):\n",
        "    for i in range(1, interval):\n",
        "      sum += i\n",
        "    sum -= fim\n",
        "    sum -= inicio\n",
        "  else:\n",
        "    return 'O inicio não pode ser menor que o fim '\n",
        "   \n",
        "  \n",
        "  return sum\n",
        "\n",
        "print(somar(1, 7))\n",
        "\n"
      ],
      "execution_count": 0,
      "outputs": [
        {
          "output_type": "stream",
          "text": [
            "20\n"
          ],
          "name": "stdout"
        }
      ]
    },
    {
      "cell_type": "markdown",
      "metadata": {
        "id": "4x1FCux3lXpV",
        "colab_type": "text"
      },
      "source": [
        "3. Faça um programa contendo o método `divisores(a, b, c)` que receba três números inteiros a, b e c, sendo a maior que 1. A função deverá somar todos os inteiros entre b e c que sejam divisíveis por a (inclusive b e c) e retornar o resultado da soma para ser impresso."
      ]
    },
    {
      "cell_type": "code",
      "metadata": {
        "id": "6Vzq5bfMlXpW",
        "colab_type": "code",
        "outputId": "9f874223-c0a0-4aba-8f78-f9b48fea5131",
        "colab": {
          "base_uri": "https://localhost:8080/",
          "height": 33
        }
      },
      "source": [
        "def divisores(a, b, c):\n",
        "  if (a > 1):\n",
        "    soma = b + c\n",
        "    intervalo = (c + 1)- (b - 1) \n",
        "    for i in range(3, intervalo):\n",
        "      if (i % a == 0):\n",
        "        soma += i\n",
        "  else:\n",
        "    return 'O primeiro número precisa ser maior que 1'\n",
        "\n",
        "  return soma\n",
        "\n",
        "print(divisores(2, 3, 8))"
      ],
      "execution_count": 0,
      "outputs": [
        {
          "output_type": "stream",
          "text": [
            "20\n"
          ],
          "name": "stdout"
        }
      ]
    },
    {
      "cell_type": "markdown",
      "metadata": {
        "id": "HaVjCz5HlXpY",
        "colab_type": "text"
      },
      "source": [
        "4. Faça um método `converte_horario(segundos)` que receba um único valor representando segundos e converta esse valor para horas, minutos e segundos; seguindo o formato 00:00:00."
      ]
    },
    {
      "cell_type": "code",
      "metadata": {
        "id": "-nd3n0SGlXpZ",
        "colab_type": "code",
        "outputId": "9d33f328-0992-4d78-9f4f-7b1c166e3443",
        "colab": {
          "base_uri": "https://localhost:8080/",
          "height": 33
        }
      },
      "source": [
        "def converte_horario(segundos):\n",
        "  seconds = segundos % 60\n",
        "  minutos = segundos / 60\n",
        "  minuto = minutos % 60\n",
        "  horas = minutos / 60\n",
        "\n",
        "  return str(int(horas)) + str('hrs') + str (' : ') + str(int(minuto)) + str('min') + str(' : ')  + str(int(seconds)) + str('seg') \n",
        "\n",
        "print(converte_horario(28600))\n"
      ],
      "execution_count": 0,
      "outputs": [
        {
          "output_type": "stream",
          "text": [
            "7hrs : 56min : 40seg\n"
          ],
          "name": "stdout"
        }
      ]
    },
    {
      "cell_type": "markdown",
      "metadata": {
        "id": "OlOMpFIrlXpc",
        "colab_type": "text"
      },
      "source": [
        "5. Crie o método `calcula_reajuste(preco_antigo, preco_atual)` que receba os valores antigo e atual de um produto e determine o percentual de acréscimo entre esses valores."
      ]
    },
    {
      "cell_type": "code",
      "metadata": {
        "id": "LXSiYlRhlXpe",
        "colab_type": "code",
        "outputId": "739c6cfd-4443-4822-e44f-19c7a3296fdb",
        "colab": {
          "base_uri": "https://localhost:8080/",
          "height": 33
        }
      },
      "source": [
        "\n",
        "def calcula_reajuste(preco_antigo, preco_atual):\n",
        "  aumento = (preco_atual / preco_antigo) * 10\n",
        "  return str(aumento)+ ' %'\n",
        "\n",
        "print(calcula_reajuste(50, 110))"
      ],
      "execution_count": 0,
      "outputs": [
        {
          "output_type": "stream",
          "text": [
            "22.0 %\n"
          ],
          "name": "stdout"
        }
      ]
    },
    {
      "cell_type": "markdown",
      "metadata": {
        "id": "VtVRwUWPlXph",
        "colab_type": "text"
      },
      "source": [
        "6. Crie o método `imprime_multiplicacao(n)` que receba como parâmetro um número inteiro no intervalo de 1 a 9 (inclusive) e mostre a seguinte tabela de multiplicação (no exemplo, n = 9):\n",
        "\n",
        "\n",
        "1<br/> \n",
        "2  4 <br/>\n",
        "3 6 9  <br/>\n",
        "4 8 12 16  <br/>\n",
        "5 10 15 20 25  <br/>\n",
        "6 12 18 24 30 36  <br/>\n",
        "7 14 21 28 35 42 49  <br/>\n",
        "8 16 24 32 40 48 56 64  <br/>\n",
        "9 18 27 36 45 54 63 72 81  <br/>"
      ]
    },
    {
      "cell_type": "code",
      "metadata": {
        "id": "M8cTuo_llXpi",
        "colab_type": "code",
        "outputId": "6b355de3-6073-4a56-e3e3-4bbc82402e83",
        "colab": {
          "base_uri": "https://localhost:8080/",
          "height": 196
        }
      },
      "source": [
        "def imprime_multiplicacao(n):\n",
        "  contagem = 1\n",
        "  for i in range(contagem, n + 1):\n",
        "    print(i)\n",
        "    for ii in range(contagem, i + 1):\n",
        "      result = ii * i\n",
        "      print(result, end=\" \")\n",
        "     \n",
        "      \n",
        "\n",
        "\n",
        "print(imprime_multiplicacao(10))"
      ],
      "execution_count": 0,
      "outputs": [
        {
          "output_type": "stream",
          "text": [
            "1\n",
            "1 2\n",
            "2 4 3\n",
            "3 6 9 4\n",
            "4 8 12 16 5\n",
            "5 10 15 20 25 6\n",
            "6 12 18 24 30 36 7\n",
            "7 14 21 28 35 42 49 8\n",
            "8 16 24 32 40 48 56 64 9\n",
            "9 18 27 36 45 54 63 72 81 10\n",
            "10 20 30 40 50 60 70 80 90 100 None\n"
          ],
          "name": "stdout"
        }
      ]
    },
    {
      "cell_type": "markdown",
      "metadata": {
        "id": "FM82YXKrlXpk",
        "colab_type": "text"
      },
      "source": [
        "7. crie o método `media_alunos(nota1, nota2, nota3, tipo)` que receba as três notas de um aluno como parâmetros e um número inteiro indicando o tipo de média. Se o número for 0, a função deverá calcular a média aritmética das notas do aluno; se for 1, deverá calcular a média ponderada, com pesos os respectivos pesos: 5, 3 e 2. A média calculada deverá ser retornada pela função."
      ]
    },
    {
      "cell_type": "code",
      "metadata": {
        "id": "l0rk5q2wlXpl",
        "colab_type": "code",
        "outputId": "da1fd084-21aa-4d15-a2c3-07ba55d89c21",
        "colab": {
          "base_uri": "https://localhost:8080/",
          "height": 50
        }
      },
      "source": [
        "def mediaAlunos(nota1, nota2, nota3, tipo):\n",
        " \n",
        "  if (tipo == 1):\n",
        "    media = ((nota1 * 5) + (nota2 * 3) + (nota3 * 2)) / (5 + 3 + 2)\n",
        "  elif tipo == 0:\n",
        "    media = (nota1 + nota2 + nota3) / 3\n",
        "  else:\n",
        "    return 'Tipo não permitido'\n",
        "\n",
        "  return media\n",
        "\n",
        "print(mediaAlunos(10,2,3,1))\n",
        "print(mediaAlunos(10,2,3,0))\n",
        "\n"
      ],
      "execution_count": 0,
      "outputs": [
        {
          "output_type": "stream",
          "text": [
            "6.2\n",
            "5.0\n"
          ],
          "name": "stdout"
        }
      ]
    },
    {
      "cell_type": "markdown",
      "metadata": {
        "id": "nsEO_ezFlXpo",
        "colab_type": "text"
      },
      "source": [
        "8. Faça o método `maior_menor(numeros)` que receba um vetor de números inteiros como parâmetro, em seguida, determine e imprima na tela o maior e o menor número."
      ]
    },
    {
      "cell_type": "code",
      "metadata": {
        "id": "cZyYIdM1lXpp",
        "colab_type": "code",
        "outputId": "fd6061fc-2dfd-4c13-d9d2-12effb6405bc",
        "colab": {
          "base_uri": "https://localhost:8080/",
          "height": 33
        }
      },
      "source": [
        "\n",
        "def maiorMenor(numeros):\n",
        "  menor = numeros[0]\n",
        "  maior = numeros[0]\n",
        "\n",
        "  for i in range(len(numeros)):\n",
        "    if (numeros[i] < menor):\n",
        "      menor = numeros[i]\n",
        "\n",
        "  for i in range(len(numeros)):\n",
        "    if (numeros[i] > maior):\n",
        "      maior = numeros[i]\n",
        "\n",
        "  return maior,menor \n",
        "\n",
        "array = [10,55,250,4]\n",
        "print(maiorMenor(array))"
      ],
      "execution_count": 0,
      "outputs": [
        {
          "output_type": "stream",
          "text": [
            "(250, 4)\n"
          ],
          "name": "stdout"
        }
      ]
    },
    {
      "cell_type": "markdown",
      "metadata": {
        "id": "rsR3Ib9FlXps",
        "colab_type": "text"
      },
      "source": [
        "9. Foi realizada uma pesquisa sobre algumas características físicas dos habitantes de uma região. Foram coletados os seguintes dados de cada habitante: sexo, cor dos olhos (A — azuis; ou C — castanhos), cor dos cabelos (L — louros; P — pretos; ou C — castanhos) e idade. Implemente os seguintes métodos:\n",
        "\n",
        "    1. `leia_dados()`: leia esses dados, armazene e retorne os dados em uma lista;\n",
        "    2. `media_idades(dados)`: calcula e retorne a média de idade das pessoas com olhos castanhos e cabelos pretos;\n",
        "    3. `maior_idade(dados)`: determina e retorne a maior idade entre os habitantes;\n",
        "    4. `frequencia_individuos(dados)`: calcula e retorna a quantidade de indivíduos do sexo feminino com idade entre 18 e 35 anos (inclusive) e que tenham olhos azuis e cabelos louros."
      ]
    },
    {
      "cell_type": "code",
      "metadata": {
        "id": "DqGhZCKslXpv",
        "colab_type": "code",
        "colab": {}
      },
      "source": [
        "\n"
      ],
      "execution_count": 0,
      "outputs": []
    },
    {
      "cell_type": "markdown",
      "metadata": {
        "id": "8i_Fy5ySlXp0",
        "colab_type": "text"
      },
      "source": [
        "10. Implemente o método `fatorial(n)` que receba como parâmetro um número inteiro e retorne o fatorial deste número."
      ]
    },
    {
      "cell_type": "code",
      "metadata": {
        "id": "o1UvlaVglXp1",
        "colab_type": "code",
        "outputId": "4d2dfe39-0609-45fa-bd64-a7809fa36162",
        "colab": {
          "base_uri": "https://localhost:8080/",
          "height": 33
        }
      },
      "source": [
        "def fatorial(n):\n",
        "  resultado = 1\n",
        "  for i in range(1,n +1):\n",
        "    resultado *= i\n",
        "  return resultado\n",
        "print(fatorial(7))"
      ],
      "execution_count": 0,
      "outputs": [
        {
          "output_type": "stream",
          "text": [
            "5040\n"
          ],
          "name": "stdout"
        }
      ]
    },
    {
      "cell_type": "markdown",
      "metadata": {
        "id": "CgPSMxGzlXp4",
        "colab_type": "text"
      },
      "source": [
        "11. Faça o método `calcula_fatorial(numeros)` que receba uma lista de números inteiros como parâmetro. Ao final dessa função, deverá ter sido gerado um vetor `resultados_fatorial` contendo o fatorial de cada elemento da lista de números passada como parâmetro."
      ]
    },
    {
      "cell_type": "code",
      "metadata": {
        "id": "FBw1tiDplXp5",
        "colab_type": "code",
        "outputId": "37170a60-e860-4088-92cd-59835cfb66fa",
        "colab": {
          "base_uri": "https://localhost:8080/",
          "height": 33
        }
      },
      "source": [
        "def calcula_fatorial(lista):\n",
        "  \n",
        "  resultados_fatorial = []\n",
        "  resultado = 1\n",
        "  for i in range(len(lista)):\n",
        "    item = lista[i]\n",
        "    for ii in range(item, 1, -1):\n",
        "      resultado *= ii\n",
        "    resultados_fatorial.append(resultado)\n",
        "    resultado = 1\n",
        "\n",
        "  return resultados_fatorial\n",
        "  \n",
        "_lista = [5, 4, 6, 7]\n",
        "print(calcula_fatorial(_lista))"
      ],
      "execution_count": 9,
      "outputs": [
        {
          "output_type": "stream",
          "text": [
            "[120, 24, 720, 5040]\n"
          ],
          "name": "stdout"
        }
      ]
    },
    {
      "cell_type": "markdown",
      "metadata": {
        "id": "nWvXDj5IlXqG",
        "colab_type": "text"
      },
      "source": [
        "12. Crie o método `identifica_numeros_pares(numeros)` que recebe um vetor de números inteiros como parâmetro, calcule e mostre na tela os números pares e suas respectivas posições."
      ]
    },
    {
      "cell_type": "code",
      "metadata": {
        "id": "C21FkK0-lXqI",
        "colab_type": "code",
        "outputId": "ff6feb09-4aa4-4b52-d9d8-18b64d7cabc8",
        "colab": {
          "base_uri": "https://localhost:8080/",
          "height": 66
        }
      },
      "source": [
        "\n",
        "def identifica_numeros_pares(numeros):\n",
        "  for i in range(len(numeros)):\n",
        "    if (numeros[i] % 2 == 0):\n",
        "      print(\"Número: \" + str (numeros[i]) + \" Posição: \" + str(numeros.index(numeros[i])))\n",
        "\n",
        "vetor = [5, 4, 6, 7,8,3,110,230]\n",
        "print(identifica_numeros_pares(vetor))"
      ],
      "execution_count": 0,
      "outputs": [
        {
          "output_type": "stream",
          "text": [
            "numero: 2 index: 1\n",
            "numero: 4 index: 3\n",
            "None\n"
          ],
          "name": "stdout"
        }
      ]
    },
    {
      "cell_type": "markdown",
      "metadata": {
        "id": "3gPohgJalXqK",
        "colab_type": "text"
      },
      "source": [
        "13. Crie o método `intercala(a, b)` que receba dois vetores númericos como parâmetro e retorne o vetor resultante da intercalação deles, por exemplo:\n",
        "\n",
        "    * Vetor A = [3, 5, 4, 2, 2, 5, 3, 2, 5, 9]\n",
        "    * Vetor B = [7, 15, 20, 0, 18, 4, 55, 23, 8, 6]\n",
        "    * Vetor Intercalado = [3, 7, 5, 15, 4, 20, 2, 0, 2, 18, 5, 4, 3, 55, 2, 23, 5, 8, 9, 6]\n"
      ]
    },
    {
      "cell_type": "code",
      "metadata": {
        "id": "GacidSQelXqL",
        "colab_type": "code",
        "outputId": "c97c7c4f-0378-4552-ade3-fac09deaf5bc",
        "colab": {
          "base_uri": "https://localhost:8080/",
          "height": 33
        }
      },
      "source": [
        "def intercala(a, b):\n",
        "  intercalado = []\n",
        "  for i in range(len(b)):\n",
        "    intercalado.append(a[i])\n",
        "    intercalado.append(b[i])\n",
        "  return intercalado\n",
        "\n",
        "vetorA = [3, 5, 4]\n",
        "vetorB =  [7, 15, 20]\n",
        "print(intercala(vetorA, vetorB))"
      ],
      "execution_count": 5,
      "outputs": [
        {
          "output_type": "stream",
          "text": [
            "[3, 7, 5, 15, 4, 20]\n"
          ],
          "name": "stdout"
        }
      ]
    },
    {
      "cell_type": "markdown",
      "metadata": {
        "id": "wNSAfARSlXqP",
        "colab_type": "text"
      },
      "source": [
        "14. Implemente o método `uniao(a, b)` que receba dois vetores numéricos como parâmetro, calcule e retorne um vetor numérico com a união entre a e b (A ∪ B), ou seja, que possua todos os elementos dos vetores A e B, sem repetições."
      ]
    },
    {
      "cell_type": "code",
      "metadata": {
        "id": "XbUaH6Q4lXqQ",
        "colab_type": "code",
        "outputId": "44c7d301-ecad-4460-ca65-5dcae4fefde9",
        "colab": {
          "base_uri": "https://localhost:8080/",
          "height": 33
        }
      },
      "source": [
        "def uniao(a, b):\n",
        "  itens = a + b\n",
        "  uniao = []\n",
        "  itens.sort()\n",
        "  for i in range(len(itens)):\n",
        "    if (itens[i] != itens[i - 1]):\n",
        "      uniao.append(itens[i])\n",
        "  \n",
        "  return uniao\n",
        "vetorA = [50, 2, 50, 25,100]\n",
        "vetorB =  [2, 10, 4, 25]\n",
        "print(uniao(vetorA, vetorB))"
      ],
      "execution_count": 0,
      "outputs": [
        {
          "output_type": "stream",
          "text": [
            "[2, 4, 10, 25, 50, 100]\n"
          ],
          "name": "stdout"
        }
      ]
    },
    {
      "cell_type": "markdown",
      "metadata": {
        "id": "LjJSjZ3ylXqT",
        "colab_type": "text"
      },
      "source": [
        "15. Implemente o método `diferenca(a, b)` que receba dois vetores numéricos como parâmetro, calcule e retorne um vetor numérico com a diferença entre a e b (A - B), ou seja, todos os elementos do vetores A que não existam no vetor B, sem repetições."
      ]
    },
    {
      "cell_type": "code",
      "metadata": {
        "id": "6OQ5RxAilXqU",
        "colab_type": "code",
        "outputId": "d7d03097-8baf-4178-dba2-1937b0c6f5ca",
        "colab": {
          "base_uri": "https://localhost:8080/",
          "height": 33
        }
      },
      "source": [
        "def diferenca(a, b):\n",
        "  itens = a + b\n",
        "  itens.sort()\n",
        "  diferenca = []\n",
        "  \n",
        "  for i in range(len(itens)):\n",
        "    if (itens[i] == itens[i - 1]):\n",
        "      diferenca.remove(itens[i])\n",
        "    else:\n",
        "      diferenca.append(itens[i])\n",
        "\n",
        "  return diferenca\n",
        "\n",
        "vetorA = [50, 2, 50, 25,100]\n",
        "vetorB =  [2, 10, 4, 25]\n",
        "print(diferenca(vetorA, vetorB))"
      ],
      "execution_count": 0,
      "outputs": [
        {
          "output_type": "stream",
          "text": [
            "[4, 10, 100]\n"
          ],
          "name": "stdout"
        }
      ]
    },
    {
      "cell_type": "markdown",
      "metadata": {
        "id": "M-T4BrELlXqW",
        "colab_type": "text"
      },
      "source": [
        "16. Implemente o método `intersecao(a, b)` que receba dois vetores numéricos como parâmetro, calcule e retorne um vetor numérico com a intersecção entre a e b (A ∩ B), ou seja, contenha apenas os elementos que aparecem nos dois vetores, sem repetições."
      ]
    },
    {
      "cell_type": "code",
      "metadata": {
        "id": "xxBnn7MXlXqX",
        "colab_type": "code",
        "outputId": "5a0e5afb-15e2-4173-e5a4-5ed62275c141",
        "colab": {
          "base_uri": "https://localhost:8080/",
          "height": 33
        }
      },
      "source": [
        "def intersecao(a, b):\n",
        "  itens = a + b\n",
        "  itens.sort()\n",
        "  intersecao = []\n",
        "  \n",
        "  for i in range(len(itens)):\n",
        "    if (itens[i] == itens[i - 1]):\n",
        "      intersecao.append(itens[i])  \n",
        "    \n",
        "  return intersecao\n",
        "\n",
        "vetorA = [50, 2, 60, 25,100]\n",
        "vetorB =  [2, 10, 4, 25,60]\n",
        "print(intersecao(vetorA, vetorB))"
      ],
      "execution_count": 0,
      "outputs": [
        {
          "output_type": "stream",
          "text": [
            "[2, 25, 60]\n"
          ],
          "name": "stdout"
        }
      ]
    },
    {
      "cell_type": "markdown",
      "metadata": {
        "id": "BAEsz9GUlXqb",
        "colab_type": "text"
      },
      "source": [
        "17. Implemente o método `par(n)` que receba como parâmetro um número e retorne verdadeiro (true) se ele for par ou falso (false) se ele for ímpar."
      ]
    },
    {
      "cell_type": "code",
      "metadata": {
        "id": "0LrmrrEOlXqc",
        "colab_type": "code",
        "outputId": "110e5408-a4aa-453a-f5d3-3ffd803b3eab",
        "colab": {
          "base_uri": "https://localhost:8080/",
          "height": 33
        }
      },
      "source": [
        "def par(n):\n",
        "  if  (n % 2 == 0):\n",
        "    return True \n",
        "  else:\n",
        "    return False\n",
        "\n",
        "print(par(10))"
      ],
      "execution_count": 0,
      "outputs": [
        {
          "output_type": "stream",
          "text": [
            "True\n"
          ],
          "name": "stdout"
        }
      ]
    },
    {
      "cell_type": "markdown",
      "metadata": {
        "id": "kd4tC3i-lXqf",
        "colab_type": "text"
      },
      "source": [
        "18. Implemente o método `max(numeros)` que receba como parâmetro uma lista de números e retorne o *maior número* encontrado na lista."
      ]
    },
    {
      "cell_type": "code",
      "metadata": {
        "id": "8ZHav8uelXqg",
        "colab_type": "code",
        "outputId": "1632349a-cd58-4456-980d-93e78649341e",
        "colab": {
          "base_uri": "https://localhost:8080/",
          "height": 33
        }
      },
      "source": [
        "def max(numeros):\n",
        "  maior = 0\n",
        "  for i in range(len(numeros)):\n",
        "    if (numeros[i] > maior):\n",
        "      maior = numeros[i]\n",
        "\n",
        "  return maior\n",
        "\n",
        "print(max([9,10,6,2,1,15]))"
      ],
      "execution_count": 1,
      "outputs": [
        {
          "output_type": "stream",
          "text": [
            "15\n"
          ],
          "name": "stdout"
        }
      ]
    },
    {
      "cell_type": "markdown",
      "metadata": {
        "id": "fRFD9PTGlXqj",
        "colab_type": "text"
      },
      "source": [
        "19. Implemente o método `min(numeros)` que receba como parâmetro uma lista de números e retorne o *menor número* encontrado na lista."
      ]
    },
    {
      "cell_type": "code",
      "metadata": {
        "id": "3Wc9IKtClXqk",
        "colab_type": "code",
        "colab": {
          "base_uri": "https://localhost:8080/",
          "height": 33
        },
        "outputId": "8192e559-f56b-45c9-c25d-1b61cc5bdfff"
      },
      "source": [
        "def min(numeros):\n",
        "  menor = numeros[0]\n",
        "  for i in range(len(numeros)):\n",
        "    if (numeros[i] < menor):\n",
        "      menor = numeros[i]\n",
        "\n",
        "  return menor\n",
        "print(min([9,10,6,2,1,15]))"
      ],
      "execution_count": 3,
      "outputs": [
        {
          "output_type": "stream",
          "text": [
            "1\n"
          ],
          "name": "stdout"
        }
      ]
    },
    {
      "cell_type": "markdown",
      "metadata": {
        "id": "3TdzMDs0lXqm",
        "colab_type": "text"
      },
      "source": [
        "20. Escreva o método `multiplo(a, b)` que receba dois números inteiros como parâmetro e retorne verdadeiro (true) se o primeiro for um múltiplo do segundo. Por exemplo: \n",
        "\n",
        "    * Se o usuário digitar 15 e 3, o primeiro número será múltiplo do segundo;\n",
        "    * Se o usuário digitar 2 e 4, o primeiro número não será múltiplo do segundo. \n",
        "\n",
        "> **Dica:** use o operador módulo para obter o resto da divisão.\n"
      ]
    },
    {
      "cell_type": "code",
      "metadata": {
        "id": "9vp3UD_glXqn",
        "colab_type": "code",
        "colab": {
          "base_uri": "https://localhost:8080/",
          "height": 50
        },
        "outputId": "c14ce6ef-bfa3-4c5d-a106-bb4003e1bcfd"
      },
      "source": [
        "def multiplo(a, b):\n",
        "  if (a % b == 0):\n",
        "    return True\n",
        "  else:\n",
        "    return False\n",
        "\n",
        "print(multiplo(5, 10))\n",
        "print(multiplo(10, 2))"
      ],
      "execution_count": 12,
      "outputs": [
        {
          "output_type": "stream",
          "text": [
            "False\n",
            "True\n"
          ],
          "name": "stdout"
        }
      ]
    },
    {
      "cell_type": "markdown",
      "metadata": {
        "id": "2jcv_r1FlXqp",
        "colab_type": "text"
      },
      "source": [
        "21. Implemente o método `imprime_vetor(vetor, codigo)` que receba como parâmetro um vetor de itens que será impresso e um código indicando a ordem da impressão. Se o código for igual a 0, o vetor deverá ser impresso de maneira crescente, caso contrário, se o código for igual a 1 o vetor deverá ser impresso de maneira decrescente. "
      ]
    },
    {
      "cell_type": "code",
      "metadata": {
        "id": "mKKuI8M-lXqq",
        "colab_type": "code",
        "colab": {
          "base_uri": "https://localhost:8080/",
          "height": 50
        },
        "outputId": "529fd9a5-e604-445c-f359-273cfeb88ff4"
      },
      "source": [
        "def imprime_vetor(vetor, codigo):\n",
        "  vetor.sort()\n",
        "  vetorFim = []\n",
        "  if codigo == 0:\n",
        "    vetorFim = vetor\n",
        "  else:\n",
        "    for i in vetor[::-1]:\n",
        "      vetorFim.append(i)\n",
        "    \n",
        "\n",
        "  return vetorFim\n",
        "\n",
        "print(imprime_vetor([6,3,10,5,15], 0))\n",
        "print(imprime_vetor([6,3,10,5,15], 1))"
      ],
      "execution_count": 19,
      "outputs": [
        {
          "output_type": "stream",
          "text": [
            "[3, 5, 6, 10, 15]\n",
            "[15, 10, 6, 5, 3]\n"
          ],
          "name": "stdout"
        }
      ]
    },
    {
      "cell_type": "markdown",
      "metadata": {
        "id": "yUqOIA7KlXqs",
        "colab_type": "text"
      },
      "source": [
        "22. Implemente o método `primo(n)` que receba um número como parâmetro e retorna verdadeiro (true) se ele for primo, caso contrário, falso (false). \n",
        "\n",
        "> Um número é primo quando é divisível apenas por 1 e por ele mesmo"
      ]
    },
    {
      "cell_type": "code",
      "metadata": {
        "id": "qhobS0jAlXqt",
        "colab_type": "code",
        "colab": {
          "base_uri": "https://localhost:8080/",
          "height": 50
        },
        "outputId": "3212e29d-9601-4776-a92e-838262cc0b79"
      },
      "source": [
        "def primo(n):\n",
        "  if n % 2 == 1:\n",
        "    return True\n",
        "  else:\n",
        "    return False\n",
        "\n",
        "print(primo(13))\n",
        "print(primo(6))"
      ],
      "execution_count": 24,
      "outputs": [
        {
          "output_type": "stream",
          "text": [
            "True\n",
            "False\n"
          ],
          "name": "stdout"
        }
      ]
    },
    {
      "cell_type": "markdown",
      "metadata": {
        "id": "c9DnNw0-lXqw",
        "colab_type": "text"
      },
      "source": [
        "23. Crie o método `media(numeros)` que receba uma lista de números como parâmetro e retorno a média artimética."
      ]
    },
    {
      "cell_type": "code",
      "metadata": {
        "id": "Dw778VTVlXqx",
        "colab_type": "code",
        "colab": {
          "base_uri": "https://localhost:8080/",
          "height": 33
        },
        "outputId": "2400cbc5-3696-4e82-85bc-24bba188906a"
      },
      "source": [
        "def media(numeros):\n",
        "  media = 0\n",
        "  for i in numeros:\n",
        "    media += i\n",
        "    \n",
        "  return media / len(numeros)\n",
        "print(media([6,3,10,5,15]))"
      ],
      "execution_count": 26,
      "outputs": [
        {
          "output_type": "stream",
          "text": [
            "7.8\n"
          ],
          "name": "stdout"
        }
      ]
    },
    {
      "cell_type": "markdown",
      "metadata": {
        "id": "uamnOeb1lXq0",
        "colab_type": "text"
      },
      "source": [
        "24. Faça o método `analisa_numeros(numeros)` que receba uma lista de números como parâmetro, calcule e mostre:\n",
        "\n",
        "    1. A Soma dos números;\n",
        "    2. A quantidade de números;\n",
        "    3. A média dos números;\n",
        "    4. O maior número;\n",
        "    5. O menor número;\n",
        "    6. A média dos números pares;\n",
        "    7. A porcentagem dos números ímpares entre todos os números da lista.\n",
        "\n",
        "> Você pode utilizar métodos criados nos exercícios anteriores."
      ]
    },
    {
      "cell_type": "code",
      "metadata": {
        "id": "LxNAnwRDlXq1",
        "colab_type": "code",
        "colab": {}
      },
      "source": [
        "def analisa_numeros(numeros):\n",
        "  soma = 0\n",
        "  media = 0\n",
        "  qtdNumeros = 0\n",
        "  menor = numeros[0]\n",
        "  maior = 0\n",
        " \n",
        "  for i in numeros:\n",
        "    soma +=i\n",
        "  \n",
        "    \n",
        "\n",
        "  for i in numeros:\n",
        "    media += i\n",
        "\n",
        "  for i in range (len(numeros)):\n",
        "    qtdNumeros += i  \n",
        "    return qtdNumeros\n",
        "\n",
        "  for i in range(len(numeros)):\n",
        "    if (numeros[i] < menor):\n",
        "      menor = numeros[i]\n",
        "    return menor\n",
        "  \n",
        "    \n",
        "  for i in range(len(numeros)):\n",
        "    if (numeros[i] > maior):\n",
        "      maior = numeros[i]\n",
        "\n",
        "\n",
        "\n",
        "\n",
        "  soma_num = soma \n",
        "  media_num = media / len(numeros)\n",
        "  qtd_numeros = qtdNumeros \n",
        "  menor_num = menor\n",
        "  maior_num = maior\n",
        "\n",
        "  return {\n",
        "      'A Soma dos números: ': soma_num,\n",
        "      'A media é : ': media_num,\n",
        "      'A quantidade de números é : ': qtd_numeros,\n",
        "      'O menor número encontrado é  : ': menor_num,\n",
        "      'O maior número encontrado é  : ': maior_num,\n",
        "\n",
        "\n",
        "  }\n",
        "\n",
        "print(analisa_numeros([9,10,6,2,1,15]))"
      ],
      "execution_count": 0,
      "outputs": []
    },
    {
      "cell_type": "markdown",
      "metadata": {
        "id": "09tpQTEKlXq4",
        "colab_type": "text"
      },
      "source": [
        "25. Uma empresa quer transmitir dados pelo telefone, mas está preocupada com a interceptação telefônica. Todos os seus dados são transmitidos  como inteiros de quatro dígitos. Ela pediu para que você escreva um programa que criptografe seus dados, para que eles possam ser transmitidos com mais segurança. Implemente a função `criptogra(numero)` que receba como parâmetro um número inteiro de quatro dígitos e criptografe-o da seguinte forma: \n",
        "\n",
        "    * Substitua cada um dos dígitos do número usando a seguinte fórmula: `(digito +  7) módulo 10`; \n",
        "    * Após a substituição, troque o primeiro dígito pelo terceiro e troque o segundo dígito pelo quarto;\n",
        "    * Retorne o número inteiro criptografado.\n"
      ]
    },
    {
      "cell_type": "code",
      "metadata": {
        "id": "xc880eHulXq5",
        "colab_type": "code",
        "colab": {
          "base_uri": "https://localhost:8080/",
          "height": 33
        },
        "outputId": "4c619269-a805-4272-f9ea-0a63bfe28879"
      },
      "source": [
        "def criptogra(numero):\n",
        "  numero = str(numero)\n",
        "  criptgrafia_1 = []\n",
        "  for i in numero:\n",
        "    i = (int(i) + 7) % 10\n",
        "    criptgrafia_1.append(int(i))\n",
        "\n",
        "  criptgrafia_1[0], criptgrafia_1[1] = criptgrafia_1[2], criptgrafia_1[3]\n",
        "\n",
        "  return criptgrafia_1\n",
        "\n",
        "print(criptogra(25987))"
      ],
      "execution_count": 31,
      "outputs": [
        {
          "output_type": "stream",
          "text": [
            "[6, 5, 6, 5, 4]\n"
          ],
          "name": "stdout"
        }
      ]
    }
  ]
}