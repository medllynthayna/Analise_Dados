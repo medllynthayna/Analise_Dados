{
  "nbformat": 4,
  "nbformat_minor": 0,
  "metadata": {
    "kernelspec": {
      "display_name": "Python 3",
      "language": "python",
      "name": "python3"
    },
    "language_info": {
      "codemirror_mode": {
        "name": "ipython",
        "version": 3
      },
      "file_extension": ".py",
      "mimetype": "text/x-python",
      "name": "python",
      "nbconvert_exporter": "python",
      "pygments_lexer": "ipython3",
      "version": "3.7.4"
    },
    "colab": {
      "name": "2_estruturas_controle_python.ipynb",
      "provenance": [],
      "collapsed_sections": [],
      "include_colab_link": true
    }
  },
  "cells": [
    {
      "cell_type": "markdown",
      "metadata": {
        "id": "view-in-github",
        "colab_type": "text"
      },
      "source": [
        "<a href=\"https://colab.research.google.com/github/medllynthayna/Analise_Dados/blob/master/2_estruturas_controle_python.ipynb\" target=\"_parent\"><img src=\"https://colab.research.google.com/assets/colab-badge.svg\" alt=\"Open In Colab\"/></a>"
      ]
    },
    {
      "cell_type": "markdown",
      "metadata": {
        "id": "YGU3Se1a0Gjy",
        "colab_type": "text"
      },
      "source": [
        "## Estruturas de Controle \n",
        "\n",
        "\n",
        "### Estruturas de Seleção\n",
        "\n",
        "As estruturas de seleção *if* e *if/else* são usadas para controle da execução sequêncial de um programa. \n",
        "Na prática, se uma determinada condição lógica for avaliada como verdadeira, o interpretador Python executa todos os comandos dentro do bloco da estrutura de seleção. \n",
        "Em Python, para a estruturas de seleção única usamos a palavra-chave *if* e para estruturas de seleção múltiplas usamos o nome *elsif*. \n",
        "\n",
        "```python\n",
        " if condicao1:\n",
        "    # Executa quando a condição1 for verdadeira\n",
        " elif condicao2:\n",
        "    # Executa quando a condição2 for verdadeira\n",
        " else:\n",
        "    # Executa quando todas condições não forem satisfeitas\n",
        "```\n",
        "\n",
        "### Estruturas de Repetição\n",
        "\n",
        "O Python possui duas estruturas de repetição, são elas: *for* e *while*. A estrutura de repetição *for*, em sua sintaxe, difere um pouco, por exemplo, das linguagens de programação baseadas em C, onde definimos uma condição de parada (i < n) e um passo de iteração (i++). O comando *for* é usado para percorrer os itens de qualquer sequência (p. ex.: lista, string ou tupla) para que eles apareçam em série ou simplesmente como um laço de repetição (*loop*). "
      ]
    },
    {
      "cell_type": "code",
      "metadata": {
        "id": "A-s3lRqS0Gj1",
        "colab_type": "code",
        "colab": {}
      },
      "source": [
        "cores  = [\"Vermelho\", \"Laranja\", \"Amarelo\", \"Verde\", \"Azul\", \"Anil\", \"Violeta\"]\n",
        "\n",
        "for cor in cores:\n",
        "    print(\"Eu ♥ \" + cor)"
      ],
      "execution_count": 0,
      "outputs": []
    },
    {
      "cell_type": "markdown",
      "metadata": {
        "id": "Ok7JtoDB0Gj4",
        "colab_type": "text"
      },
      "source": [
        "Se você possui alguma experiência anterior com programação, deve estar se perguntando neste exato momento, como podemos percorrer os itens de uma sequência usando índices? Para tal, podemos utilizar a função range() em conjunto com a função len(). A função *range(start, stop, step)* do Python, retorna uma sequência de números, começando em 0 (zero) por padrão, e incrementando de um em um, até o fim de um número especificado como parâmetro. A função len(), por sua vez, retorna o número de itens de uma determina sequência. Acompanhe abaixo, alguns exemplos de como essas funções podem ser usadas em conjunto com a instrução *for* para indexar itens de uma lista."
      ]
    },
    {
      "cell_type": "code",
      "metadata": {
        "id": "IZt6OZSD0Gj5",
        "colab_type": "code",
        "colab": {}
      },
      "source": [
        "# EXEMPLOS - Função range()\n",
        "lista1 = range(5)\n",
        "lista2 = range(10, 20, 2)\n",
        "lista3 = range(1, 5)\n",
        "lista4 = range(5, -1, -1)\n",
        "\n",
        "print(\"EXEMPLOS: Função range()\\n\")\n",
        "\n",
        "for item in lista1:\n",
        "    print(item) # Para range(5) Saída: [0, 1, 2, 3, 4]\n",
        "\n",
        "print(\"\\n\") \n",
        "    \n",
        "for item in lista2:\n",
        "    print(item) # Para range(10, 20, 2) Saída: [10, 12, 14, 16, 18]\n",
        "\n",
        "print(\"\\n\")     \n",
        "    \n",
        "for item in lista3:\n",
        "    print(item) # Para range(1, 5) Saída: [1, 2, 3, 4]\n",
        "\n",
        "print(\"\\n\")     \n",
        "    \n",
        "for item in lista4:\n",
        "    print(item) # Para range(1, 5) Saída: [1, 2, 3, 4]\n",
        "    \n",
        "    \n",
        "print(\"\\n\")     \n",
        "    \n",
        "    \n",
        "# EXEMPLOS - for, range() e len\n",
        "print(\"EXEMPLOS: for, len() e range()\\n\")\n",
        "\n",
        "\n",
        "# Imprimindo lista de cores\n",
        "cores  = [\"Vermelho\", \"Laranja\", \"Amarelo\", \"Verde\", \"Azul\", \"Anil\", \"Violeta\"]\n",
        "n = len(cores) # a função len() retorna o número de elementos\n",
        "\n",
        "for i in range(n):\n",
        "    print(cores[i])\n",
        "\n",
        "print(\"\\n\")\n",
        "\n",
        "for i in range((n - 1), -1, -1):\n",
        "    print(cores[i])\n",
        "\n",
        "\n",
        "# for aninhado para impressão de um padrão numérico\n",
        "for i in range(10):\n",
        "    for j in range(i):\n",
        "        print(i, end=\" \")    # Imprime o número\n",
        "    print(\"\\n\")              # Adiciona quebra de linha ao final de cada linha"
      ],
      "execution_count": 0,
      "outputs": []
    },
    {
      "cell_type": "markdown",
      "metadata": {
        "id": "ypnND0770Gj8",
        "colab_type": "text"
      },
      "source": [
        "Assim como o for, a estrutura de repetição while é usada para repetir um trecho de código várias vezes, porém, no while a repetição continua enquanto uma condição lógica definida seja verdadeira (True), veja alguns exemplos abaixo: \n",
        "\n",
        "```python\n",
        "while condicao: # enquanto condição for verdadeira\n",
        "    # Executa algum(ns) comando(s)\n",
        "    # Atualiza variável de controle\n",
        "```"
      ]
    },
    {
      "cell_type": "code",
      "metadata": {
        "id": "0zUeuzL70Gj8",
        "colab_type": "code",
        "colab": {}
      },
      "source": [
        "contador = 0                 # Define uma variável de controle que será avaliada na condição\n",
        "\n",
        "while contador < 10:         # enquanto a condição (contador < 10) for verdadeira\n",
        "    print(contador)          # Executa algum comando: print(contador)\n",
        "    contador = contador + 1  # Atualiza a variável de controle\n",
        "    \n",
        "print(\"\\n\")\n",
        "\n",
        "\n",
        "# EXEMPLO: Algoritmo Fatorial Iterativo\n",
        "n = 3\n",
        "i = 1\n",
        "resultado = 1\n",
        "\n",
        "while i <= n:\n",
        "    resultado = resultado * i\n",
        "    i = i + 1\n",
        "    \n",
        "print(\"Fatorial de %d é %d\" % (n, resultado))\n",
        "    "
      ],
      "execution_count": 0,
      "outputs": []
    },
    {
      "cell_type": "markdown",
      "metadata": {
        "id": "JZ6RupzY0Gj_",
        "colab_type": "text"
      },
      "source": [
        "### Técnicas de Looping\n",
        "\n",
        "1. Ao percorrer dicionários, a chave e o valor, podem ser recuperados ao mesmo tempo através do método *items()*;\n",
        "\n",
        "```python\n",
        "websites = {'site': \"Python Software Foundation\", 'url': \"https://www.python.org/\"}\n",
        "\n",
        "for key, value in websites.items():\n",
        "    print(key, value)\n",
        "    \n",
        "# Saída\n",
        "# site Python Software Foundation\n",
        "# url https://www.python.org/\n",
        "```\n",
        "\n",
        "2. Ao percorrer sequências, índice e o item, podem ser recuperados ao mesmo tempo através do método *enumerate()*;\n",
        "\n",
        "```python\n",
        "rgb = [\"Red\", \"Green\", \"Blue\"]\n",
        "\n",
        "for i, item in enumerate(rgb):\n",
        "    print(i, item)\n",
        "    \n",
        "# Saída\n",
        "# 0 Red\n",
        "# 1 Green\n",
        "# 2 Blue\n",
        "```\n",
        "\n",
        "3. Para percorrer duas ou mais sequências ao mesmo tempo, as entradas podem ser emparelhadas através da função *zip()*;\n",
        "\n",
        "\n",
        "```python\n",
        "condinomes_android = [\"Petit Four\", \"Eclair\",  \"Honeycomb\", \"Ice Cream Sandwich\", \"Lollipop\", \"Marshmallow\", \"Nougat\", \"Oreo\", \"Pie\"]\n",
        "versoes_android = [\"1.1\", \"2.0 – 2.1\", \"3.0 – 3.2.6\", \"4.0 – 4.0.4\", \"5.0 – 5.1.1\", \"6.0 – 6.0.1\", \"7.0 – 7.1.2\", \"8.0 – 8.1\", \"9.0\"]\n",
        "\n",
        "for codinome, versao in zip(condinomes_android, versoes_android):\n",
        "    print(codinome, versao)\n",
        "    \n",
        "# Saída\n",
        "# Petit Four 1.1\n",
        "# Eclair 2.0 – 2.1\n",
        "# Honeycomb 3.0 – 3.2.6\n",
        "# Ice Cream Sandwich 4.0 – 4.0.4\n",
        "# Lollipop 5.0 – 5.1.1\n",
        "# Marshmallow 6.0 – 6.0.1\n",
        "# Nougat 7.0 – 7.1.2\n",
        "# Oreo 8.0 – 8.1\n",
        "# Pie 9.0\n",
        "```\n",
        "\n",
        "4. Para iterar em uma sequência ordenada sem alterar a ordem dos elementos utilize o metodo *sorted()* que irá retornar uma nova lista ordenada sem alterar a original\n",
        "\n",
        "```python\n",
        "estados_sudeste_brasileiro = [\"São Paulo\", \"Rio de Janeiro\", \"Minas Gerais\", \"Espírito Santo\"]\n",
        "\n",
        "for estado in sorted(set(estados_sudeste_brasileiro)):\n",
        "    print(estado)\n",
        "    \n",
        "# Saída\n",
        "# Espírito Santo\n",
        "# Minas Gerais\n",
        "# Rio de Janeiro\n",
        "# São Paulo    \n",
        "    \n",
        "```"
      ]
    },
    {
      "cell_type": "markdown",
      "metadata": {
        "id": "_d3PRqYN0GkB",
        "colab_type": "text"
      },
      "source": [
        "## Exercícios"
      ]
    },
    {
      "cell_type": "markdown",
      "metadata": {
        "id": "UI0MCfuq0GkB",
        "colab_type": "text"
      },
      "source": [
        "1. A nota final de um estudante é calculada a partir de três notas atribuídas, respectivamente, a um trabalho\n",
        "de laboratório, a uma avaliação semestral e a um exame final. A média das três notas mencionadas\n",
        "obedece aos pesos a seguir:\n",
        "\n",
        "| Nota                    | Peso |\n",
        "|-------------------------|------|\n",
        "| Trabalho de Laboratório | 2    |\n",
        "| Avaliação Semestral     | 3    |\n",
        "| Exame Final             | 5    |\n",
        "\n",
        "\n",
        "Faça um programa que receba as três notas, calcule e mostre a média ponderada e o conceito que segue\n",
        "a tabela:\n",
        "\n",
        "| Média Ponderada        | Conceito |\n",
        "|------------------------|----------|\n",
        "| 8,00 <= Média <= 10,00 | A        |\n",
        "| 7,00 <= Média < 8,00   | B        |\n",
        "| 6,00 <= Média < 7,00   | C        |\n",
        "| 5,00 <= Média < 6,00   | D        |\n",
        "| 0,00 <= Média < 5,00   | E        |\n",
        "\n"
      ]
    },
    {
      "cell_type": "code",
      "metadata": {
        "id": "RZPtvnaH0GkC",
        "colab_type": "code",
        "outputId": "106ca17f-45f2-4785-9ed1-5ddf889406b6",
        "colab": {
          "base_uri": "https://localhost:8080/",
          "height": 129
        }
      },
      "source": [
        "trabLaboratorio = int(input(\"Digite a nota do Trabalho de Laboratório: \"))\n",
        "avaSemestral = int(input(\"Digite a nota da Avaliação Semestral: \"))\n",
        "exaFinal = int(input(\"Digite a nota do Exame Final: \"))\n",
        "pesoTrabLaboratorio = 2\n",
        "pesoAvaSemestral = 3\n",
        "pesoExaFinal = 5\n",
        "media = ((trabLaboratorio*pesoTrabLaboratorio ) + (avaSemestral * pesoAvaSemestral) + (exaFinal*pesoExaFinal) /(pesoTrabLaboratorio+pesoAvaSemestral+pesoExaFinal))\n",
        "if (media <=8 and media <=10):\n",
        "  print(str(media )+ \"Conceito : A\")\n",
        "  if (media <=7 and media <8):\n",
        "  print (str(media) + \"Conceito : B\")\n",
        "  if (media <=6 and media <7):\n",
        "  print(str(media )+ \"Conceito : C\")\n",
        "if (media <=5 and media <6):\n",
        "  print(str(media) + \"Conceito : D\")\n",
        "if (media <=0 and media <5):\n",
        "  print(str(media) + \"Conceito : E\")\n",
        "\n",
        "\n"
      ],
      "execution_count": 0,
      "outputs": [
        {
          "output_type": "error",
          "ename": "IndentationError",
          "evalue": "ignored",
          "traceback": [
            "\u001b[0;36m  File \u001b[0;32m\"<ipython-input-1-a911960982c6>\"\u001b[0;36m, line \u001b[0;32m11\u001b[0m\n\u001b[0;31m    print (str(media) + \"Conceito : B\")\u001b[0m\n\u001b[0m        ^\u001b[0m\n\u001b[0;31mIndentationError\u001b[0m\u001b[0;31m:\u001b[0m expected an indented block\n"
          ]
        }
      ]
    },
    {
      "cell_type": "markdown",
      "metadata": {
        "id": "JAofyvls0GkF",
        "colab_type": "text"
      },
      "source": [
        "2. Faça um programa que receba três notas de um aluno, calcule e mostre a média aritmética e a mensagem constante na tabela a seguir. \n",
        "\n",
        "| Média                  | Situação       |\n",
        "|------------------------|----------------|\n",
        "| 7,00 <= Média <= 10,00 | Aprovado       |\n",
        "| 3,00 <= Média < 7,00   | Exame Especial |\n",
        "| 0,00 <= Média < 3,00   | Reprovado      |"
      ]
    },
    {
      "cell_type": "code",
      "metadata": {
        "id": "LalnKo4i0GkG",
        "colab_type": "code",
        "outputId": "6a6130c0-69a8-4939-ffbd-dbdb91d7ee16",
        "colab": {
          "base_uri": "https://localhost:8080/",
          "height": 132
        }
      },
      "source": [
        "nota1 = int(input(\"Digite a primeita nota: \"))\n",
        "nota2 = int(input(\"Digite a segunda nota: \"))\n",
        "nota3 = int(input(\"Digite a terceira nota: \"))\n",
        "media = (nota1+nota2+nota3/3)\n",
        "if (media <=7 and media <=10):\n",
        "  print(str(media)+ \"Situação: Aprovado \")\n",
        "  if (media <=3 and media <7):\n",
        "  print(str(media)+ \"Situação: Exame Especial \")\n",
        "  if (media <=0 and media <3):\n",
        " print(str(media)+ \"Situação: Resprovado \")"
      ],
      "execution_count": 0,
      "outputs": [
        {
          "output_type": "error",
          "ename": "IndentationError",
          "evalue": "ignored",
          "traceback": [
            "\u001b[0;36m  File \u001b[0;32m\"<ipython-input-8-c12ab4752aea>\"\u001b[0;36m, line \u001b[0;32m8\u001b[0m\n\u001b[0;31m    print(str(media)+ \"Situação: Exame Especial \")\u001b[0m\n\u001b[0m        ^\u001b[0m\n\u001b[0;31mIndentationError\u001b[0m\u001b[0;31m:\u001b[0m expected an indented block\n"
          ]
        }
      ]
    },
    {
      "cell_type": "markdown",
      "metadata": {
        "id": "w0Pm3eIq0GkI",
        "colab_type": "text"
      },
      "source": [
        "3. Faça um programa que receba dois números e mostre o maior."
      ]
    },
    {
      "cell_type": "code",
      "metadata": {
        "id": "QDekFGix0GkJ",
        "colab_type": "code",
        "outputId": "64d8da2f-8506-4d51-9e9c-b506f1988bc9",
        "colab": {
          "base_uri": "https://localhost:8080/",
          "height": 247
        }
      },
      "source": [
        "num1 = int(input(\"Digite um numero: \"))\n",
        "num2 = int(input(\"Digite outro numero: \"))\n",
        "if(num1>num2):\n",
        "  print(num1)\n",
        "  else:\n",
        "    print(num2)"
      ],
      "execution_count": 0,
      "outputs": [
        {
          "output_type": "error",
          "ename": "SyntaxError",
          "evalue": "ignored",
          "traceback": [
            "\u001b[0;36m  File \u001b[0;32m\"<ipython-input-16-430434854771>\"\u001b[0;36m, line \u001b[0;32m5\u001b[0m\n\u001b[0;31m    else:\u001b[0m\n\u001b[0m       ^\u001b[0m\n\u001b[0;31mSyntaxError\u001b[0m\u001b[0;31m:\u001b[0m invalid syntax\n"
          ]
        },
        {
          "output_type": "error",
          "ename": "SyntaxError",
          "evalue": "ignored",
          "traceback": [
            "\u001b[0;36m  File \u001b[0;32m\"<ipython-input-17-430434854771>\"\u001b[0;36m, line \u001b[0;32m5\u001b[0m\n\u001b[0;31m    else:\u001b[0m\n\u001b[0m       ^\u001b[0m\n\u001b[0;31mSyntaxError\u001b[0m\u001b[0;31m:\u001b[0m invalid syntax\n"
          ]
        }
      ]
    },
    {
      "cell_type": "markdown",
      "metadata": {
        "id": "CLMKpBZ-0GkL",
        "colab_type": "text"
      },
      "source": [
        "4. Faça um programa que receba um número inteiro e verifique se é par ou ímpar."
      ]
    },
    {
      "cell_type": "code",
      "metadata": {
        "id": "UTlCxPXi0GkM",
        "colab_type": "code",
        "outputId": "3529a3f1-57e0-44e3-998d-40ee11798719",
        "colab": {
          "base_uri": "https://localhost:8080/",
          "height": 132
        }
      },
      "source": [
        "num1 = int(input(\"Digite um numero: \"))\n",
        "num2 = num%2\n",
        "if(num2!=0):\n",
        "print(\"Ímpar\")\n",
        "else:\n",
        "  print(\"Par\")"
      ],
      "execution_count": 0,
      "outputs": [
        {
          "output_type": "error",
          "ename": "IndentationError",
          "evalue": "ignored",
          "traceback": [
            "\u001b[0;36m  File \u001b[0;32m\"<ipython-input-19-c1b44adc2691>\"\u001b[0;36m, line \u001b[0;32m4\u001b[0m\n\u001b[0;31m    print(\"Ímpar\")\u001b[0m\n\u001b[0m        ^\u001b[0m\n\u001b[0;31mIndentationError\u001b[0m\u001b[0;31m:\u001b[0m expected an indented block\n"
          ]
        }
      ]
    },
    {
      "cell_type": "markdown",
      "metadata": {
        "id": "isNedXRi0GkO",
        "colab_type": "text"
      },
      "source": [
        "5. Faça um programa que mostre o menu de opções a seguir, receba a opção do usuário e os dados necessários para executar cada operação.\n",
        "\n",
        "Menu de opções:\n",
        "\n",
        "1. Somar dois números.\n",
        "2. Raiz quadrada de um número.\n",
        "\n",
        "Digite a opção desejada:"
      ]
    },
    {
      "cell_type": "code",
      "metadata": {
        "id": "mB6b0P5V0GkP",
        "colab_type": "code",
        "outputId": "d5aacc3b-c592-4797-c70d-d8b3a65bde88",
        "colab": {
          "base_uri": "https://localhost:8080/",
          "height": 123
        }
      },
      "source": [
        "menu = int(input(\"Digite:\\n1 Para somar dois números. \\n2 Para raiz quadrada de um número: \"))\n",
        "if(menu==1):\n",
        "  num1 = float(input(\"Digite o primeiro número: \"))\n",
        "  num2 = float(input(\"Digite o segundo número: \"))\n",
        "  soma= num1+num2\n",
        "  print(soma)\n",
        "  if (menu==2):\n",
        "    num1= float(input(\"Digite o número que deseja extrair a raiz: \"))\n",
        "    raiz = num1**(1/2)\n",
        "    print (raiz)\n",
        "    if(menu !=1 and menu != 2):\n",
        "      print(\"Opção incorreta\")"
      ],
      "execution_count": 0,
      "outputs": [
        {
          "output_type": "stream",
          "text": [
            "Digite:\n",
            "1 Para somar dois números. \n",
            "2 Para raiz quadrada de um número: 1\n",
            "Digite o primeiro número: 2\n",
            "Digite o segundo número: 2\n",
            "4.0\n"
          ],
          "name": "stdout"
        }
      ]
    },
    {
      "cell_type": "markdown",
      "metadata": {
        "id": "jz1PacAW0GkR",
        "colab_type": "text"
      },
      "source": [
        "6. Faça um programa que receba o código correspondente ao cargo de um funcionário e seu salário atual e mostre o cargo, o valor do aumento e seu novo salário. Os cargos estão na tabela a seguir.\n",
        "\n",
        "| Código | Cargo       | Percentual  |\n",
        "|--------|-------------|-------------|\n",
        "| 1      | Escrituário | 50%         |\n",
        "| 2      | Secretário  | 35%         |\n",
        "| 3      | Caixa       | 20%         |\n",
        "| 4      | Gerente     | 10%         |\n",
        "| 5      | Diretor     | Sem Aumento |"
      ]
    },
    {
      "cell_type": "code",
      "metadata": {
        "id": "DdcC0L3G0GkS",
        "colab_type": "code",
        "outputId": "fddfc086-aa88-4e49-fd7f-cf0334b64845",
        "colab": {
          "base_uri": "https://localhost:8080/",
          "height": 170
        }
      },
      "source": [
        "menu = int(input(\"Digite o código do seu cargo:\\n1 Para Escrituário; \\n2 Para Secretário; \\n3 Para Caixa; \\n4 Para Gerente; \\n5 Para Diretor: \\n\"))\n",
        "salario = float(input(\"Digite se salario: \"))\n",
        "\n",
        "if menu == 1:\n",
        "  salario += salario * 50 / 100\n",
        "elif menu == 2:\n",
        "  salario += salario * 35 / 100\n",
        "elif menu == 3:\n",
        "  salario += salario * 20 / 100\n",
        "elif menu == 4:\n",
        "  salario += salario * 10 / 100\n",
        "print(salario)\n",
        "\n",
        "\n",
        "\n",
        "\n",
        "\n"
      ],
      "execution_count": 0,
      "outputs": [
        {
          "output_type": "stream",
          "text": [
            "Digite o código do seu cargo:\n",
            "1 Para Escrituário; \n",
            "2 Para Secretário; \n",
            "3 Para Caixa; \n",
            "4 Para Gerente; \n",
            "5 Para Diretor: \n",
            "1\n",
            "Digite se salario: 100\n",
            "150.0\n"
          ],
          "name": "stdout"
        }
      ]
    },
    {
      "cell_type": "markdown",
      "metadata": {
        "id": "2kxaygL20GkU",
        "colab_type": "text"
      },
      "source": [
        "7. Faça um programa que receba o salário inicial de um funcionário, calcule e mostre o novo salário, acrescido de bonificação e de auxílio escola.\n",
        "\n",
        "| Salário                      | Bonificação     |\n",
        "|------------------------------|-----------------|\n",
        "| Até R\\\\$500,00                 | 5% do salário  |\n",
        "| Entre R\\\\$500,00 e R\\$1.1200,00 | 12% do salário  \n",
        "| Acima de R\\\\$1.200,00          | Sem Bonificação |\n",
        "\n",
        "| Salário           | Auxílio Escola |\n",
        "|-------------------|----------------|\n",
        "| Até R\\\\$600,00      | R\\\\$150,00       |\n",
        "| Acima de R\\\\$600,00 | R\\\\$100,00       |"
      ]
    },
    {
      "cell_type": "code",
      "metadata": {
        "id": "4U30CpMu0GkU",
        "colab_type": "code",
        "outputId": "39a85dc1-48fb-43dc-c275-de07cd01d375",
        "colab": {
          "base_uri": "https://localhost:8080/",
          "height": 129
        }
      },
      "source": [
        "salario = float(input(\"Digite se salario: \"))\n",
        "if (salario <= 500.0):\n",
        "  salarioNovo = salario + (salario *5/100)\n",
        "  salarioNovo = (salario + (salario * 12 / 100)\n",
        "  if salario < 600.0):\n",
        "    salarioNovo += 150.0\n",
        "  else:\n",
        "    salarioNovo += 100.0\n",
        "elif salario > 1200.0:\n",
        "  salarioNovo = (salario + (salario * 12 / 100))\n",
        "  if salarioNovo < 600.0:\n",
        "    salarioNovo += 150.0\n",
        "  else:\n",
        "    salarioNovo += 100.0\n"
      ],
      "execution_count": 0,
      "outputs": [
        {
          "output_type": "error",
          "ename": "SyntaxError",
          "evalue": "ignored",
          "traceback": [
            "\u001b[0;36m  File \u001b[0;32m\"<ipython-input-1-c992efb4b373>\"\u001b[0;36m, line \u001b[0;32m5\u001b[0m\n\u001b[0;31m    if salario < 600.0):\u001b[0m\n\u001b[0m                      ^\u001b[0m\n\u001b[0;31mSyntaxError\u001b[0m\u001b[0;31m:\u001b[0m invalid syntax\n"
          ]
        }
      ]
    },
    {
      "cell_type": "markdown",
      "metadata": {
        "id": "B66sgMAg0GkY",
        "colab_type": "text"
      },
      "source": [
        "8. Um supermercado deseja reajustar os preços de seus produtos usando o seguinte critério: o produto poderá ter seu preço aumentado ou diminuído. Para o preço ser alterado, o produto deve preencher pelo menos um dos requisitos a seguir:\n",
        "\n",
        "| Venda Média Mensal | Preço Atual             | % de Aumento | % de Diminuição |\n",
        "|--------------------|-------------------------|--------------|-----------------|\n",
        "| < 500              | < R\\\\$ 30,00              | 10           | -               |\n",
        "| >= 500 e < 1.200   | >= R\\\\$30,00 e < R\\\\$ 80,00 | 15           | -               |\n",
        "| >= 1.200           | >= R\\\\$80,00              | -            | 20              |"
      ]
    },
    {
      "cell_type": "code",
      "metadata": {
        "id": "Zt916H5X0GkZ",
        "colab_type": "code",
        "outputId": "b4bdb06c-a139-4037-a9c3-aa8193487f8e",
        "colab": {
          "base_uri": "https://localhost:8080/",
          "height": 68
        }
      },
      "source": [
        "preco = float(input(\"Digite o preço do produto: \"))\n",
        "venda = float(input(\"Qual a media de venda mensal do produto: \"))\n",
        "aumento= 0\n",
        "if (venda < 500 or preco <30.0):\n",
        "  aumento = preco + (preco *10/100)\n",
        "  print(aumento)\n",
        "if (venda >=500 and venda <1.200 or preco >=30.0 and preco<80.0):\n",
        "  aumento = preco + (preco *15/100)\n",
        "  print(aumento)\n",
        "if(venda >=1.200 or preco >=80.0):\n",
        "  aumento = preco -(preco *20/100)\n",
        "  print(aumento)"
      ],
      "execution_count": 0,
      "outputs": [
        {
          "output_type": "stream",
          "text": [
            "Digite o preço do produto: 30\n",
            "Qual a media de venda mensal do produto: 550\n",
            "34.5\n"
          ],
          "name": "stdout"
        }
      ]
    },
    {
      "cell_type": "markdown",
      "metadata": {
        "id": "EiJc_-130Gkb",
        "colab_type": "text"
      },
      "source": [
        "9. Faça um programa para resolver equações do 2º grau.\n",
        "\n",
        "$$\n",
        "a^{2} + bx + c = 0\n",
        "$$\n",
        "\n",
        "\n",
        "Onde x é uma variável, sendo a, b e c constantes, com a ≠ 0 \n",
        "\n",
        "\n",
        "$$\n",
        "\\Delta = b^{2} - 4ac\n",
        "$$\n",
        "\n",
        "$$\n",
        "\\Delta < 0 \\rightarrow não \\: existe  \\: raiz  \\: real\n",
        "$$\n",
        "\n",
        "$$\n",
        "\\Delta = 0 \\rightarrow  existe  \\: raiz  \\: real\n",
        "$$\n",
        "\n",
        "$$\n",
        "x = \\frac{-b}{2a}\n",
        "$$\n",
        "\n",
        "\n",
        "\n",
        "$$\n",
        "\\Delta > 0 \\rightarrow existem \\: duas  \\: raizes  \\: reais\n",
        "$$\n",
        "\n",
        "\n",
        "$$\n",
        "x_1 = \\frac{-b \\: + \\: \\sqrt{\\Delta } }{2a}\n",
        "$$\n",
        "\n",
        "$$\n",
        "x_2 = \\frac{-b \\: - \\: \\sqrt{\\Delta } }{2a}\n",
        "$$"
      ]
    },
    {
      "cell_type": "code",
      "metadata": {
        "id": "nnAmVqOF0Gkc",
        "colab_type": "code",
        "outputId": "d67dd3ed-714f-45e8-c55a-4089e124d2db",
        "colab": {
          "base_uri": "https://localhost:8080/",
          "height": 85
        }
      },
      "source": [
        "\n",
        "a = float(input(\"Digite o valor de A: \"))\n",
        "b = float(input(\"Digite o valor de B: \"))\n",
        "c = float(input(\"Digite o valor de C: \"))\n",
        "delta = (b**2)- (4*a*c)\n",
        "raizDelta = 0\n",
        "x1= (-b + raizDelta) /(2*a)\n",
        "x2= (-b - raizDelta)/ (2*a)\n",
        "print(x1, x2, delta)\n"
      ],
      "execution_count": 0,
      "outputs": [
        {
          "output_type": "stream",
          "text": [
            "Digite o valor de A: 2\n",
            "Digite o valor de B: 2\n",
            "Digite o valor de C: 2\n",
            "-0.5 -0.5 -12.0\n"
          ],
          "name": "stdout"
        }
      ]
    },
    {
      "cell_type": "markdown",
      "metadata": {
        "id": "NpDdtC5W0Gke",
        "colab_type": "text"
      },
      "source": [
        "10. Dados três valores X, Y e Z, verifique se eles podem ser os comprimentos dos lados de um triângulo e, se forem, verifique se é um triângulo equilátero, isósceles ou escaleno. Se eles não formarem um triângulo, escreva uma mensagem. Considere que:\n",
        "\n",
        "- O comprimento de cada lado de um triângulo é menor que a soma dos outros dois lados;\n",
        "- Chama-se equilátero o triângulo que tem três lados iguais;\n",
        "- Denomina-se isósceles o triângulo que tem o comprimento de dois lados iguais;\n",
        "- Recebe o nome de escaleno o triângulo que tem os três lados diferentes."
      ]
    },
    {
      "cell_type": "code",
      "metadata": {
        "id": "GarGwC0C0Gkf",
        "colab_type": "code",
        "outputId": "27bc7140-9acb-411b-b1a0-02534bb7bc42",
        "colab": {
          "base_uri": "https://localhost:8080/",
          "height": 85
        }
      },
      "source": [
        "x = float(input(\"Digite o primeiro valor: \"))\n",
        "y = float(input(\"Digite o segundo valor: \"))\n",
        "z = float(input(\"Digite o terceiro valor: \"))\n",
        "\n",
        "if (x== y and y==z):\n",
        "  print(\"Triangulo equilatero\")\n",
        "if(x==y or y==z or z==x):\n",
        "  print(\"Triangulo isosceles\")\n",
        "else:\n",
        "  print(\"Triangulo escaleno\")"
      ],
      "execution_count": 0,
      "outputs": [
        {
          "output_type": "stream",
          "text": [
            "Digite o primeiro valor: 2\n",
            "Digite o segundo valor: 4\n",
            "Digite o terceiro valor: 6\n",
            "Triangulo escaleno\n"
          ],
          "name": "stdout"
        }
      ]
    },
    {
      "cell_type": "markdown",
      "metadata": {
        "id": "KXg6zeNV0Gkh",
        "colab_type": "text"
      },
      "source": [
        "11. Faça um programa que receba a altura e o peso de uma pessoa. De acordo com a tabela a seguir, verifique e mostre a classificação dessa pessoa.\n",
        "\n",
        "| Altura           | Peso até 60 | Peso entre 60 e 90 (Inclusive) | Peso Acima de 90 |\n",
        "|------------------|-------------|--------------------------------|------------------|\n",
        "| Menores que 1,20 | A           | D                              | G                |\n",
        "| De 1,20 a 1,70   | B           | E                              | H                |\n",
        "| Maiores que 1,70 | C           | F                              | I                |"
      ]
    },
    {
      "cell_type": "code",
      "metadata": {
        "id": "9nGl6tdz0Gkh",
        "colab_type": "code",
        "outputId": "604f9bee-6c93-4c60-eb81-93e736bcdad1",
        "colab": {
          "base_uri": "https://localhost:8080/",
          "height": 68
        }
      },
      "source": [
        "altura = float(input(\"Digite a altura: \"))\n",
        "peso = float(input(\"Digite a peso: \"))\n",
        "classificacao = \"\"\n",
        "if(altura < 1.20 and peso <=60.0):\n",
        "  classificação = \"A\"\n",
        "\n",
        "if(altura >= 1.20 and altura <=1.70 and peso <=60.0):\n",
        "  classificacao = \"B\"\n",
        "\n",
        "if(altura > 1.70 and peso <=60.0):\n",
        "  classificação = \"c\"\n",
        "\n",
        "if(altura >= 1.20  and peso >60.0 and peso <90.0):\n",
        "  classificação = \"D\"\n",
        "\n",
        "if(altura >= 1.20 and altura <=1.70 and peso >60.0 and peso <90.0):\n",
        "  classificação = \"E\"\n",
        "\n",
        "if(altura >1.70 and peso >60.0 and peso <90.0):\n",
        "  classificação = \"F\"\n",
        "\n",
        "if(altura < 1.20 and peso >90.0):\n",
        "  classificação = \"G\"\n",
        "\n",
        "if(altura >= 1.20 and altura <=1.70 and  peso >90.0):\n",
        "  classificação = \"H\"\n",
        "\n",
        "if(altura > 1.70 and peso >90.0):\n",
        "  classificação = \"I\"\n",
        "print(classificação)"
      ],
      "execution_count": 0,
      "outputs": [
        {
          "output_type": "stream",
          "text": [
            "Digite a altura: 1.60\n",
            "Digite a peso: 60\n",
            "A\n"
          ],
          "name": "stdout"
        }
      ]
    },
    {
      "cell_type": "markdown",
      "metadata": {
        "id": "4PxfS64T0Gkj",
        "colab_type": "text"
      },
      "source": [
        "12. Faça um programa que receba:\n",
        "\n",
        "- O código de um produto comprado, supondo que a digitação do código do produto seja sempre válida, isto é, um número inteiro entre 1 e 10.\n",
        "- O peso do produto em quilos.\n",
        "- O código do país de origem, supondo que a digitação do código seja sempre válida, isto é, um número inteiro entre 1 e 3. \n",
        "\n",
        "Tabelas:\n",
        "\n",
        "| Código do País de Origem | Imposto |\n",
        "|--------------------------|---------|\n",
        "| 1                        | 0%      |\n",
        "| 2                        | 15%     |\n",
        "| 3                        | 25%     |\n",
        "\n",
        "\n",
        "| Código do Produto | Preço por Grama |\n",
        "|-------------------|-----------------|\n",
        "| 1 a 4             | 10              |\n",
        "| 5 a 7             | 25              |\n",
        "| 8 a 10            | 35              |"
      ]
    },
    {
      "cell_type": "code",
      "metadata": {
        "id": "OepUeUlt0Gkk",
        "colab_type": "code",
        "colab": {}
      },
      "source": [
        ""
      ],
      "execution_count": 0,
      "outputs": []
    },
    {
      "cell_type": "markdown",
      "metadata": {
        "id": "OhQn5v0n0Gkm",
        "colab_type": "text"
      },
      "source": [
        "13. Escreva um programa que calcule o quadrado e o cubo dos números de 0 a 10, e imprima os valores em forma de tabela. Número | Quadrado | Cubo"
      ]
    },
    {
      "cell_type": "code",
      "metadata": {
        "id": "MO7K_NO10Gkn",
        "colab_type": "code",
        "outputId": "e66cdb16-cff0-4f80-f8d8-d43cb2482aab",
        "colab": {
          "base_uri": "https://localhost:8080/",
          "height": 85
        }
      },
      "source": [
        "array = []\n",
        "a = float(input(\"Digite um numero: \"))\n",
        "b = float(input(\"Digite outro numero: \"))\n",
        "array.append(a)\n",
        "array.append(b)\n",
        "\n",
        "for i in range(len(array)):\n",
        "  print(f'{array[i]} | Quadrado: {array[i] ** 2} | Cubo: {array[i] ** 3}')"
      ],
      "execution_count": 0,
      "outputs": [
        {
          "output_type": "stream",
          "text": [
            "Digite um numero: 3\n",
            "Digite outro numero: 4\n",
            "3.0 | Quadrado: 9.0 | Cubo: 27.0\n",
            "4.0 | Quadrado: 16.0 | Cubo: 64.0\n"
          ],
          "name": "stdout"
        }
      ]
    },
    {
      "cell_type": "markdown",
      "metadata": {
        "id": "A1url6oC0Gkp",
        "colab_type": "text"
      },
      "source": [
        "14. Um funcionário de uma empresa recebe, anualmente, aumento salarial. Sabe-se que:\n",
        "\n",
        "- Esse funcionário foi contratado em 2005, com salário inicial de R\\\\$ 1.000,00.\n",
        "- Em 2006, ele recebeu aumento de 1,5% sobre seu salário inicial.\n",
        "- A partir de 2007 (inclusive), os aumentos salariais sempre corresponderam ao dobro do percentual do ano anterior.\n",
        "\n",
        "Faça um programa que determine o salário atual desse funcionário."
      ]
    },
    {
      "cell_type": "code",
      "metadata": {
        "id": "sXqxPVJC0Gkq",
        "colab_type": "code",
        "outputId": "4f14526f-5be6-4146-f688-5ac8fe487277",
        "colab": {
          "base_uri": "https://localhost:8080/",
          "height": 34
        }
      },
      "source": [
        "salarioInicial = 1000.0\n",
        "salarioAtual = 0\n",
        "percentual = 0.015\n",
        "novoAumento = 0\n",
        "datas = [2006, 2007, 2008, 2009, 2010, 2011, 2012, 2013, 2014, 2015, 2016, 2017, 2018, 2019, 2020]\n",
        "\n",
        "for i in range(len(datas)):\n",
        "  novoAumento += percentual\n",
        "  salarioAtual = salarioInicial + (salarioInicial * novoAumento)\n",
        "\n",
        "print(salarioAtual)"
      ],
      "execution_count": 0,
      "outputs": [
        {
          "output_type": "stream",
          "text": [
            "1225.0\n"
          ],
          "name": "stdout"
        }
      ]
    },
    {
      "cell_type": "markdown",
      "metadata": {
        "id": "SODiVEMH0Gks",
        "colab_type": "text"
      },
      "source": [
        "15. Foi feita uma pesquisa para determinar o índice de mortalidade infantil em certo período. Faça um programa que:\n",
        "\n",
        "- Leia o número de crianças nascidas no período;\n",
        "- Identifique o sexo (M ou F) e o tempo de vida de cada criança nascida.\n",
        "\n",
        "O programa deve calcular e mostrar:\n",
        "\n",
        "- A porcentagem de crianças do sexo feminino mortas no período;\n",
        "- A porcentagem de crianças do sexo masculino mortas no período;\n",
        "- A porcentagem de crianças que viveram 24 meses ou menos no período."
      ]
    },
    {
      "cell_type": "code",
      "metadata": {
        "id": "p9gVkHa-0Gkt",
        "colab_type": "code",
        "colab": {}
      },
      "source": [
        ""
      ],
      "execution_count": 0,
      "outputs": []
    },
    {
      "cell_type": "markdown",
      "metadata": {
        "id": "NHIDtelg0Gku",
        "colab_type": "text"
      },
      "source": [
        "16. Faça um programa que receba duas notas de seis alunos. Calcule e mostre:\n",
        "\n",
        "- A média aritmética das duas notas de cada aluno; e\n",
        "- A mensagem que está na tabela a seguir:\n",
        "- O total de alunos aprovados;\n",
        "- O total de alunos de exame;\n",
        "- O total de alunos reprovados;\n",
        "- A média da classe.\n",
        "\n",
        "| Média Aritmética | Situação       |\n",
        "|------------------|----------------|\n",
        "| Entre 0 e 29     | Reprovado      |\n",
        "| Entre 30 e 69    | Exame Especial |\n",
        "| Entre 70 e 100   | Aprovado       |\n"
      ]
    },
    {
      "cell_type": "code",
      "metadata": {
        "id": "VzTJ0QSn0Gkv",
        "colab_type": "code",
        "outputId": "2334c97d-bbc9-4d56-b36c-cb06c9f3ac29",
        "colab": {
          "base_uri": "https://localhost:8080/",
          "height": 391
        }
      },
      "source": [
        "medias = []\n",
        "aprovados = 0\n",
        "exameEspecial = 0\n",
        "reprovados = 0\n",
        "situacao = ''\n",
        "for i in range(6):\n",
        "  nota1 = float(input(\"Digite a primiera nota: \"))\n",
        "  nota2 = float(input(\"Digite a segunda nota: \"))\n",
        "  media = (nota1 + nota2) / 2\n",
        "  if media < 29.0:\n",
        "    situacao = 'Reprovado com média '\n",
        "    reprovados += 1\n",
        "  elif media <= 69.0:\n",
        "    situacao = 'Exame especial'\n",
        "    exameEspecial += 1\n",
        "  else:\n",
        "    situacao = 'Aprovado'\n",
        "    aprovados += 1\n",
        "  \n",
        "  print(\"Situação: \" + str(situacao + \"\\nMédia: \" + srt(media))\n",
        "  medias.append(media)\n",
        "\n",
        "print(\"Aprovado: \" + str (aprovados)\n",
        "print(\"Reprovado: \" + str (reprovados)\n",
        "print((\"Exame Especial: \" + str (exameEspecial)\n",
        "mediaGeral = 0\n",
        "for i in range(len(medias)):\n",
        "  mediaGeral += medias[i]\n",
        "print(\"A media total da calsse foi\" + str (mediaGeral / len(medias))\n",
        "\n",
        "\n",
        "\n",
        "\n"
      ],
      "execution_count": 70,
      "outputs": [
        {
          "output_type": "stream",
          "text": [
            "Digite a primiera nota: 3\n",
            "Digite a segunda nota: 2\n",
            "Reprovado com média  - média 2.5\n",
            "Digite a primiera nota: 1\n",
            "Digite a segunda nota: 2\n",
            "Reprovado com média  - média 1.5\n",
            "Digite a primiera nota: 3\n",
            "Digite a segunda nota: 3\n",
            "Reprovado com média  - média 3.0\n",
            "Digite a primiera nota: 2\n",
            "Digite a segunda nota: 3\n",
            "Reprovado com média  - média 2.5\n",
            "Digite a primiera nota: 3\n",
            "Digite a segunda nota: 3\n",
            "Reprovado com média  - média 3.0\n",
            "Digite a primiera nota: 2\n",
            "Digite a segunda nota: 1\n",
            "Reprovado com média  - média 1.5\n",
            "O total de alunos aprovados foi {aprovados}\n",
            "O total de alunos reprovados foi 6\n",
            "O total de alunos em exame especial foi 0\n",
            "A media da classe foi 2.3333333333333335\n"
          ],
          "name": "stdout"
        }
      ]
    },
    {
      "cell_type": "markdown",
      "metadata": {
        "id": "KnJo44850Gky",
        "colab_type": "text"
      },
      "source": [
        "17. Faça um programa para calcular a área de um triângulo e que não permita a entrada de dados inválidos, ou seja, medidas menores ou iguais a 0."
      ]
    },
    {
      "cell_type": "code",
      "metadata": {
        "id": "VS95F4BD0Gkz",
        "colab_type": "code",
        "colab": {}
      },
      "source": [
        "dadosValidos = []\n",
        "contador = 0\n",
        "\n",
        "while len(dadosValidos) < 3:\n",
        "  lado = float(input(\"Digite um valor para o lado: \"))\n",
        "  if lado > 0:\n",
        "    dadosValidos.append(lado)\n",
        "  else:\n",
        "    print(\"valor inválido digitado para o lado\")\n",
        "  contador = contador + 1"
      ],
      "execution_count": 0,
      "outputs": []
    },
    {
      "cell_type": "markdown",
      "metadata": {
        "id": "LJqPlGaU0Gk0",
        "colab_type": "text"
      },
      "source": [
        "18. Faça um programa que leia um conjunto não determinado de valores e mostre o valor lido, seu quadrado, seu cubo e sua raiz quadrada. Finalize a entrada de dados com um valor negativo ou zero."
      ]
    },
    {
      "cell_type": "code",
      "metadata": {
        "id": "KNRy9btL0Gk1",
        "colab_type": "code",
        "colab": {}
      },
      "source": [
        "while 1 == 1:\n",
        "  a = float(input(\"Digite um numero: \"))\n",
        "  if a > 0:\n",
        "    print(\"numero\" + str (a) + |+ \"quadrado\" + str (a ** 2) + | + \"cubo\" + str(a ** 3) + | + \"raiz quadrada\" + str (a ** 0.5))\n",
        "  else:\n",
        "    print(\"numero invalido\")\n",
        "    break\n",
        "    "
      ],
      "execution_count": 0,
      "outputs": []
    },
    {
      "cell_type": "markdown",
      "metadata": {
        "id": "Uf0uahzb0Gk3",
        "colab_type": "text"
      },
      "source": [
        "\n",
        "19. Faça um programa que leia um número não determinado de pares de valores [m,n], todos inteiros e positivos, um par de cada vez, e que calcule e mostre a soma de todos os números inteiros entre m e n (inclusive). A digitação de pares terminará quando m for maior ou igual a n."
      ]
    },
    {
      "cell_type": "code",
      "metadata": {
        "id": "mk0xKbuc0Gk4",
        "colab_type": "code",
        "colab": {}
      },
      "source": [
        "\n",
        "contador = 0\n",
        "soma = 0\n",
        "valor = []\n",
        "while 1 == 1:\n",
        "  m = int(input())\n",
        "  n = int(input())\n",
        "  valor.append(m)\n",
        "  valor.append(n)\n",
        "  if m >= n:\n",
        "    print('M maior ou igual a N')\n",
        "    break\n",
        "  \n",
        "  contador += 1\n",
        "for i in range(len(valor)):\n",
        "    soma += valor[i]\n",
        "print(\"A soma dos numeros é\" + str(soma))\n",
        "\n"
      ],
      "execution_count": 0,
      "outputs": []
    },
    {
      "cell_type": "markdown",
      "metadata": {
        "id": "qmQhcbY20Gk7",
        "colab_type": "text"
      },
      "source": [
        "20. Faça um programa que receba vários números, calcule e mostre:\n",
        "\n",
        "    - A soma dos números digitados;\n",
        "    - A quantidade de números digitados;\n",
        "    - A média dos números digitados;\n",
        "    - O maior número digitado;\n",
        "    - O menor número digitado;\n",
        "    - A média dos números pares;\n",
        "    - A porcentagem dos números ímpares entre todos os números digitados.\n",
        "\n",
        "Finalize a entrada de dados com a digitação do número 0."
      ]
    },
    {
      "cell_type": "code",
      "metadata": {
        "id": "u5YmysfJ0Gk8",
        "colab_type": "code",
        "colab": {}
      },
      "source": [
        "contador = 0\n",
        "valor = []\n",
        "soma = 0\n",
        "while 1 == 1:\n",
        "  num = float(input(\"Digite um número: \"))\n",
        "  if num != 0:\n",
        "    soma += num\n",
        "    valor.append(num)\n",
        "  else:\n",
        "    break\n",
        "\n",
        "\n",
        "print(\"O resultado da soma dos números é :\" + str(soma))\n",
        "print(\"Quantidade de números digitados é: \"+ str(len(valor))\n",
        "print(\" Média dos números: \"+str+(soma / len(valor))\n",
        "\n",
        "maior = 1\n",
        "for i in range(len(valor)):\n",
        "  if valor[i] > maior:\n",
        "    maior = valor[i]\n",
        "print(\"O maior número digitado:\" + str(maior)\n",
        "\n",
        "\n",
        "for i in range(len(valor)):\n",
        "  menor = valor[i]\n",
        "  if valor[i] < menor:\n",
        "    menor = valor[i]\n",
        "print(\"O menor número digitado:\" + str(menor)) \n",
        "\n",
        "totalPares = 0\n",
        "pares = 0\n",
        "for i in range(len(valor)):\n",
        "  if valor[i] % 2 == 0:\n",
        "    totalPares += vet[i]\n",
        "    pares += 1\n",
        "    \n",
        "print(\"A média dos números pares:\" + str (totalPares / pares))\n",
        "\n",
        "impar = 0\n",
        "for i in range(len(valor)):\n",
        "  if valor[i] % 2 != 0:\n",
        "    impar += 1\n",
        "\n",
        "print(\"A porcentagem dos números ímpares\" + str(impar / len(valor)) * 100)%)"
      ],
      "execution_count": 0,
      "outputs": []
    }
  ]
}